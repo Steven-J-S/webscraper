{
 "metadata": {
  "language_info": {
   "codemirror_mode": {
    "name": "ipython",
    "version": 3
   },
   "file_extension": ".py",
   "mimetype": "text/x-python",
   "name": "python",
   "nbconvert_exporter": "python",
   "pygments_lexer": "ipython3",
   "version": "3.9.4"
  },
  "orig_nbformat": 2,
  "kernelspec": {
   "name": "python394jvsc74a57bd0e0690e508fef53b99f4ba3845cae9b475c5b0d493f24132d5a231ec68d2eb449",
   "display_name": "Python 3.9.4 64-bit ('tm-digit': conda)"
  }
 },
 "nbformat": 4,
 "nbformat_minor": 2,
 "cells": [
  {
   "source": [
    "# Scraper voor Schoolgidsen\n",
    "In deze notebook staat de code voor de scraper die schoolgidsen van het web download en opslaat."
   ],
   "cell_type": "markdown",
   "metadata": {}
  },
  {
   "source": [
    "## Import Packages\n",
    "These cells import necessary packages."
   ],
   "cell_type": "markdown",
   "metadata": {}
  },
  {
   "cell_type": "code",
   "execution_count": 1,
   "metadata": {},
   "outputs": [],
   "source": [
    "import requests\n",
    "from requests import get\n",
    "from requests.exceptions import RequestException\n",
    "from contextlib import closing\n",
    "from bs4 import BeautifulSoup\n",
    "from time import sleep, strftime\n",
    "import pandas as pd\n",
    "import numpy as np\n",
    "import datetime as dt\n",
    "import os\n",
    "import re\n",
    "from random import randint"
   ]
  },
  {
   "cell_type": "code",
   "execution_count": 5,
   "metadata": {
    "tags": []
   },
   "outputs": [],
   "source": [
    "def get_links(page_url):\n",
    "    # Wrapper voor de get_links_r functie, base wordt hier geinitieerd\n",
    "    pages = set()\n",
    "    downloads = set()\n",
    "    # Url append met http://\n",
    "    page_url = beautify_url(page_url)\n",
    "    # Vind alle links op webpagina en subpagina's\n",
    "    get_links_r(pages, downloads, '', page_url)\n",
    "    return pages, downloads\n",
    "\n",
    "def get_links_r(pages, downloads, page_url, base):\n",
    "    # Deze functie verzamelt alle subpagina's vanaf het hoofddomein\n",
    "    # Lees html en parse naar leesbaar bestand (soup)\n",
    "    pattern = re.compile(\"^(/)\")\n",
    "    try:\n",
    "        html = requests.get(f\"{base+page_url}\").text # fstrings require Python 3.6+\n",
    "    except:\n",
    "        return\n",
    "    soup = BeautifulSoup(html, \"html.parser\")\n",
    "    # Loop over soup, vind alle links met anchor <a>\n",
    "    for link in soup.find_all(\"a\"):\n",
    "        if \"href\" in link.attrs:\n",
    "            new_page = link.attrs[\"href\"]\n",
    "            if new_page not in pages:\n",
    "                #print(new_page)\n",
    "                pages.add(new_page)\n",
    "                if new_page[-4:] == '.pdf' or new_page[-4:] == '.doc' or new_page[-5:] == '.docx':\n",
    "                    downloads.add(base+new_page)\n",
    "                get_links_r(pages, downloads, new_page, base)"
   ]
  },
  {
   "cell_type": "code",
   "execution_count": 6,
   "metadata": {},
   "outputs": [],
   "source": [
    "def find_downloads(page_url):\n",
    "    # Deze functie vind .pdf/.doc/.docx file op de pagina 'page_url'\n",
    "    pattern = re.compile(\"^(/)\")\n",
    "    html = requests.get(f\"{page_url}\").text # fstrings require Python 3.6+\n",
    "    soup = BeautifulSoup(html, \"html.parser\")\n",
    "    for link in soup.find_all(\"a\", href=pattern):\n",
    "        if \"href\" in link.attrs:\n",
    "            href = str(link.attrs[\"href\"])\n",
    "            if href[-4:] == '.pdf' or href[-4:] == '.doc' or href[-5:] == '.docx':\n",
    "                return href\n"
   ]
  },
  {
   "cell_type": "code",
   "execution_count": 7,
   "metadata": {},
   "outputs": [],
   "source": [
    "def download_file(page_url, path):\n",
    "    # Deze functie download de file in page_url naar path\n",
    "    # Append http://\n",
    "    page_url = beautify_url(page_url)\n",
    "\n",
    "    r = requests.get(page_url)\n",
    "    slash_index = page_url.rfind('/')\n",
    "    fname = page_url[slash_index:]\n",
    "    with open(path + fname, \"wb\") as file:\n",
    "        file.write(r.content)"
   ]
  },
  {
   "cell_type": "code",
   "execution_count": 8,
   "metadata": {},
   "outputs": [],
   "source": [
    "def beautify_url(url):\n",
    "    # Deze functie plakt http:// voor de url als deze er niet staat\n",
    "    new_url = url\n",
    "    if url[:4] != 'http':\n",
    "        new_url = 'http://' + url\n",
    "    if url[-1:] != '/':\n",
    "        new_url = new_url + '/'\n",
    "    return new_url"
   ]
  },
  {
   "cell_type": "code",
   "execution_count": 6,
   "metadata": {},
   "outputs": [],
   "source": [
    "## Veel voorkomende hrefs in een <a> anchor (link)\n",
    "# /                                                     <- skip\n",
    "# /<href>                                               <- (meest voorkomende href format), b_url + href\n",
    "# <url>/<href>                                          <- beautify, en gebruik\n",
    "# <b_url>/<href>                                        <- gebruik\n",
    "# /<url>                                                <- remove / en gebruik\n",
    "# #                                                     <- skip\n",
    "# #<iets>                                               <- / + href gebruik\n",
    "# mailto:, javascript: (iets met :)                     <- skip\n",
    "# //<url>                                               <- remove //\n",
    "# <iets>.jpg, <iets>.png (ongwenste file formats)       <- skip\n",
    "# facebook, instagram (verwijzing naar externe site)    <- skip\n",
    "# .index<iets>                                          <- skip\n",
    "\n",
    "# [.index, facebook, instagram, linkedin, google, .jpg, .png, :, #]\n",
    "\n",
    "# def parse_href():\n",
    "# try:\n",
    "# href, b_url+href, b_url+/+href\n",
    "# skip:\n",
    "# :, .<unwanted_file_format>, <external_site>, "
   ]
  },
  {
   "cell_type": "code",
   "execution_count": 9,
   "metadata": {},
   "outputs": [],
   "source": [
    "def parse_href(href):\n",
    "    # deze functie controleert een href uit een <a> anchor op veelvoorkomende href formats en geeft een (hopelijk) werkende url terug\n",
    "    skip = ['.index', 'facebook', 'instagram', 'linkedin', 'google', '.jpg', '.png', ':', '#']\n",
    "    if not any(s in href for s in skip) or href!='/' or href!='#' or href!='':\n",
    "        print('False')\n"
   ]
  },
  {
   "cell_type": "code",
   "execution_count": 18,
   "metadata": {},
   "outputs": [
    {
     "output_type": "stream",
     "name": "stdout",
     "text": [
      "False\n"
     ]
    }
   ],
   "source": [
    "# skip url if contains:\r\n",
    "skip = ['.index', 'facebook', 'instagram', 'linkedin', 'google', '.jpg', '.png', ':', '#']\r\n",
    "if not any(s in url for s in skip):\r\n",
    "    print('False')\r\n",
    "\r\n",
    "# skip if url only / or only #\r\n",
    "# if [0] not / add /, if [0] is /, check if [1] is / -> make one /\r\n",
    "# if url in href geef aan beautify\r\n",
    "# if b_url in href, continue"
   ]
  },
  {
   "cell_type": "code",
   "execution_count": 15,
   "metadata": {},
   "outputs": [
    {
     "output_type": "execute_result",
     "data": {
      "text/plain": [
       "'www.debronbarneveld.nl'"
      ]
     },
     "metadata": {},
     "execution_count": 15
    }
   ],
   "source": [
    "url"
   ]
  },
  {
   "cell_type": "code",
   "execution_count": 4,
   "metadata": {},
   "outputs": [
    {
     "output_type": "execute_result",
     "data": {
      "text/plain": [
       "13865"
      ]
     },
     "metadata": {},
     "execution_count": 4
    }
   ],
   "source": [
    "orgs = 'org_url_20210511.txt'\n",
    "orgs_df = pd.read_csv(orgs, delimiter = \"\\t\")\n",
    "urls = orgs_df['URL'][orgs_df['CODE_SOORT']=='BAS'].values\n",
    "len(urls)"
   ]
  },
  {
   "cell_type": "code",
   "execution_count": 26,
   "metadata": {
    "tags": []
   },
   "outputs": [
    {
     "output_type": "stream",
     "name": "stdout",
     "text": [
      "dlo.aerobe.net\n",
      "dlo.aerobe.net\n"
     ]
    }
   ],
   "source": [
    "orgs = 'org_url_20210511.txt'\n",
    "orgs_df = pd.read_csv(orgs, delimiter = \"\\t\")\n",
    "urls = orgs_df['URL'][orgs_df['CODE_SOORT']=='BAS'].values\n",
    "exceptions = set()\n",
    "\n",
    "count = 0\n",
    "count_max = 500\n",
    "\n",
    "for url in urls:\n",
    "    b_url = beautify_url(url)\n",
    "    #pattern = re.compile(\"^(/)\")\n",
    "    try:\n",
    "        html = requests.get(b_url).text\n",
    "    except:\n",
    "        exceptions.add(url)\n",
    "        continue # exceptions opslaan\n",
    "    soup = BeautifulSoup(html)\n",
    "    #print(url)\n",
    "    for link in soup.find_all(\"a\"):\n",
    "        if 'href' in link.attrs:\n",
    "            href = str(link.get('href'))\n",
    "            if href != '':\n",
    "                if 'https://' not in href and 'http://' not in href and url not in href and b_url not in href and '#' not in href and ':' not in href and 'facebook' not in href and                        'instagram'  not in href and href[0]!='/' and 'index' not in href and href[-1]!='/' and '/' not in href:\n",
    "                    #print(link.attrs['href'])\n",
    "                    print(href)\n",
    "    count += 1\n",
    "    if count == count_max: break\n",
    "\n",
    "print('End')"
   ]
  },
  {
   "cell_type": "code",
   "execution_count": 3,
   "metadata": {},
   "outputs": [
    {
     "output_type": "execute_result",
     "data": {
      "text/plain": [
       " menu-item-type-post_type menu-item-object-page menu-item-4402\" id=\"menu-item-4402\"><a href=\"https://www.berseba.nl/ouders/\" title=\"Ouders\"><span>Ouders</span></a></li>\n",
       "<li class=\"divider\" role=\"presentation\"></li>\n",
       "<li class=\"menu-item menu-item-type-post_type menu-item-object-page menu-item-4273\" id=\"menu-item-4273\"><a href=\"https://www.berseba.nl/ouders/zorgplicht-schoolbestuur/\" title=\"Zorgplicht schoolbestuur\"><span>Zorgplicht schoolbestuur</span></a></li>\n",
       "<li class=\"menu-item menu-item-type-post_type menu-item-object-page menu-item-4274\" id=\"menu-item-4274\"><a href=\"https://www.berseba.nl/ouders/aanmelding-school/\" title=\"Aanmelding school\"><span>Aanmelding school</span></a></li>\n",
       "<li class=\"menu-item menu-item-type-post_type menu-item-object-page menu-item-4275\" id=\"menu-item-4275\"><a href=\"https://www.berseba.nl/ouders/ondersteuningsteam-taak-en-rol/\" title=\"Ondersteuningsteam\"><span>Ondersteuningsteam</span></a></li>\n",
       "<li class=\"menu-item menu-item-type-post_type menu-item-object-page menu-item-4276\" id=\"menu-item-4276\"><a href=\"https://www.berseba.nl/ouders/bemiddeling/\" title=\"Bemiddeling\"><span>Bemiddeling</span></a></li>\n",
       "<li class=\"menu-item menu-item-type-post_type menu-item-object-page menu-item-4277\" id=\"menu-item-4277\"><a href=\"https://www.berseba.nl/ouders/bezwaren-en-klachten/\" title=\"Bezwaren en klachten\"><span>Bezwaren en klachten</span></a></li>\n",
       "<li class=\"menu-item menu-item-type-post_type menu-item-object-page menu-item-4278\" id=\"menu-item-4278\"><a href=\"https://www.berseba.nl/ouders/belangenorganisaties/\" title=\"Belangenorganisaties\"><span>Belangenorganisaties</span></a></li>\n",
       "<li class=\"menu-item menu-item-type-post_type menu-item-object-page menu-item-4279\" id=\"menu-item-4279\"><a href=\"https://www.berseba.nl/ouders/contact-met-swv/\" title=\"Contact met SWV\"><span>Contact met SWV</span></a></li>\n",
       "</ul>\n",
       "</li>\n",
       "<li class=\"menu-item menu-item-type-post_type menu-item-object-page menu-item-has-children menu-item-4243 dropdown\" id=\"menu-item-4243\"><a aria-haspopup=\"true\" class=\"dropdown-toggle\" data-toggle=\"dropdown\" href=\"#\" title=\"Partners\"><span>Partners</span> <span class=\"caret\"></span></a>\n",
       "<ul class=\"dropdown-menu\" role=\"menu\">\n",
       "<li class=\"menu-item menu-item-type-post_type menu-item-object-page menu-item-4403\" id=\"menu-item-4403\"><a href=\"https://www.berseba.nl/partners/\" title=\"Partners\"><span>Partners</span></a></li>\n",
       "<li class=\"divider menu-item menu-item-type-custom menu-item-object-custom menu-item-4414\" id=\"menu-item-4414\"><a href=\"#\" title=\"--------------\"><span>————–</span></a></li>\n",
       "<li class=\"menu-item menu-item-type-post_type menu-item-object-page menu-item-4244\" id=\"menu-item-4244\"><a href=\"https://www.berseba.nl/partners/gemeenten-en-jeugdhulp/\" title=\"Gemeenten en jeugdhulp\"><span>Gemeenten en jeugdhulp</span></a></li>\n",
       "<li class=\"menu-item menu-item-type-post_type menu-item-object-page menu-item-5042\" id=\"menu-item-5042\"><a href=\"https://www.berseba.nl/partners/hogeschool-driestar-educatief/\" title=\"Hogeschool Driestar Educatief\"><span>Hogeschool Driestar Educatief</span></a></li>\n",
       "<li class=\"menu-item menu-item-type-post_type menu-item-object-page menu-item-4280\" id=\"menu-item-4280\"><a href=\"https://www.berseba.nl/partners/inspectie/\" title=\"Inspectie\"><span>Inspectie</span></a></li>\n",
       "<li class=\"menu-item menu-item-type-post_type menu-item-object-page menu-item-4282\" id=\"menu-item-4282\"><a href=\"https://www.berseba.nl/partners/cluster-1/\" title=\"Cluster 1\"><span>Cluster 1</span></a></li>\n",
       "<li class=\"menu-item menu-item-type-post_type menu-item-object-page menu-item-4281\" id=\"menu-item-4281\"><a href=\"https://www.berseba.nl/partners/cluster-2/\" title=\"Cluster 2\"><span>Cluster 2</span></a></li>\n",
       "<li class=\"menu-item menu-item-type-post_type menu-item-object-page menu-item-4327\" id=\"menu-item-4327\"><a href=\"https://www.berseba.nl/partners/epilepsie/\" title=\"Epilepsie\"><span>Epilepsie</span></a></li>\n",
       "<li class=\"menu-item menu-item-type-post_type menu-item-object-page menu-item-4328\" id=\"menu-item-4328\"><a href=\"https://www.berseba.nl/partners/voorschoolse-opvang/\" title=\"Voorschoolse opvang\"><span>Voorschoolse opvang</span></a></li>\n",
       "<li class=\"menu-item menu-item-type-post_type menu-item-object-page menu-item-has-children menu-item-4329 dropdown\" id=\"menu-item-4329\"><a href=\"https://www.berseba.nl/partners/voortgezet-onderwijs/\" title=\"Voortgezet onderwijs\"><span>Voortgezet onderwijs</span></a></li>\n",
       "</ul>\n",
       "</li>\n",
       "<li class=\"menu-item menu-item-type-post_type menu-item-object-page menu-item-has-children menu-item-4331 dropdown\" id=\"menu-item-4331\"><a aria-haspopup=\"true\" class=\"dropdown-toggle\" data-toggle=\"dropdown\" href=\"#\" title=\"Regio’s\"><span>Regio’s</span> <span class=\"caret\"></span></a>\n",
       "<ul class=\"dropdown-menu\" role=\"menu\">\n",
       "<li class=\"menu-item menu-item-type-post_type menu-item-object-page menu-item-4404\" id=\"menu-item-4404\"><a href=\"https://www.berseba.nl/regios/\" title=\"Regio’s\"><span>Regio’s</span></a></li>\n",
       "<li class=\"divider menu-item menu-item-type-custom menu-item-object-custom menu-item-4413\" id=\"menu-item-4413\"><a href=\"#\" title=\"--------------\"><span>————–</span></a></li>\n",
       "<li class=\"menu-item menu-item-type-post_type menu-item-object-page menu-item-has-children menu-item-4332 dropdown\" id=\"menu-item-4332\"><a href=\"https://www.berseba.nl/regios/noordoost/\" title=\"Noordoost\"><span>Noordoost</span></a></li>\n",
       "<li class=\"menu-item menu-item-type-post_type menu-item-object-page menu-item-has-children menu-item-4439 dropdown\" id=\"menu-item-4439\"><a href=\"https://www.berseba.nl/regios/midden/\" title=\"Midden\"><span>Midden</span></a></li>\n",
       "<li class=\"menu-item menu-item-type-post_type menu-item-object-page menu-item-has-children menu-item-4295 dropdown\" id=\"menu-item-4295\"><a href=\"https://www.berseba.nl/regios/randstad/\" title=\"Randstad\"><span>Randstad</span></a></li>\n",
       "<li class=\"menu-item menu-item-type-post_type menu-item-object-page menu-item-has-children menu-item-4297 dropdown\" id=\"menu-item-4297\"><a href=\"https://www.berseba.nl/regios/zeeland/\" title=\"Zeeland\"><span>Zeeland</span></a></li>\n",
       "</ul>\n",
       "</li>\n",
       "<li class=\"menu-item menu-item-type-post_type menu-item-object-page menu-item-has-children menu-item-4436 dropdown\" id=\"menu-item-4436\"><a aria-haspopup=\"true\" class=\"dropdown-toggle\" data-toggle=\"dropdown\" href=\"#\" title=\"Communicatie\"><span>Communicatie</span> <span class=\"caret\"></span></a>\n",
       "<ul class=\"dropdown-menu\" role=\"menu\">\n",
       "<li class=\"menu-item menu-item-type-post_type menu-item-object-page menu-item-4438\" id=\"menu-item-4438\"><a href=\"https://www.berseba.nl/communicatie/\" title=\"Communicatie\"><span>Communicatie</span></a></li>\n",
       "<li class=\"divider menu-item menu-item-type-custom menu-item-object-custom menu-item-4415\" id=\"menu-item-4415\"><a href=\"#\" title=\"--------------\"><span>————–</span></a></li>\n",
       "<li class=\"menu-item menu-item-type-post_type menu-item-object-page menu-item-4248\" id=\"menu-item-4248\"><a href=\"https://www.berseba.nl/communicatie/nieuwsbrieven/\" title=\"Nieuwsbrieven\"><span>Nieuwsbrieven</span></a></li>\n",
       "<li class=\"menu-item menu-item-type-taxonomy menu-item-object-category menu-item-4889\" id=\"menu-item-4889\"><a href=\"https://www.berseba.nl/actualiteiten/algemeen/\" title=\"Actualiteiten\"><span>Actualiteiten</span></a></li>\n",
       "<li class=\"menu-item menu-item-type-post_type menu-item-object-page menu-item-4326\" id=\"menu-item-4326\"><a href=\"https://www.berseba.nl/communicatie/digitaal-platform/\" title=\"Kennisbank\"><span>Kennisbank</span></a></li>\n",
       "<li class=\"menu-item menu-item-type-post_type menu-item-object-page menu-item-7586\" id=\"menu-item-7586\"><a href=\"https://www.berseba.nl/communicatie/ontwikkelingen-passend-onderwijs/\" title=\"Ontwikkelingen passend onderwijs\"><span>Ontwikkelingen passend onderwijs</span></a></li>\n",
       "</ul>\n",
       "</li>\n",
       "<li class=\"visible-xs visible-sm menu-item menu-item-type-custom menu-item-object-custom menu-item-4430\" id=\"menu-item-4430\"><a href=\"https://login.microsoftonline.com/login.srf?wa=wsignin1.0&amp;rpsnv=3&amp;ct=1402042863&amp;rver=6.1.6206.0&amp;wp=MBI&amp;wreply=https%3A%2F%2Fberseba.sharepoint.com%2F_forms%2Fdefault.aspx&amp;lc=1033&amp;id=500046&amp;guests=1\" title=\"Inloggen\"><span>Inloggen</span></a></li>\n",
       "<li class=\"visible-xs visible-sm menu-item menu-item-type-post_type menu-item-object-page menu-item-4428\" id=\"menu-item-4428\"><a href=\"https://www.berseba.nl/contact/\" title=\"Contact\"><span>Contact</span></a></li>\n",
       "</ul></div> </div>\n",
       "</div>\n",
       "</div>\n",
       "</div>\n",
       "</div>\n",
       "</div>\n",
       "<!-- Main Header -->\n",
       "<!-- Page -->\n",
       "<div class=\"container\" id=\"wrapper\">\n",
       "<div class=\"row\">\n",
       "<div class=\"content col-md-12\" id=\"main-content\" role=\"main\">\n",
       "<article class=\"post-5 page type-page status-publish hentry\" id=\"post-5\">\n",
       "<header class=\"entry-header\"><h1 class=\"entry-title\">De beste onderwijsplek</h1></header>\n",
       "<div class=\"entry-content\">\n",
       "<p>De Vereniging Reformatorisch Passend Onderwijs is het landelijk reformatorisch samenwerkingsverband voor primair en speciaal onderwijs. Hierbij zijn alle honderdzeventig reformatorische basisscholen en speciale (basis)scholen aangesloten. Op onze scholen neemt de Bijbel, als het Woord van God, een centrale plaats in. Samen zorgen we voor passend onderwijs voor bijna veertigduizend leerlingen. <a href=\"http://www.berseba.nl/contact/\"><strong>Klik hier voor meer informatie</strong>. </a></p>\n",
       "<p><a class=\"btn btn-pink\" href=\"https://www.berseba.nl/communicatie/ontwikkelingen-passend-onderwijs/\" rel=\"noopener noreferrer\">Ontwikkelingen passend onderwijs</a><a href=\"https://www.berseba.nl/communicatie/evaluatie-passend-onderwijs/\"><img alt=\"\" class=\"wp-image-7637 alignleft\" height=\"118\" loading=\"lazy\" sizes=\"(max-width: 159px) 100vw, 159px\" src=\"https://www.berseba.nl/wp-content/uploads/2020/11/BERSEBA-brochure-mockup-e1604572830396-300x222.png\" srcset=\"https://www.berseba.nl/wp-content/uploads/2020/11/BERSEBA-brochure-mockup-e1604572830396-300x222.png 300w, https://www.berseba.nl/wp-content/uploads/2020/11/BERSEBA-brochure-mockup-e1604572830396-1024x757.png 1024w, https://www.berseba.nl/wp-content/uploads/2020/11/BERSEBA-brochure-mockup-e1604572830396-768x567.png 768w, https://www.berseba.nl/wp-content/uploads/2020/11/BERSEBA-brochure-mockup-e1604572830396-1536x1135.png 1536w, https://www.berseba.nl/wp-content/uploads/2020/11/BERSEBA-brochure-mockup-e1604572830396.png 1945w\" width=\"159\"/></a></p>\n",
       "</div>\n",
       "</article>\n",
       "</div>\n",
       "</div>\n",
       "</div>\n",
       "<!-- Page -->\n",
       "<!-- Info -->\n",
       "<div class=\"info\">\n",
       "<div class=\"container\">\n",
       "<div class=\"row\">\n",
       "<div class=\"col-xs-12 col-md-6\">\n",
       "<div class=\"info__video\">\n",
       "<div class=\"aa qq\">\n",
       "<span class=\"placeholder ee\" style=\"background: url('https://www.berseba.nl/wp-content/uploads/2017/11/animatie.png');\"></span>\n",
       "<iframe allowfullscreen=\"\" frameborder=\"0\" height=\"315\" src=\"https://www.youtube.com/embed/2KiFAAkoLhU?wmode=opaque&amp;rel=0;hl=nl_NL&amp;autoplay=0&amp;autohide=1&amp;showinfo=0;rel=0\" width=\"100%\"></iframe>\n",
       "</div>\n",
       "</div>\n",
       "</div>\n",
       "<div class=\"col-xs-12 col-md-6\">\n",
       "<div class=\"info__video\">\n",
       "<div class=\"aa cc\">\n",
       "<span <span=\"\" class=\"placeholder ff\" style=\"background: url('https://www.berseba.nl/wp-content/uploads/2017/11/video.png');\"></span>\n",
       "<iframe allowfullscreen=\"\" frameborder=\"0\" height=\"315\" src=\"https://www.youtube.com/embed/cbb9j_XE3Js?wmode=opaque&amp;rel=0;hl=nl_NL&amp;autoplay=0&amp;autohide=1&amp;showinfo=0;rel=0\" width=\"100%\"></iframe>\n",
       "</div>\n",
       "</div>\n",
       "</div>\n",
       "</div>\n",
       "</div>\n",
       "</div>\n",
       "<!-- Info -->\n",
       "<!-- Recently Published -->\n",
       "<div id=\"recently-published\">\n",
       "<div class=\"container\">\n",
       "<div class=\"row\">\n",
       "<div class=\"col-sm-6 col-lg-3 news-item\">\n",
       "<div class=\"news-item__content\">\n",
       "<a href=\"https://www.berseba.nl/beschikkingen-arrangementen-via-kindkans/\"></a>\n",
       "<div class=\"news-item__image\" style=\"background-image: url('https://www.berseba.nl/wp-content/uploads/2019/05/logo-kindkans3-300x208.jpg');\"></div>\n",
       "<small>5 januari 2021</small>\n",
       "<h3>Beschikkingen arrangementen via Kindkans</h3>\n",
       "<p>Regelmatig vragen scholen een arrangement aan bij Het Loket. Als er financiële middelen worden toegekend, stelt Berséba een beschikking op… <a class=\"read-more\" href=\"https://www.berseba.nl/beschikkingen-arrangementen-via-kindkans/\">Meer lezen »</a></p>\n",
       "</div>\n",
       "</div>\n",
       "<div class=\"col-sm-6 col-lg-3 news-item\">\n",
       "<div class=\"news-item__content\">\n",
       "<a href=\"https://www.berseba.nl/even-voorstellen/\"></a>\n",
       "<div class=\"news-item__image\" style=\"background-image: url('https://www.berseba.nl/wp-content/uploads/2020/11/Foto-Kees-N.4-300x200.jpg');\"></div>\n",
       "<small>19 november 2020</small>\n",
       "<h3>Even voorstellen</h3>\n",
       "<p>Mijn naam is Kees Nieuwenhuyzen en per 1 augustus ben ik bestuurder van Berséba. Ik woon met mijn gezin in.. <a class=\"read-more\" href=\"https://www.berseba.nl/even-voorstellen/\">Meer lezen »</a></p>\n",
       "</div>\n",
       "</div>\n",
       "<div class=\"col-sm-6 col-lg-3 news-item\">\n",
       "<div class=\"news-item__content\">\n",
       "<a href=\"https://www.berseba.nl/evaluatie-passend-onderwijs-3/\"></a>\n",
       "<div class=\"news-item__image\" style=\"background-image: url('https://www.berseba.nl/wp-content/uploads/2020/11/Uitgelichte-afbeelding-nieuwsbericht-Peiling-passend-onderwijs-214x300.jpg');\"></div>\n",
       "<small>12 november 2020</small>\n",
       "<h3>Evaluatie passend onderwijs</h3>\n",
       "<p>Evaluatie Passend Onderwijs: hoe nu verder? De evaluatie passend onderwijs is volop in het nieuws! Benieuwd naar de vervolgstappen binnen.. <a class=\"read-more\" href=\"https://www.berseba.nl/evaluatie-passend-onderwijs-3/\">Meer lezen »</a></p>\n",
       "</div>\n",
       "</div>\n",
       "<div class=\"col-sm-6 col-lg-3 news-item\">\n",
       "<div class=\"news-item__content\">\n",
       "<a href=\"https://www.berseba.nl/terugblik-alv-26-oktober-jl/\"></a>\n",
       "<div class=\"news-item__image\" style=\"background-image: url('https://www.berseba.nl/wp-content/uploads/2020/10/lege-stoelen.png');\"></div>\n",
       "<small>29 oktober 2020</small>\n",
       "<h3>Terugblik ALV 26 oktober jl.</h3>\n",
       "<p>Op maandag 26 oktober jl. vond de 8e Algemene Ledenvergadering van Berséba plaats. Vanwege de maatregelen rondom COVID19 werd er.. <a class=\"read-more\" href=\"https://www.berseba.nl/terugblik-alv-26-oktober-jl/\">Meer lezen »</a></p>\n",
       "</div>\n",
       "</div>\n",
       "</div>\n",
       "</div>\n",
       "</div>\n",
       "<!-- Recently Published -->\n",
       "<style>\n",
       "\t\t.info {\n",
       "\t\t\tmargin-bottom: 50px;\n",
       "\t\t}\n",
       "\t\t.info .info__wrapper {\n",
       "\t\t\tpadding: 51px 30px;\n",
       "\t\t\tbackground-color: #fff;\n",
       "\t\t\tborder-radius: 5px;\n",
       "\t\t}\n",
       "\t\t.info .info__title {\n",
       "\t\t\tcolor: #ea640c;\n",
       "\t\t\tmargin: 0 0 10px;\n",
       "\t\t}\n",
       "\t\t.info {\n",
       "\t\t\tposition: relative;\n",
       "\t\t}\n",
       "\t\t.info__video {\n",
       "\t\t\tborder-radius: 5px;\n",
       "\t\t\toverflow: hidden;\n",
       "\t\t}\n",
       "\t\t.info .magazine {\n",
       "\t\t\ttop: -20px;\n",
       "\t\t\tleft: -110px;\n",
       "\t\t\tposition: absolute;\n",
       "\t\t}\n",
       "\t\t.info a {\n",
       "\t\t\tcolor: #6c0209;\n",
       "\t\t\ttext-decoration: underline;\n",
       "\t\t}\n",
       "\t\t.aa {\n",
       "\t\t\tposition:relative;\n",
       "\t\t\twidth: 100%;\n",
       "\t\t}\n",
       "\t\t.placeholder {\n",
       "\t\t\tborder-radius: 5px;\n",
       "\t\t\tbackground: url('http://www.berseba.nl/wp-content/uploads/2017/11/video.png') no-repeat;\n",
       "\t\t\tbackground-size: cover;\n",
       "\t\t\tbackground-position: center;\n",
       "\t\t\tposition:absolute;\n",
       "\t\t\ttop:0;\n",
       "\t\t\tright:0;\n",
       "\t\t\tbottom:0;\n",
       "\t\t\tleft:0;\n",
       "\t\t\topacity: 1;\n",
       "\t\t\ttext-align:center;\n",
       "\t\t}\n",
       "\t</style>\n",
       "<!-- Region -->\n",
       "<div id=\"region\">\n",
       "<div class=\"container\">\n",
       "<div class=\"row\">\n",
       "<div class=\"col-md-3 col-sm-6 col-xs-12\">\n",
       "<div class=\"region-entry\">\n",
       "<h2 class=\"entry-title align-center\"><a href=\"https://www.berseba.nl/regios/zeeland\">Zeeland</a></h2>\n",
       "<div class=\"box\">\n",
       "<div class=\"region-img align-center\">\n",
       "<a href=\"https://www.berseba.nl/regios/zeeland\">\n",
       "<img class=\"img-responsive\" src=\"https://www.berseba.nl/wp-content/themes/berseba/assets/img/map-zeeland.svg\"/>\n",
       "</a>\n",
       "</div>\n",
       "</div>\n",
       "</div>\n",
       "</div>\n",
       "<div class=\"col-md-3 col-sm-6 col-xs-12\">\n",
       "<div class=\"region-entry\">\n",
       "<h2 class=\"entry-title align-center\"><a href=\"https://www.berseba.nl/regios/randstad\">Randstad</a></h2>\n",
       "<div class=\"box\">\n",
       "<div class=\"region-img align-center\">\n",
       "<a href=\"https://www.berseba.nl/regios/randstad\">\n",
       "<img class=\"img-responsive\" src=\"https://www.berseba.nl/wp-content/themes/berseba/assets/img/map-randstad.svg\"/>\n",
       "</a>\n",
       "</div>\n",
       "</div>\n",
       "</div>\n",
       "</div>\n",
       "<div class=\"col-md-3 col-sm-6 col-xs-12\">\n",
       "<div class=\"region-entry\">\n",
       "<h2 class=\"entry-title align-center\"><a href=\"https://www.berseba.nl/regios/midden\">Midden</a></h2>\n",
       "<div class=\"box\">\n",
       "<div class=\"region-img align-center\">\n",
       "<a href=\"https://www.berseba.nl/regios/midden\">\n",
       "<img class=\"img-responsive\" src=\"https://www.berseba.nl/wp-content/themes/berseba/assets/img/map-midden.svg\"/>\n",
       "</a>\n",
       "</div>\n",
       "</div>\n",
       "</div>\n",
       "</div>\n",
       "<div class=\"col-md-3 col-sm-6 col-xs-12\">\n",
       "<div class=\"region-entry\">\n",
       "<h2 class=\"entry-title align-center\"><a href=\"https://www.berseba.nl/regios/noordoost\">Noord-Oost</a></h2>\n",
       "<div class=\"box\">\n",
       "<div class=\"region-img align-center\">\n",
       "<a href=\"https://www.berseba.nl/regios/noordoost\">\n",
       "<img class=\"img-responsive\" src=\"https://www.berseba.nl/wp-content/themes/berseba/assets/img/map-noord-oost.svg\"/>\n",
       "</a>\n",
       "</div>\n",
       "</div>\n",
       "</div>\n",
       "</div>\n",
       "</div>\n",
       "</div>\n",
       "</div>\n",
       "<!-- Region -->\n",
       "<footer id=\"main-footer\" role=\"contentinfo\">\n",
       "<div class=\"container\">\n",
       "<div class=\"row\">\n",
       "<div class=\"col-md-12 align-center\">\n",
       "<p>© 2021 Berséba - <a href=\"https://www.berseba.nl/berseba-algemeen/\">Over Berséba</a> -  <a href=\"https://www.berseba.nl/contact\">Contact</a> - <a href=\"http://www.berseba.nl/communicatie/nieuwsbrieven/\"></a>Aanmelden nieuwsbrief - <a href=\"http://www.g2ocreators.nl\" rel=\"nofollow\" target=\"_blank\">Webdesign: G2O Creators</a></p>\n",
       "</div>\n",
       "</div>\n",
       "</div>\n",
       "</footer>\n",
       "<script src=\"https://ajax.googleapis.com/ajax/libs/jquery/1.11.0/jquery.min.js\"></script>\n",
       "<script>\n",
       "\t\t( function ( body ) {\n",
       "\t\t\t'use strict';\n",
       "\t\t\tbody.className = body.className.replace( /\\btribe-no-js\\b/, 'tribe-js' );\n",
       "\t\t} )( document.body );\n",
       "\t\t</script>\n",
       "<script> /* <![CDATA[ */var tribe_l10n_datatables = {\"aria\":{\"sort_ascending\":\": activeer om de kolom aflopend te sorteren\",\"sort_descending\":\": activeer om de kolom oplopend te sorteren\"},\"length_menu\":\"Toon _MENU_ entries\",\"empty_table\":\"Geen data beschikbaar in tabel\",\"info\":\"Toont _START_ tot _END_ van _TOTAL_ resultaten\",\"info_empty\":\"Toont 0 tot 0 van 0 resultaten\",\"info_filtered\":\"(gefilterd van _MAX_ totale resultaten)\",\"zero_records\":\"Geen resultaten gevonden\",\"search\":\"Zoeken:\",\"all_selected_text\":\"All items on this page were selected. \",\"select_all_link\":\"Select all pages\",\"clear_selection\":\"Clear Selection.\",\"pagination\":{\"all\":\"Alle\",\"next\":\"Volgende\",\"previous\":\"Vorige\"},\"select\":{\"rows\":{\"0\":\"\",\"_\":\": %d rijen geselecteerd\",\"1\":\": 1 rij geselecteerd\"}},\"datepicker\":{\"dayNames\":[\"zondag\",\"maandag\",\"dinsdag\",\"woensdag\",\"donderdag\",\"vrijdag\",\"zaterdag\"],\"dayNamesShort\":[\"zo\",\"ma\",\"di\",\"wo\",\"do\",\"vr\",\"za\"],\"dayNamesMin\":[\"Z\",\"M\",\"D\",\"W\",\"D\",\"V\",\"Z\"],\"monthNames\":[\"januari\",\"februari\",\"maart\",\"april\",\"mei\",\"juni\",\"juli\",\"augustus\",\"september\",\"oktober\",\"november\",\"december\"],\"monthNamesShort\":[\"januari\",\"februari\",\"maart\",\"april\",\"mei\",\"juni\",\"juli\",\"augustus\",\"september\",\"oktober\",\"november\",\"december\"],\"nextText\":\"Volgende\",\"prevText\":\"Vorige\",\"currentText\":\"Vandaag\",\"closeText\":\"Gereed\"}};/* ]]> */ </script><script id=\"contact-form-7-js-extra\" type=\"text/javascript\">\n",
       "/* <![CDATA[ */\n",
       "var wpcf7 = {\"apiSettings\":{\"root\":\"https:\\/\\/www.berseba.nl\\/wp-json\\/contact-form-7\\/v1\",\"namespace\":\"contact-form-7\\/v1\"},\"recaptcha\":{\"messages\":{\"empty\":\"Graag verifi\\u00ebren dat je geen robot bent.\"}}};\n",
       "/* ]]> */\n",
       "</script>\n",
       "<script id=\"contact-form-7-js\" src=\"https://www.berseba.nl/wp-content/plugins/contact-form-7/includes/js/scripts.js?ver=5.0.1\" type=\"text/javascript\"></script>\n",
       "<script id=\"bootstrap-js\" src=\"https://www.berseba.nl/wp-content/themes/berseba/assets/js/bootstrap.js?ver=1.0\" type=\"text/javascript\"></script>\n",
       "<script id=\"g2o-scripts-js\" src=\"https://www.berseba.nl/wp-content/themes/berseba/assets/js/scripts.js?ver=1.0\" type=\"text/javascript\"></script>\n",
       "<script id=\"swiper-js\" src=\"https://www.berseba.nl/wp-content/themes/berseba/assets/js/swiper.min.js?ver=v1\" type=\"text/javascript\"></script>\n",
       "<script id=\"wp-embed-js\" src=\"https://www.berseba.nl/wp-includes/js/wp-embed.min.js?ver=5.7.2\" type=\"text/javascript\"></script>\n",
       "<!-- Modal -->\n",
       "<div aria-hidden=\"true\" aria-labelledby=\"myModalLabel\" class=\"modal modal-inschrijven fade\" id=\"myModal\" role=\"dialog\" tabindex=\"-1\">\n",
       "<div class=\"modal-dialog\">\n",
       "<div class=\"modal-content\">\n",
       "<div class=\"modal-body\">\n",
       "</div>\n",
       "</div><!-- /.modal-content -->\n",
       "</div><!-- /.modal-dialog -->\n",
       "</div><!-- /.modal -->\n",
       "</body>"
      ]
     },
     "metadata": {},
     "execution_count": 3
    }
   ],
   "source": [
    "url = 'https://www.berseba.nl/'\n",
    "html = requests.get(url).text\n",
    "soup = BeautifulSoup(html)\n",
    "soup"
   ]
  },
  {
   "cell_type": "code",
   "execution_count": 12,
   "metadata": {},
   "outputs": [],
   "source": [
    "orgs = 'org_url_20210511.txt'\n",
    "orgs_df = pd.read_csv(orgs, delimiter = \"\\t\")\n",
    "urls = orgs_df['URL'][orgs_df['CODE_SOORT']=='BAS'].values\n",
    "exceptions = set()\n",
    "\n",
    "count = 0\n",
    "count_max = 100\n",
    "\n",
    "for url in urls:\n",
    "    b_url = beautify_url(url)\n",
    "    # pattern = re.compile(\"^(/)\")\n",
    "    try:\n",
    "        html = requests.get(b_url).text\n",
    "    except:\n",
    "        exceptions.add(url)\n",
    "        continue # exceptions opslaan\n",
    "    count += 1\n",
    "    if count > count_max: break"
   ]
  },
  {
   "cell_type": "code",
   "execution_count": 13,
   "metadata": {},
   "outputs": [
    {
     "output_type": "execute_result",
     "data": {
      "text/plain": [
       "{'www.hetsterrenlicht.nl'}"
      ]
     },
     "metadata": {},
     "execution_count": 13
    }
   ],
   "source": [
    "exceptions"
   ]
  },
  {
   "cell_type": "code",
   "execution_count": 10,
   "metadata": {},
   "outputs": [
    {
     "output_type": "error",
     "ename": "SSLError",
     "evalue": "HTTPSConnectionPool(host='www.hetsterrenlicht.nl', port=443): Max retries exceeded with url: / (Caused by SSLError(SSLCertVerificationError(1, '[SSL: CERTIFICATE_VERIFY_FAILED] certificate verify failed: unable to get local issuer certificate (_ssl.c:1123)')))",
     "traceback": [
      "\u001b[1;31m---------------------------------------------------------------------------\u001b[0m",
      "\u001b[1;31mSSLCertVerificationError\u001b[0m                  Traceback (most recent call last)",
      "\u001b[1;32mC:\\Tools\\Anaconda3\\envs\\tm-digit\\lib\\site-packages\\urllib3\\connectionpool.py\u001b[0m in \u001b[0;36murlopen\u001b[1;34m(self, method, url, body, headers, retries, redirect, assert_same_host, timeout, pool_timeout, release_conn, chunked, body_pos, **response_kw)\u001b[0m\n\u001b[0;32m    666\u001b[0m             \u001b[1;32mif\u001b[0m \u001b[0mis_new_proxy_conn\u001b[0m\u001b[1;33m:\u001b[0m\u001b[1;33m\u001b[0m\u001b[1;33m\u001b[0m\u001b[0m\n\u001b[1;32m--> 667\u001b[1;33m                 \u001b[0mself\u001b[0m\u001b[1;33m.\u001b[0m\u001b[0m_prepare_proxy\u001b[0m\u001b[1;33m(\u001b[0m\u001b[0mconn\u001b[0m\u001b[1;33m)\u001b[0m\u001b[1;33m\u001b[0m\u001b[1;33m\u001b[0m\u001b[0m\n\u001b[0m\u001b[0;32m    668\u001b[0m \u001b[1;33m\u001b[0m\u001b[0m\n",
      "\u001b[1;32mC:\\Tools\\Anaconda3\\envs\\tm-digit\\lib\\site-packages\\urllib3\\connectionpool.py\u001b[0m in \u001b[0;36m_prepare_proxy\u001b[1;34m(self, conn)\u001b[0m\n\u001b[0;32m    931\u001b[0m         \u001b[0mconn\u001b[0m\u001b[1;33m.\u001b[0m\u001b[0mset_tunnel\u001b[0m\u001b[1;33m(\u001b[0m\u001b[0mself\u001b[0m\u001b[1;33m.\u001b[0m\u001b[0m_proxy_host\u001b[0m\u001b[1;33m,\u001b[0m \u001b[0mself\u001b[0m\u001b[1;33m.\u001b[0m\u001b[0mport\u001b[0m\u001b[1;33m,\u001b[0m \u001b[0mself\u001b[0m\u001b[1;33m.\u001b[0m\u001b[0mproxy_headers\u001b[0m\u001b[1;33m)\u001b[0m\u001b[1;33m\u001b[0m\u001b[1;33m\u001b[0m\u001b[0m\n\u001b[1;32m--> 932\u001b[1;33m         \u001b[0mconn\u001b[0m\u001b[1;33m.\u001b[0m\u001b[0mconnect\u001b[0m\u001b[1;33m(\u001b[0m\u001b[1;33m)\u001b[0m\u001b[1;33m\u001b[0m\u001b[1;33m\u001b[0m\u001b[0m\n\u001b[0m\u001b[0;32m    933\u001b[0m \u001b[1;33m\u001b[0m\u001b[0m\n",
      "\u001b[1;32mC:\\Tools\\Anaconda3\\envs\\tm-digit\\lib\\site-packages\\urllib3\\connection.py\u001b[0m in \u001b[0;36mconnect\u001b[1;34m(self)\u001b[0m\n\u001b[0;32m    361\u001b[0m \u001b[1;33m\u001b[0m\u001b[0m\n\u001b[1;32m--> 362\u001b[1;33m         self.sock = ssl_wrap_socket(\n\u001b[0m\u001b[0;32m    363\u001b[0m             \u001b[0msock\u001b[0m\u001b[1;33m=\u001b[0m\u001b[0mconn\u001b[0m\u001b[1;33m,\u001b[0m\u001b[1;33m\u001b[0m\u001b[1;33m\u001b[0m\u001b[0m\n",
      "\u001b[1;32mC:\\Tools\\Anaconda3\\envs\\tm-digit\\lib\\site-packages\\urllib3\\util\\ssl_.py\u001b[0m in \u001b[0;36mssl_wrap_socket\u001b[1;34m(sock, keyfile, certfile, cert_reqs, ca_certs, server_hostname, ssl_version, ciphers, ssl_context, ca_cert_dir, key_password, ca_cert_data)\u001b[0m\n\u001b[0;32m    385\u001b[0m         \u001b[1;32mif\u001b[0m \u001b[0mHAS_SNI\u001b[0m \u001b[1;32mand\u001b[0m \u001b[0mserver_hostname\u001b[0m \u001b[1;32mis\u001b[0m \u001b[1;32mnot\u001b[0m \u001b[1;32mNone\u001b[0m\u001b[1;33m:\u001b[0m\u001b[1;33m\u001b[0m\u001b[1;33m\u001b[0m\u001b[0m\n\u001b[1;32m--> 386\u001b[1;33m             \u001b[1;32mreturn\u001b[0m \u001b[0mcontext\u001b[0m\u001b[1;33m.\u001b[0m\u001b[0mwrap_socket\u001b[0m\u001b[1;33m(\u001b[0m\u001b[0msock\u001b[0m\u001b[1;33m,\u001b[0m \u001b[0mserver_hostname\u001b[0m\u001b[1;33m=\u001b[0m\u001b[0mserver_hostname\u001b[0m\u001b[1;33m)\u001b[0m\u001b[1;33m\u001b[0m\u001b[1;33m\u001b[0m\u001b[0m\n\u001b[0m\u001b[0;32m    387\u001b[0m \u001b[1;33m\u001b[0m\u001b[0m\n",
      "\u001b[1;32mC:\\Tools\\Anaconda3\\envs\\tm-digit\\lib\\ssl.py\u001b[0m in \u001b[0;36mwrap_socket\u001b[1;34m(self, sock, server_side, do_handshake_on_connect, suppress_ragged_eofs, server_hostname, session)\u001b[0m\n\u001b[0;32m    499\u001b[0m         \u001b[1;31m# ctx._wrap_socket()\u001b[0m\u001b[1;33m\u001b[0m\u001b[1;33m\u001b[0m\u001b[1;33m\u001b[0m\u001b[0m\n\u001b[1;32m--> 500\u001b[1;33m         return self.sslsocket_class._create(\n\u001b[0m\u001b[0;32m    501\u001b[0m             \u001b[0msock\u001b[0m\u001b[1;33m=\u001b[0m\u001b[0msock\u001b[0m\u001b[1;33m,\u001b[0m\u001b[1;33m\u001b[0m\u001b[1;33m\u001b[0m\u001b[0m\n",
      "\u001b[1;32mC:\\Tools\\Anaconda3\\envs\\tm-digit\\lib\\ssl.py\u001b[0m in \u001b[0;36m_create\u001b[1;34m(cls, sock, server_side, do_handshake_on_connect, suppress_ragged_eofs, server_hostname, context, session)\u001b[0m\n\u001b[0;32m   1039\u001b[0m                         \u001b[1;32mraise\u001b[0m \u001b[0mValueError\u001b[0m\u001b[1;33m(\u001b[0m\u001b[1;34m\"do_handshake_on_connect should not be specified for non-blocking sockets\"\u001b[0m\u001b[1;33m)\u001b[0m\u001b[1;33m\u001b[0m\u001b[1;33m\u001b[0m\u001b[0m\n\u001b[1;32m-> 1040\u001b[1;33m                     \u001b[0mself\u001b[0m\u001b[1;33m.\u001b[0m\u001b[0mdo_handshake\u001b[0m\u001b[1;33m(\u001b[0m\u001b[1;33m)\u001b[0m\u001b[1;33m\u001b[0m\u001b[1;33m\u001b[0m\u001b[0m\n\u001b[0m\u001b[0;32m   1041\u001b[0m             \u001b[1;32mexcept\u001b[0m \u001b[1;33m(\u001b[0m\u001b[0mOSError\u001b[0m\u001b[1;33m,\u001b[0m \u001b[0mValueError\u001b[0m\u001b[1;33m)\u001b[0m\u001b[1;33m:\u001b[0m\u001b[1;33m\u001b[0m\u001b[1;33m\u001b[0m\u001b[0m\n",
      "\u001b[1;32mC:\\Tools\\Anaconda3\\envs\\tm-digit\\lib\\ssl.py\u001b[0m in \u001b[0;36mdo_handshake\u001b[1;34m(self, block)\u001b[0m\n\u001b[0;32m   1308\u001b[0m                 \u001b[0mself\u001b[0m\u001b[1;33m.\u001b[0m\u001b[0msettimeout\u001b[0m\u001b[1;33m(\u001b[0m\u001b[1;32mNone\u001b[0m\u001b[1;33m)\u001b[0m\u001b[1;33m\u001b[0m\u001b[1;33m\u001b[0m\u001b[0m\n\u001b[1;32m-> 1309\u001b[1;33m             \u001b[0mself\u001b[0m\u001b[1;33m.\u001b[0m\u001b[0m_sslobj\u001b[0m\u001b[1;33m.\u001b[0m\u001b[0mdo_handshake\u001b[0m\u001b[1;33m(\u001b[0m\u001b[1;33m)\u001b[0m\u001b[1;33m\u001b[0m\u001b[1;33m\u001b[0m\u001b[0m\n\u001b[0m\u001b[0;32m   1310\u001b[0m         \u001b[1;32mfinally\u001b[0m\u001b[1;33m:\u001b[0m\u001b[1;33m\u001b[0m\u001b[1;33m\u001b[0m\u001b[0m\n",
      "\u001b[1;31mSSLCertVerificationError\u001b[0m: [SSL: CERTIFICATE_VERIFY_FAILED] certificate verify failed: unable to get local issuer certificate (_ssl.c:1123)",
      "\nDuring handling of the above exception, another exception occurred:\n",
      "\u001b[1;31mMaxRetryError\u001b[0m                             Traceback (most recent call last)",
      "\u001b[1;32mC:\\Tools\\Anaconda3\\envs\\tm-digit\\lib\\site-packages\\requests\\adapters.py\u001b[0m in \u001b[0;36msend\u001b[1;34m(self, request, stream, timeout, verify, cert, proxies)\u001b[0m\n\u001b[0;32m    438\u001b[0m             \u001b[1;32mif\u001b[0m \u001b[1;32mnot\u001b[0m \u001b[0mchunked\u001b[0m\u001b[1;33m:\u001b[0m\u001b[1;33m\u001b[0m\u001b[1;33m\u001b[0m\u001b[0m\n\u001b[1;32m--> 439\u001b[1;33m                 resp = conn.urlopen(\n\u001b[0m\u001b[0;32m    440\u001b[0m                     \u001b[0mmethod\u001b[0m\u001b[1;33m=\u001b[0m\u001b[0mrequest\u001b[0m\u001b[1;33m.\u001b[0m\u001b[0mmethod\u001b[0m\u001b[1;33m,\u001b[0m\u001b[1;33m\u001b[0m\u001b[1;33m\u001b[0m\u001b[0m\n",
      "\u001b[1;32mC:\\Tools\\Anaconda3\\envs\\tm-digit\\lib\\site-packages\\urllib3\\connectionpool.py\u001b[0m in \u001b[0;36murlopen\u001b[1;34m(self, method, url, body, headers, retries, redirect, assert_same_host, timeout, pool_timeout, release_conn, chunked, body_pos, **response_kw)\u001b[0m\n\u001b[0;32m    725\u001b[0m \u001b[1;33m\u001b[0m\u001b[0m\n\u001b[1;32m--> 726\u001b[1;33m             retries = retries.increment(\n\u001b[0m\u001b[0;32m    727\u001b[0m                 \u001b[0mmethod\u001b[0m\u001b[1;33m,\u001b[0m \u001b[0murl\u001b[0m\u001b[1;33m,\u001b[0m \u001b[0merror\u001b[0m\u001b[1;33m=\u001b[0m\u001b[0me\u001b[0m\u001b[1;33m,\u001b[0m \u001b[0m_pool\u001b[0m\u001b[1;33m=\u001b[0m\u001b[0mself\u001b[0m\u001b[1;33m,\u001b[0m \u001b[0m_stacktrace\u001b[0m\u001b[1;33m=\u001b[0m\u001b[0msys\u001b[0m\u001b[1;33m.\u001b[0m\u001b[0mexc_info\u001b[0m\u001b[1;33m(\u001b[0m\u001b[1;33m)\u001b[0m\u001b[1;33m[\u001b[0m\u001b[1;36m2\u001b[0m\u001b[1;33m]\u001b[0m\u001b[1;33m\u001b[0m\u001b[1;33m\u001b[0m\u001b[0m\n",
      "\u001b[1;32mC:\\Tools\\Anaconda3\\envs\\tm-digit\\lib\\site-packages\\urllib3\\util\\retry.py\u001b[0m in \u001b[0;36mincrement\u001b[1;34m(self, method, url, response, error, _pool, _stacktrace)\u001b[0m\n\u001b[0;32m    445\u001b[0m         \u001b[1;32mif\u001b[0m \u001b[0mnew_retry\u001b[0m\u001b[1;33m.\u001b[0m\u001b[0mis_exhausted\u001b[0m\u001b[1;33m(\u001b[0m\u001b[1;33m)\u001b[0m\u001b[1;33m:\u001b[0m\u001b[1;33m\u001b[0m\u001b[1;33m\u001b[0m\u001b[0m\n\u001b[1;32m--> 446\u001b[1;33m             \u001b[1;32mraise\u001b[0m \u001b[0mMaxRetryError\u001b[0m\u001b[1;33m(\u001b[0m\u001b[0m_pool\u001b[0m\u001b[1;33m,\u001b[0m \u001b[0murl\u001b[0m\u001b[1;33m,\u001b[0m \u001b[0merror\u001b[0m \u001b[1;32mor\u001b[0m \u001b[0mResponseError\u001b[0m\u001b[1;33m(\u001b[0m\u001b[0mcause\u001b[0m\u001b[1;33m)\u001b[0m\u001b[1;33m)\u001b[0m\u001b[1;33m\u001b[0m\u001b[1;33m\u001b[0m\u001b[0m\n\u001b[0m\u001b[0;32m    447\u001b[0m \u001b[1;33m\u001b[0m\u001b[0m\n",
      "\u001b[1;31mMaxRetryError\u001b[0m: HTTPSConnectionPool(host='www.hetsterrenlicht.nl', port=443): Max retries exceeded with url: / (Caused by SSLError(SSLCertVerificationError(1, '[SSL: CERTIFICATE_VERIFY_FAILED] certificate verify failed: unable to get local issuer certificate (_ssl.c:1123)')))",
      "\nDuring handling of the above exception, another exception occurred:\n",
      "\u001b[1;31mSSLError\u001b[0m                                  Traceback (most recent call last)",
      "\u001b[1;32m<ipython-input-10-e5e2e30c2ba4>\u001b[0m in \u001b[0;36m<module>\u001b[1;34m\u001b[0m\n\u001b[1;32m----> 1\u001b[1;33m \u001b[0mrequests\u001b[0m\u001b[1;33m.\u001b[0m\u001b[0mget\u001b[0m\u001b[1;33m(\u001b[0m\u001b[1;34m'http://www.hetsterrenlicht.nl/'\u001b[0m\u001b[1;33m)\u001b[0m\u001b[1;33m.\u001b[0m\u001b[0mtext\u001b[0m\u001b[1;33m\u001b[0m\u001b[1;33m\u001b[0m\u001b[0m\n\u001b[0m",
      "\u001b[1;32mC:\\Tools\\Anaconda3\\envs\\tm-digit\\lib\\site-packages\\requests\\api.py\u001b[0m in \u001b[0;36mget\u001b[1;34m(url, params, **kwargs)\u001b[0m\n\u001b[0;32m     74\u001b[0m \u001b[1;33m\u001b[0m\u001b[0m\n\u001b[0;32m     75\u001b[0m     \u001b[0mkwargs\u001b[0m\u001b[1;33m.\u001b[0m\u001b[0msetdefault\u001b[0m\u001b[1;33m(\u001b[0m\u001b[1;34m'allow_redirects'\u001b[0m\u001b[1;33m,\u001b[0m \u001b[1;32mTrue\u001b[0m\u001b[1;33m)\u001b[0m\u001b[1;33m\u001b[0m\u001b[1;33m\u001b[0m\u001b[0m\n\u001b[1;32m---> 76\u001b[1;33m     \u001b[1;32mreturn\u001b[0m \u001b[0mrequest\u001b[0m\u001b[1;33m(\u001b[0m\u001b[1;34m'get'\u001b[0m\u001b[1;33m,\u001b[0m \u001b[0murl\u001b[0m\u001b[1;33m,\u001b[0m \u001b[0mparams\u001b[0m\u001b[1;33m=\u001b[0m\u001b[0mparams\u001b[0m\u001b[1;33m,\u001b[0m \u001b[1;33m**\u001b[0m\u001b[0mkwargs\u001b[0m\u001b[1;33m)\u001b[0m\u001b[1;33m\u001b[0m\u001b[1;33m\u001b[0m\u001b[0m\n\u001b[0m\u001b[0;32m     77\u001b[0m \u001b[1;33m\u001b[0m\u001b[0m\n\u001b[0;32m     78\u001b[0m \u001b[1;33m\u001b[0m\u001b[0m\n",
      "\u001b[1;32mC:\\Tools\\Anaconda3\\envs\\tm-digit\\lib\\site-packages\\requests\\api.py\u001b[0m in \u001b[0;36mrequest\u001b[1;34m(method, url, **kwargs)\u001b[0m\n\u001b[0;32m     59\u001b[0m     \u001b[1;31m# cases, and look like a memory leak in others.\u001b[0m\u001b[1;33m\u001b[0m\u001b[1;33m\u001b[0m\u001b[1;33m\u001b[0m\u001b[0m\n\u001b[0;32m     60\u001b[0m     \u001b[1;32mwith\u001b[0m \u001b[0msessions\u001b[0m\u001b[1;33m.\u001b[0m\u001b[0mSession\u001b[0m\u001b[1;33m(\u001b[0m\u001b[1;33m)\u001b[0m \u001b[1;32mas\u001b[0m \u001b[0msession\u001b[0m\u001b[1;33m:\u001b[0m\u001b[1;33m\u001b[0m\u001b[1;33m\u001b[0m\u001b[0m\n\u001b[1;32m---> 61\u001b[1;33m         \u001b[1;32mreturn\u001b[0m \u001b[0msession\u001b[0m\u001b[1;33m.\u001b[0m\u001b[0mrequest\u001b[0m\u001b[1;33m(\u001b[0m\u001b[0mmethod\u001b[0m\u001b[1;33m=\u001b[0m\u001b[0mmethod\u001b[0m\u001b[1;33m,\u001b[0m \u001b[0murl\u001b[0m\u001b[1;33m=\u001b[0m\u001b[0murl\u001b[0m\u001b[1;33m,\u001b[0m \u001b[1;33m**\u001b[0m\u001b[0mkwargs\u001b[0m\u001b[1;33m)\u001b[0m\u001b[1;33m\u001b[0m\u001b[1;33m\u001b[0m\u001b[0m\n\u001b[0m\u001b[0;32m     62\u001b[0m \u001b[1;33m\u001b[0m\u001b[0m\n\u001b[0;32m     63\u001b[0m \u001b[1;33m\u001b[0m\u001b[0m\n",
      "\u001b[1;32mC:\\Tools\\Anaconda3\\envs\\tm-digit\\lib\\site-packages\\requests\\sessions.py\u001b[0m in \u001b[0;36mrequest\u001b[1;34m(self, method, url, params, data, headers, cookies, files, auth, timeout, allow_redirects, proxies, hooks, stream, verify, cert, json)\u001b[0m\n\u001b[0;32m    540\u001b[0m         }\n\u001b[0;32m    541\u001b[0m         \u001b[0msend_kwargs\u001b[0m\u001b[1;33m.\u001b[0m\u001b[0mupdate\u001b[0m\u001b[1;33m(\u001b[0m\u001b[0msettings\u001b[0m\u001b[1;33m)\u001b[0m\u001b[1;33m\u001b[0m\u001b[1;33m\u001b[0m\u001b[0m\n\u001b[1;32m--> 542\u001b[1;33m         \u001b[0mresp\u001b[0m \u001b[1;33m=\u001b[0m \u001b[0mself\u001b[0m\u001b[1;33m.\u001b[0m\u001b[0msend\u001b[0m\u001b[1;33m(\u001b[0m\u001b[0mprep\u001b[0m\u001b[1;33m,\u001b[0m \u001b[1;33m**\u001b[0m\u001b[0msend_kwargs\u001b[0m\u001b[1;33m)\u001b[0m\u001b[1;33m\u001b[0m\u001b[1;33m\u001b[0m\u001b[0m\n\u001b[0m\u001b[0;32m    543\u001b[0m \u001b[1;33m\u001b[0m\u001b[0m\n\u001b[0;32m    544\u001b[0m         \u001b[1;32mreturn\u001b[0m \u001b[0mresp\u001b[0m\u001b[1;33m\u001b[0m\u001b[1;33m\u001b[0m\u001b[0m\n",
      "\u001b[1;32mC:\\Tools\\Anaconda3\\envs\\tm-digit\\lib\\site-packages\\requests\\sessions.py\u001b[0m in \u001b[0;36msend\u001b[1;34m(self, request, **kwargs)\u001b[0m\n\u001b[0;32m    675\u001b[0m             \u001b[1;31m# Redirect resolving generator.\u001b[0m\u001b[1;33m\u001b[0m\u001b[1;33m\u001b[0m\u001b[1;33m\u001b[0m\u001b[0m\n\u001b[0;32m    676\u001b[0m             \u001b[0mgen\u001b[0m \u001b[1;33m=\u001b[0m \u001b[0mself\u001b[0m\u001b[1;33m.\u001b[0m\u001b[0mresolve_redirects\u001b[0m\u001b[1;33m(\u001b[0m\u001b[0mr\u001b[0m\u001b[1;33m,\u001b[0m \u001b[0mrequest\u001b[0m\u001b[1;33m,\u001b[0m \u001b[1;33m**\u001b[0m\u001b[0mkwargs\u001b[0m\u001b[1;33m)\u001b[0m\u001b[1;33m\u001b[0m\u001b[1;33m\u001b[0m\u001b[0m\n\u001b[1;32m--> 677\u001b[1;33m             \u001b[0mhistory\u001b[0m \u001b[1;33m=\u001b[0m \u001b[1;33m[\u001b[0m\u001b[0mresp\u001b[0m \u001b[1;32mfor\u001b[0m \u001b[0mresp\u001b[0m \u001b[1;32min\u001b[0m \u001b[0mgen\u001b[0m\u001b[1;33m]\u001b[0m\u001b[1;33m\u001b[0m\u001b[1;33m\u001b[0m\u001b[0m\n\u001b[0m\u001b[0;32m    678\u001b[0m         \u001b[1;32melse\u001b[0m\u001b[1;33m:\u001b[0m\u001b[1;33m\u001b[0m\u001b[1;33m\u001b[0m\u001b[0m\n\u001b[0;32m    679\u001b[0m             \u001b[0mhistory\u001b[0m \u001b[1;33m=\u001b[0m \u001b[1;33m[\u001b[0m\u001b[1;33m]\u001b[0m\u001b[1;33m\u001b[0m\u001b[1;33m\u001b[0m\u001b[0m\n",
      "\u001b[1;32mC:\\Tools\\Anaconda3\\envs\\tm-digit\\lib\\site-packages\\requests\\sessions.py\u001b[0m in \u001b[0;36m<listcomp>\u001b[1;34m(.0)\u001b[0m\n\u001b[0;32m    675\u001b[0m             \u001b[1;31m# Redirect resolving generator.\u001b[0m\u001b[1;33m\u001b[0m\u001b[1;33m\u001b[0m\u001b[1;33m\u001b[0m\u001b[0m\n\u001b[0;32m    676\u001b[0m             \u001b[0mgen\u001b[0m \u001b[1;33m=\u001b[0m \u001b[0mself\u001b[0m\u001b[1;33m.\u001b[0m\u001b[0mresolve_redirects\u001b[0m\u001b[1;33m(\u001b[0m\u001b[0mr\u001b[0m\u001b[1;33m,\u001b[0m \u001b[0mrequest\u001b[0m\u001b[1;33m,\u001b[0m \u001b[1;33m**\u001b[0m\u001b[0mkwargs\u001b[0m\u001b[1;33m)\u001b[0m\u001b[1;33m\u001b[0m\u001b[1;33m\u001b[0m\u001b[0m\n\u001b[1;32m--> 677\u001b[1;33m             \u001b[0mhistory\u001b[0m \u001b[1;33m=\u001b[0m \u001b[1;33m[\u001b[0m\u001b[0mresp\u001b[0m \u001b[1;32mfor\u001b[0m \u001b[0mresp\u001b[0m \u001b[1;32min\u001b[0m \u001b[0mgen\u001b[0m\u001b[1;33m]\u001b[0m\u001b[1;33m\u001b[0m\u001b[1;33m\u001b[0m\u001b[0m\n\u001b[0m\u001b[0;32m    678\u001b[0m         \u001b[1;32melse\u001b[0m\u001b[1;33m:\u001b[0m\u001b[1;33m\u001b[0m\u001b[1;33m\u001b[0m\u001b[0m\n\u001b[0;32m    679\u001b[0m             \u001b[0mhistory\u001b[0m \u001b[1;33m=\u001b[0m \u001b[1;33m[\u001b[0m\u001b[1;33m]\u001b[0m\u001b[1;33m\u001b[0m\u001b[1;33m\u001b[0m\u001b[0m\n",
      "\u001b[1;32mC:\\Tools\\Anaconda3\\envs\\tm-digit\\lib\\site-packages\\requests\\sessions.py\u001b[0m in \u001b[0;36mresolve_redirects\u001b[1;34m(self, resp, req, stream, timeout, verify, cert, proxies, yield_requests, **adapter_kwargs)\u001b[0m\n\u001b[0;32m    235\u001b[0m             \u001b[1;32melse\u001b[0m\u001b[1;33m:\u001b[0m\u001b[1;33m\u001b[0m\u001b[1;33m\u001b[0m\u001b[0m\n\u001b[0;32m    236\u001b[0m \u001b[1;33m\u001b[0m\u001b[0m\n\u001b[1;32m--> 237\u001b[1;33m                 resp = self.send(\n\u001b[0m\u001b[0;32m    238\u001b[0m                     \u001b[0mreq\u001b[0m\u001b[1;33m,\u001b[0m\u001b[1;33m\u001b[0m\u001b[1;33m\u001b[0m\u001b[0m\n\u001b[0;32m    239\u001b[0m                     \u001b[0mstream\u001b[0m\u001b[1;33m=\u001b[0m\u001b[0mstream\u001b[0m\u001b[1;33m,\u001b[0m\u001b[1;33m\u001b[0m\u001b[1;33m\u001b[0m\u001b[0m\n",
      "\u001b[1;32mC:\\Tools\\Anaconda3\\envs\\tm-digit\\lib\\site-packages\\requests\\sessions.py\u001b[0m in \u001b[0;36msend\u001b[1;34m(self, request, **kwargs)\u001b[0m\n\u001b[0;32m    653\u001b[0m \u001b[1;33m\u001b[0m\u001b[0m\n\u001b[0;32m    654\u001b[0m         \u001b[1;31m# Send the request\u001b[0m\u001b[1;33m\u001b[0m\u001b[1;33m\u001b[0m\u001b[1;33m\u001b[0m\u001b[0m\n\u001b[1;32m--> 655\u001b[1;33m         \u001b[0mr\u001b[0m \u001b[1;33m=\u001b[0m \u001b[0madapter\u001b[0m\u001b[1;33m.\u001b[0m\u001b[0msend\u001b[0m\u001b[1;33m(\u001b[0m\u001b[0mrequest\u001b[0m\u001b[1;33m,\u001b[0m \u001b[1;33m**\u001b[0m\u001b[0mkwargs\u001b[0m\u001b[1;33m)\u001b[0m\u001b[1;33m\u001b[0m\u001b[1;33m\u001b[0m\u001b[0m\n\u001b[0m\u001b[0;32m    656\u001b[0m \u001b[1;33m\u001b[0m\u001b[0m\n\u001b[0;32m    657\u001b[0m         \u001b[1;31m# Total elapsed time of the request (approximately)\u001b[0m\u001b[1;33m\u001b[0m\u001b[1;33m\u001b[0m\u001b[1;33m\u001b[0m\u001b[0m\n",
      "\u001b[1;32mC:\\Tools\\Anaconda3\\envs\\tm-digit\\lib\\site-packages\\requests\\adapters.py\u001b[0m in \u001b[0;36msend\u001b[1;34m(self, request, stream, timeout, verify, cert, proxies)\u001b[0m\n\u001b[0;32m    512\u001b[0m             \u001b[1;32mif\u001b[0m \u001b[0misinstance\u001b[0m\u001b[1;33m(\u001b[0m\u001b[0me\u001b[0m\u001b[1;33m.\u001b[0m\u001b[0mreason\u001b[0m\u001b[1;33m,\u001b[0m \u001b[0m_SSLError\u001b[0m\u001b[1;33m)\u001b[0m\u001b[1;33m:\u001b[0m\u001b[1;33m\u001b[0m\u001b[1;33m\u001b[0m\u001b[0m\n\u001b[0;32m    513\u001b[0m                 \u001b[1;31m# This branch is for urllib3 v1.22 and later.\u001b[0m\u001b[1;33m\u001b[0m\u001b[1;33m\u001b[0m\u001b[1;33m\u001b[0m\u001b[0m\n\u001b[1;32m--> 514\u001b[1;33m                 \u001b[1;32mraise\u001b[0m \u001b[0mSSLError\u001b[0m\u001b[1;33m(\u001b[0m\u001b[0me\u001b[0m\u001b[1;33m,\u001b[0m \u001b[0mrequest\u001b[0m\u001b[1;33m=\u001b[0m\u001b[0mrequest\u001b[0m\u001b[1;33m)\u001b[0m\u001b[1;33m\u001b[0m\u001b[1;33m\u001b[0m\u001b[0m\n\u001b[0m\u001b[0;32m    515\u001b[0m \u001b[1;33m\u001b[0m\u001b[0m\n\u001b[0;32m    516\u001b[0m             \u001b[1;32mraise\u001b[0m \u001b[0mConnectionError\u001b[0m\u001b[1;33m(\u001b[0m\u001b[0me\u001b[0m\u001b[1;33m,\u001b[0m \u001b[0mrequest\u001b[0m\u001b[1;33m=\u001b[0m\u001b[0mrequest\u001b[0m\u001b[1;33m)\u001b[0m\u001b[1;33m\u001b[0m\u001b[1;33m\u001b[0m\u001b[0m\n",
      "\u001b[1;31mSSLError\u001b[0m: HTTPSConnectionPool(host='www.hetsterrenlicht.nl', port=443): Max retries exceeded with url: / (Caused by SSLError(SSLCertVerificationError(1, '[SSL: CERTIFICATE_VERIFY_FAILED] certificate verify failed: unable to get local issuer certificate (_ssl.c:1123)')))"
     ]
    }
   ],
   "source": [
    "requests.get('http://www.hetsterrenlicht.nl/').text"
   ]
  },
  {
   "cell_type": "code",
   "execution_count": 14,
   "metadata": {},
   "outputs": [],
   "source": [
    "url = 'www.gbskristal.nl'\n",
    "b_url = beautify_url(url)\n",
    "href = 'https://gbskristal.nl/aanmelden/'\n",
    "\n",
    "# als https erin, niet printen\n",
    "# als http erin, niet printen\n",
    "# als url erin, niet printen\n",
    "# als b_url erin, niet printen\n",
    "\n",
    "if href[:8] == 'https://' or href[:7] == 'http://' or url in href or b_url in href:\n",
    "    pass\n",
    "else:\n",
    "    print(href)"
   ]
  },
  {
   "cell_type": "code",
   "execution_count": 7,
   "metadata": {},
   "outputs": [
    {
     "output_type": "execute_result",
     "data": {
      "text/plain": [
       "'https://'"
      ]
     },
     "metadata": {},
     "execution_count": 7
    }
   ],
   "source": [
    "st = 'https://kmsbussum.nl/kms-winnaar-lego-league/'\n",
    "st[:8] == 'https://'"
   ]
  },
  {
   "cell_type": "code",
   "execution_count": null,
   "metadata": {},
   "outputs": [],
   "source": []
  },
  {
   "cell_type": "code",
   "execution_count": 10,
   "metadata": {
    "tags": []
   },
   "outputs": [],
   "source": [
    "#############\n",
    "# MAIN LOOP #\n",
    "#############\n",
    "\n",
    "# Definieer pad om data op te slaan en file voor organisaties\n",
    "path = 'C:\\\\Temp\\\\'\n",
    "orgs = 'org_url_20210511.txt'\n",
    "# Laad orgs file\n",
    "orgs_df = pd.read_csv(orgs, delimiter = \"\\t\")\n",
    "\n",
    "## Loop om files te downloaden\n",
    "\n",
    "# Definieer welke urls al gescraped\n",
    "urls = set()\n",
    "return_empty = set()\n",
    "count = 0\n",
    "max_count = 10\n",
    "for index, row in orgs_df.iterrows():\n",
    "    if row['CODE_SOORT'] == 'BAS' or row['CODE_SOORT'] == 'SBAS':\n",
    "        nr_admin = row['NR_ADMINISTRATIE']\n",
    "        url = row['URL']\n",
    "        if url not in urls:\n",
    "            # Voeg url toe aan set\n",
    "            urls.add(url)\n",
    "            \n",
    "            print(f'Find file locations for {url} ...')\n",
    "            downloads = get_links(url)[1]\n",
    "            if not downloads:\n",
    "                return_empty.add(url)\n",
    "                print(f'No downloads found on {url} ...')\n",
    "            else:\n",
    "                print(f'Download all files for {url} ...')\n",
    "                os.mkdir(path+nr_admin)\n",
    "                for d in downloads:\n",
    "                    download_file(d, path+nr_admin+'\\\\')\n",
    "\n",
    "    # Add to counter\n",
    "    if count > max_count: break\n",
    "    count += 1"
   ]
  },
  {
   "cell_type": "code",
   "execution_count": 31,
   "metadata": {},
   "outputs": [
    {
     "output_type": "stream",
     "name": "stdout",
     "text": [
      "hallo\n"
     ]
    }
   ],
   "source": [
    "c = set('ding')\n",
    "if c:\n",
    "    print('hallo')"
   ]
  },
  {
   "cell_type": "code",
   "execution_count": null,
   "metadata": {},
   "outputs": [],
   "source": []
  },
  {
   "cell_type": "code",
   "execution_count": null,
   "metadata": {},
   "outputs": [],
   "source": []
  },
  {
   "source": [
    "## Define Methods\n",
    "These cells define necessary methods"
   ],
   "cell_type": "markdown",
   "metadata": {}
  },
  {
   "cell_type": "code",
   "execution_count": 6,
   "metadata": {},
   "outputs": [],
   "source": [
    "#functie geeft url terug met http:// als dat er nog niet aan vooraf ging\n",
    "def url_beautify(url):\n",
    "    url = url.strip()\n",
    "    if url[:7] != 'http://' and url[:8] != 'https://':\n",
    "        url = 'http://' + url\n",
    "    return url"
   ]
  },
  {
   "cell_type": "code",
   "execution_count": 7,
   "metadata": {},
   "outputs": [],
   "source": [
    "def url_controle_syntax(df):\n",
    "    ok = []\n",
    "    if log:\n",
    "        url_fouten = open('c:\\\\temp\\\\urls_met_foute_syntax.csv', 'w')\n",
    "        url_fouten.write('CODE_FUNCTIE;CODE_SOORT;NR_ADMINISTRATIE;fout;url\\n')\n",
    "    for index, regel in df.iterrows():\n",
    "        url2 = url_beautify(regel['URL'])\n",
    "        url3 = url2[url2.find(\"//\")+2:]\n",
    "        fout = ''\n",
    "        for teken in ',ë:~\\\\@':\n",
    "            if fout == '' and teken in url3:\n",
    "                fout = 'url bevat een \"' + teken + '\"'\n",
    "        if fout != '' and log and regel['status'] == 0 :\n",
    "            #print(url3, ' ', regel['status'], fout)\n",
    "            url_fouten.write(regel['CODE_FUNCTIE'] + ';' + regel['CODE_SOORT'] + \\\n",
    "                ';' + regel['NR_ADMINISTRATIE'] + ';' + fout + ';' + url3 + '\\n')\n",
    "        ok += [fout != '']\n",
    "    if log:\n",
    "        url_fouten.close()\n",
    "    return ok"
   ]
  },
  {
   "cell_type": "code",
   "execution_count": 8,
   "metadata": {},
   "outputs": [],
   "source": [
    "# geeft de zichtbare tekst van een anchor terug: <a hre...>tekst</a>\n",
    "def anchor_tekst(tekst):\n",
    "    t, s = '', 0\n",
    "    for x in str(tekst):\n",
    "        if x == '<':\n",
    "            s += 1\n",
    "        elif x == '>':\n",
    "            s -= 1\n",
    "        elif s == 0:\n",
    "            t += x\n",
    "    return t.lower().strip()"
   ]
  },
  {
   "cell_type": "code",
   "execution_count": 9,
   "metadata": {},
   "outputs": [],
   "source": [
    "# geeft de volledige url van een anchor terug\n",
    "def anchor_url(tekst, url):\n",
    "        # tekst is de anchor\n",
    "        # url is de url van de pagina waarop de link is gevonden\n",
    "    b, href = False, ''\n",
    "    for x in tekst.replace(' ','\"').split('\"'):\n",
    "        if b == True:                                  #vorige woord was 'href'\n",
    "            href = x\n",
    "            b = False\n",
    "        elif x == 'href=':\n",
    "            b = True\n",
    "    if href == '':                                        # geen href in anchor\n",
    "        return ''\n",
    "    elif href[:4] == 'http':     #absolute link, kan direct teruggegeven worden\n",
    "        return href\n",
    "    url_root = url[:10 + (url + '/')[10:].find('/')]                 #bepaal root\n",
    "    if href == '/':                                   #verwijzing naar zichzelf\n",
    "        return url_root\n",
    "    elif href[0] == '/':          #tekst begint met een slash (sub van de root)\n",
    "        if url[-1] == '/':\n",
    "           return url_root + href\n",
    "        else:\n",
    "           return url_root + href\n",
    "    else:                                           #relatieve link in map zelf\n",
    "        if url[-1:] == '/':\n",
    "            url_root = url[:-1]\n",
    "        else:\n",
    "            url_root = url\n",
    "        #return url_root[:url_root.rfind('/')] + '/' + href\n",
    "        return url_root + '/' + href\n",
    "#print(anchor_url('<a href=\"bla1.nl\">bla2</a>', 'http://bol.com/bla3/bla4/'))\n",
    "#print(anchor_url('<a href=\"/\">bla2</a>', 'http://www.duo.nl'))\n",
    "\n",
    "#def link volgen(NR_ADMINISTRATIE, diepte)"
   ]
  },
  {
   "cell_type": "code",
   "execution_count": null,
   "metadata": {},
   "outputs": [],
   "source": [
    "def nu():\n",
    "    return strftime(\"%H:%M:%S\")\n",
    "#    return str(dt.datetime.now().hour) + \":\" + str(dt.datetime.now().minute) \\\n",
    "#        + \":\" + str(dt.datetime.now().second)\n",
    "# print(nu())"
   ]
  },
  {
   "cell_type": "code",
   "execution_count": null,
   "metadata": {},
   "outputs": [],
   "source": [
    "def simple_get(url):\n",
    "    try:\n",
    "        with closing(get(url)) as resp:\n",
    "            if is_good_response(resp):\n",
    "                return resp.content\n",
    "            else:\n",
    "                return None\n",
    "    except RequestException as e:\n",
    "        return None"
   ]
  },
  {
   "cell_type": "code",
   "execution_count": null,
   "metadata": {},
   "outputs": [],
   "source": [
    "def is_good_response(resp):\n",
    "    content_type = resp.headers['Content-Type'].lower()\n",
    "    return (resp.status_code == 200 \n",
    "            and content_type is not None \n",
    "            and content_type.find('html') > -1)"
   ]
  },
  {
   "cell_type": "code",
   "execution_count": null,
   "metadata": {},
   "outputs": [],
   "source": [
    "def anchor_verwerken(instelling, anchor, url_vorig, diepte, themas):\n",
    "        # input: instelling: BRIN\n",
    "        # input: anchor: de volledig gevonden hyperlink\n",
    "        # input: url_vorig: pagina vanuitwaar dehyperlink wordt aangeroepen (ivm relatieve links)\n",
    "        # input: diepte: nivo van recusie\n",
    "        # input: docsoorten: bijvoorbeeld ['schoolgids', 'jaarverslag']\n",
    "        # rv: document dat gevonden is met soort en jaar\n",
    "        # rv: lijst met url's om ook de te werken\n",
    "    return [succes, ['schoolgids_2017', 'jaarverslag 2016']]"
   ]
  },
  {
   "cell_type": "code",
   "execution_count": null,
   "metadata": {},
   "outputs": [],
   "source": [
    "def document_opslaan(NR_ADMINISTRATIE, soort, url):\n",
    "    jaren = bepaal_jaren(url)\n",
    "    for jaar in jaren:\n",
    "        print('Sla', soort, '-document op in', pad, '/', str(jaar), '/', NR_ADMINISTRATIE)"
   ]
  },
  {
   "cell_type": "code",
   "execution_count": null,
   "metadata": {},
   "outputs": [],
   "source": [
    "def zoeklijst_uitbreiden(lijst, tekst, url):\n",
    "#    print(92, tekst)\n",
    "#    if 'oo' not in tekst:                        #tijdelijke beperking van urls\n",
    "#        return\n",
    "    if tekst == '':                          #bedenk een label als dit nodig is\n",
    "    #if tekst in ('', '/'):                  #bedenk een label als dit nodig is\n",
    "        t = url[url.replace('//','__').find('/'):]\n",
    "    else:\n",
    "        t = tekst.lower()\n",
    "#    print(93, t)\n",
    "    u = url.split(\"#\")[0]\n",
    "    if t in lijst.keys():                             #schermtekst komt al voor\n",
    "        if not u in lijst[t]:                                #maar url nog niet\n",
    "            lijst[t] += [u]\n",
    "    else:                                       #schermtekst komt nog niet voor\n",
    "        lijst[t] = [u]"
   ]
  },
  {
   "cell_type": "code",
   "execution_count": null,
   "metadata": {},
   "outputs": [],
   "source": [
    "def bedenk_naam(url, org, onderwerp, tekst):\n",
    "    if   '2010' in url or '1011' in url or '10-11' in url or '2010' in tekst:\n",
    "        j = '2010'\n",
    "    elif '2011' in url or '1112' in url or '11-12' in url or '2011' in tekst:\n",
    "        j = '2011'\n",
    "    elif '2012' in url or '1213' in url or '12-13' in url or '2012' in tekst:\n",
    "        j = '2012'\n",
    "    elif '2013' in url or '1314' in url or '13-14' in url or '2013' in tekst:\n",
    "        j = '2013'\n",
    "    elif '2014' in url or '1415' in url or '14-15' in url or '2014' in tekst:\n",
    "        j = '2014'\n",
    "    elif '2015' in url or '1516' in url or '15-16' in url or '2015' in tekst:\n",
    "        j = '2015'\n",
    "    elif '2016' in url or '1617' in url or '16-17' in url or '2016' in tekst:\n",
    "        j = '2016'\n",
    "    elif '2017' in url or '1718' in url or '17-18' in url or '2017' in tekst:\n",
    "        j = '2017'\n",
    "    elif '2018' in url or '1819' in url or '18-19' in url or '2018' in tekst:\n",
    "        j = '2018'\n",
    "    elif '2019' in url or '1920' in url or '19-20' in url or '2019' in tekst:\n",
    "        j = '2019'\n",
    "    else:\n",
    "        j = '0000'\n",
    "        print('pas de functie bedenk_naam aan omdat geen jaar bepaald kon worden')\n",
    "    naam = onderwerp + '_' + j  + '_' + org\n",
    "    url2 = url.split(\"?\")[0].lower()           #verwijder tekst naar vraagteken\n",
    "    if url2.endswith(('.pdf')):\n",
    "        return naam + '.pdf'\n",
    "    elif url2.endswith(('.doc')):\n",
    "        return naam + '.doc'\n",
    "    elif url2.endswith(('.docx')):\n",
    "        return naam + '.docx'\n",
    "    else:\n",
    "        print(132, 'onbekend type')\n",
    "        print(133, url)\n",
    "        print(133, url2)\n",
    "        print(134, tekst)\n",
    "        q = 1 / 0\n",
    "        return naam + '.onbekend'\n",
    "#print(bedenk_naam(\"http:\\\\bla_2015-2019\", '00AH', 'jaarverslag', 'bla'))"
   ]
  },
  {
   "cell_type": "code",
   "execution_count": null,
   "metadata": {},
   "outputs": [],
   "source": [
    "def document_downloaden(u_link, NR_ADMINISTRATIE, soort, u_tekst):\r\n",
    "    naam = bedenk_naam(u_link, NR_ADMINISTRATIE, todo_i, u_tekst)\r\n",
    "    print('downloaden:', naam, 'u_link')\r\n",
    "    with open('c://temp//' + naam, 'wb') as f:\r\n",
    "        f.write(get(u_link).content)"
   ]
  },
  {
   "cell_type": "code",
   "execution_count": null,
   "metadata": {},
   "outputs": [],
   "source": [
    "# kies uit de zoeklijst de meest waarschijnlijke url\n",
    "def url_kiezen(d):\n",
    "    #lijst met termen in aflopen prioriteit:\n",
    "    zoektermen = ['schoolgids', 'schooldocumenten', 'download',               \\\n",
    "        'download schoolgids', 'downloads', 'organisatie', 'documenten',      \\\n",
    "        'schoolplan', 'onze school', 'documentatie', 'school', 'jaargids',    \\\n",
    "        'jaarverslag', 'informatie', 'informatiekaart', 'voor ouders',        \\\n",
    "        'jaarplanning', 'informatiegids', 'organisatie', 'ouderplein',        \\\n",
    "        'publicaties', 'praktisch']\n",
    "    # bij 1 element stuur kies de eerste\n",
    "    if len(d) == 1:\n",
    "        return (list(d.keys())[0], d[list(d.keys())[0]][0])\n",
    "    \n",
    "    for w in zoektermen:                              #doorloop alle zoektermen\n",
    "        \n",
    "        # zoek naar PDF's in urls\n",
    "        for k in d.keys():                                        #loop teksten\n",
    "            for u in d[k]:                            #loop urls van elke tekst\n",
    "                if u.endswith(tuple([\".pdf\", \".pdf?\"])):\n",
    "                    if u.find(w) > -1:            #als zoekterm voorkomt in url\n",
    "                        return (k, u)\n",
    "        \n",
    "        # zoekterm gelijk aan complete tekst\n",
    "        for k in d.keys():                                        #loop teksten\n",
    "            if k.find(w) > -1:                  #als zoekterm voorkomt in tekst\n",
    "                return [k, d[k][0]]\n",
    "        \n",
    "        # zoekterm gelijk aan deel tekst\n",
    "        for k in d.keys():                                        #loop teksten\n",
    "            if u.find(w) > -1:                    #als zoekterm voorkomt in url\n",
    "                return (k, u)\n",
    "\n",
    "        # deel zoekterm gelijk aan tekst\n",
    "        for k in d.keys():                                        #loop teksten\n",
    "            if w.find(k) > -1:                    #als zoekterm voorkomt in url\n",
    "                return (k, u)\n",
    "\n",
    "    # kies de eerste (oudste) link van de eerste term\n",
    "    return (list(d.keys())[0], d[list(d.keys())[0]][0])"
   ]
  },
  {
   "source": [
    "## Code\n",
    "Code ter uitvoering van de scraper"
   ],
   "cell_type": "markdown",
   "metadata": {}
  },
  {
   "cell_type": "code",
   "execution_count": null,
   "metadata": {},
   "outputs": [],
   "source": [
    "# laad of herlaad de lijst met urls.\n",
    "if herstarten:\n",
    "    print('maak urllijst')\n",
    "    df = pd.read_csv(r'J:\\Data Science\\Data\\Brin\\org_url\\org_url_20191212.txt', sep='\\t' )\n",
    "    df['DT_EINDE_RECORD'].fillna(21001231, inplace = True)\n",
    "#    df['DT_EINDE_RECORD'] = df['DT_EINDE_RECORD'].astype('int64', inplace = True)\n",
    "    df['status'] = 0\n",
    "    df['status_dat'] = dt.datetime.now()\n",
    "    df.to_csv(pad + 'urllijst.csv', sep='\\t', encoding='utf-8', index=False)\n",
    "else:\n",
    "    print('laad urllijst')\n",
    "    df = pd.read_csv(pad + 'urllijst.csv', sep='\\t', encoding='utf-8')\n",
    "    \n",
    "print(df.loc[df['status'] == 0].shape)\n",
    "# , encoding='utf-8'"
   ]
  },
  {
   "cell_type": "code",
   "execution_count": null,
   "metadata": {},
   "outputs": [],
   "source": [
    "# bekijk enkel de url's met een geldige syntax:\n",
    "controle = url_controle_syntax(df)\n",
    "df.loc[controle, ['status', 'status_dat']] = [3, dt.datetime.now()]\n",
    "print(df.loc[df['status'] == 0].shape)\n",
    "df.to_csv(pad + 'urllijst.csv', sep='\\t', encoding='utf-8', index=False)"
   ]
  },
  {
   "cell_type": "code",
   "execution_count": null,
   "metadata": {},
   "outputs": [],
   "source": [
    "# bekijk enkel url's geldig op de prikdatum:\n",
    "prikdatum = 20181001\n",
    "df.loc[(df.DT_BEGIN_RECORD > prikdatum) | (prikdatum > df.DT_EINDE_RECORD), ['status', 'status_dat']] = [2, dt.datetime.now()]\n",
    "print(df.loc[df['status'] == 0].shape)"
   ]
  },
  {
   "cell_type": "code",
   "execution_count": null,
   "metadata": {},
   "outputs": [],
   "source": [
    "# selectie bij het scannen:\n",
    "\n",
    "# bekijk enkel de basisscholen:\n",
    "if False:\n",
    "    df.loc[df['CODE_SOORT'] != 'BAS', ['status', 'status_dat']] = [1, dt.datetime.now()]\n",
    "\n",
    "# of enkel alle brin4's\n",
    "#df.loc[df['CODE_FUNCTIE'] != 'U', ['status', 'status_dat']] = [1, dt.datetime.now()]\n",
    "\n",
    "print(df.loc[df['status'] == 0].shape)"
   ]
  },
  {
   "cell_type": "code",
   "execution_count": null,
   "metadata": {},
   "outputs": [],
   "source": [
    "df[\"status\"].value_counts()"
   ]
  },
  {
   "cell_type": "code",
   "execution_count": null,
   "metadata": {},
   "outputs": [],
   "source": [
    "########################################\n",
    "print('laad urllijst')\n",
    "df = pd.read_csv(pad + 'urllijst.csv', sep='\\t', encoding='utf-8')\n",
    "df.loc[df['status'] == 0].sort_values(by='NR_ADMINISTRATIE').head()"
   ]
  },
  {
   "cell_type": "code",
   "execution_count": null,
   "metadata": {},
   "outputs": [],
   "source": [
    "        #zoeklijst = {'start': ['http://www.hetsterrenlicht.nl/School/Schoolgids']}\n",
    "#        while len(zoeklijst) > 0 and todo != [] and zoek_n > 0: #scan zoeklijst\n",
    "#            print('zoeklijst:', zoeklijst)\n",
    "#            print('gedaan:', gedaan)\n",
    "#                print(\"deze url al gedaan\")\n",
    "#                print(96, zoek_n)\n",
    "#                print(99, zoek_n, len(str(pagina)))\n",
    "#                    print(95, anchor)\n",
    "#                        print(98)\n",
    "#                    print(72, anchor.contents)\n",
    "#                    print(94, len(zoeklijst), url_totaal)\n",
    "#            print('------', zoek_n, len(zoeklijst), len(gedaan))\n"
   ]
  },
  {
   "cell_type": "code",
   "execution_count": null,
   "metadata": {},
   "outputs": [],
   "source": [
    "# een paar scholen negeren omdat deze nog fouten opleveren\n",
    "if True:\n",
    "    df.loc[df['NR_ADMINISTRATIE'].isin(['00BW', '00CU', '00EI', '00ML',\n",
    "        '00KM40', '00ML00', '00MP', '00MV', '00RK', '02GD', '02GD00', '02PQ00',\n",
    "        '02RM', '02WU00', '03HH', '03IC', '03LR', '03WL00', '03XB00', '04GX01', '04IK00', '04JR', '04KC', \n",
    "        '04MZ', '04VG', '04VG00', '04VH', '05IL00', '05JZ00', '05OP00', '05RV', '05TN',\n",
    "        '05TN00', '05TS', '05YL', '05YL00', '05ZW', '06EI', '06LH', '06NI', '06NI00', '06PI', '07EC',\n",
    "        '08JE00', '08KC', '08NF', '08NP', '08TL00', '09LK', '09LK00', '09OA00', '09VY00', '10JM',\n",
    "        '10JT', '10NH', '10NL', '10PO', '10QE', '10QY', '10UF', '10UF00', '11AY00', \n",
    "        '11UH00', '12BF00', '12CL00', '12GN00', '12VA', '12VA00', '12ZL ', '13603', '13OW00', '13VC00', '15SZ', '15TL', \n",
    "        '13OW01', '13WM', '13WM00', '14RC', '15SZ', '15TL', '15VQ', '15VQ00', \n",
    "        '16JK', '16JK00', '16WH00', '17NQ', '17NQ00', '17OB', '17OB01', \n",
    "        '17OF', '17OF00', '17PB', '17PB00', '17QF', '17QF00', '17XW00', '18CH10', \n",
    "        '18PQ', '18PQ00', '18SP',\n",
    "        '18SP00', '18SU', '18ZG00', '19CA00', '19MZ', '19MZ00', '19QL', '20127', \n",
    "        '20AA', '20DG', '20JQ00', '21GW', '21GW00', '21GW01', '21GW02', '21HC12',\n",
    "        '23DJ', '23DR', '23RC', '23RC00', '23ZW00', '25KE', '25KE00', '26AC', '26AW', \n",
    "        '26AW00', '28CD', '28LC00', '29XL', '30837', '30BE', '30PW', '30UF', '30UN',\n",
    "        '30UR00', '31028', '31162', '31FM', '31FM00',\n",
    "        '40075', '35647', '40180', '40646', '40648', '40945', '41282', '41407', '41490', '41509',\n",
    "        '41812', '42616', '48622', '76753', '84215', '87205', '94771', '99048', '99060', '99711', \n",
    "        'VO2507', 'VO2810', 'VO2307']), 'status'] = 8\n",
    "df[\"status\"].value_counts()"
   ]
  },
  {
   "cell_type": "code",
   "execution_count": null,
   "metadata": {},
   "outputs": [],
   "source": [
    "# scan de sites ####################################################\n",
    "for index, regel in df.sample(frac=1).iterrows():\n",
    "#for index, regel in df[632:].iterrows():                           #max: 49842, 2937\n",
    "    if regel['status'] == 0:\n",
    "        print(nu(), 'instelling: ', regel['NR_ADMINISTRATIE'], index)\n",
    "        zoeklijst = {'start': [url_beautify(regel['URL'])]}    #nog te bekijken\n",
    "        gedaan = []\n",
    "        todo = ['informatiegids', 'jaarkalender', 'jaarplan', 'jaarrekening', \n",
    "            'jaarverslag', 'schoolinformatieboekje', 'schoolgids',\n",
    "            'schoolplan', 'schoolondersteuningsprofiel']\n",
    "        zoek_n = randint(2,40)\n",
    "        #zoek_n = 25                    # zo vaak per brin zoeken naar goede url\n",
    "        while len(zoeklijst) > 0 and zoek_n > 0:                #scan zoeklijst\n",
    "            u_tekst, u_link = url_kiezen(zoeklijst)\n",
    "            if u_link in gedaan:                                #link al gedaan\n",
    "                if len(zoeklijst[u_tekst]) == 1:      #enige link van een tekst\n",
    "                    del zoeklijst[u_tekst]  #verwijder u_tekst uit de zoeklijst\n",
    "                else:\n",
    "                    zoeklijst[u_tekst] = zoeklijst[u_tekst][1:]   #verw 1e link\n",
    "                continue\n",
    "            print(' -', zoek_n, len(zoeklijst), len(gedaan), 'Gekozen url:', u_link, '\"' + u_tekst + '\"')\n",
    "            if u_link.split(\"?\")[0].lower().endswith(('.pdf', '.doc', '.docx', '.txt')):\n",
    "                for todo_i in todo:\n",
    "                    if todo_i in u_link.lower() or todo_i in u_tekst:\n",
    "                        document_downloaden(u_link, regel['NR_ADMINISTRATIE'], todo_i, u_tekst)\n",
    "            else:                                                 #volg de link\n",
    "                try:\n",
    "                    pagina = simple_get(u_link)\n",
    "                except KeyError:\n",
    "                    pass\n",
    "                soup = BeautifulSoup(str(pagina),'html.parser')\n",
    "                for anchor in soup.find_all('a'):\n",
    "                    if str(anchor).find('href') < 0:\n",
    "                        continue\n",
    "                    if anchor.contents == []:\n",
    "                        tekst = ''\n",
    "                    else:\n",
    "                        tekst = str(anchor.contents[0])\n",
    "                    url_totaal = anchor_url(str(anchor), u_link)\n",
    "                    zoeklijst_uitbreiden(zoeklijst, tekst, url_totaal)\n",
    "            gedaan += [u_link]\n",
    "            zoek_n -= 1\n",
    "            sleep(1.1)\n",
    "        #print('einde organisatie:', regel['NR_ADMINISTRATIE'], len(zoeklijst))                                  "
   ]
  }
 ]
}