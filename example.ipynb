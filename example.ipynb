{
 "metadata": {
  "language_info": {
   "codemirror_mode": {
    "name": "ipython",
    "version": 3
   },
   "file_extension": ".py",
   "mimetype": "text/x-python",
   "name": "python",
   "nbconvert_exporter": "python",
   "pygments_lexer": "ipython3",
   "version": "3.8.5"
  },
  "orig_nbformat": 4,
  "kernelspec": {
   "name": "python3",
   "display_name": "Python 3.9.4 64-bit ('webscraper': conda)"
  },
  "interpreter": {
   "hash": "35ed36e25e4deac7ca26cc2368b8d54f5bb6686dbd32b71ec212d276d2285009"
  }
 },
 "nbformat": 4,
 "nbformat_minor": 2,
 "cells": [
  {
   "cell_type": "markdown",
   "source": [
    "# Example\n",
    "Deze notebook bevat voorbeelden voor het gebruik van de functies en code in deze repository."
   ],
   "metadata": {}
  },
  {
   "cell_type": "markdown",
   "source": [
    "## Import Packages\n",
    "Deze cellen importen de benodigde packages en methods."
   ],
   "metadata": {}
  },
  {
   "cell_type": "code",
   "execution_count": 1,
   "source": [
    "# import all methods from scraper in folder /code\r\n",
    "# from code.scraper import * #alleen als deze package is geïnstalleerd in je environment\r\n",
    "import sys; sys.path.append('./code') # import scraper vanuit de relatieve folder in dit project (dus niet vanuit je python environment)\r\n",
    "from scraper import *"
   ],
   "outputs": [],
   "metadata": {}
  },
  {
   "cell_type": "markdown",
   "source": [
    "## Definities\n",
    "Hier staat een lijst van definities die handig zijn om te weten bij het gebruiken van deze package.\n",
    "\n",
    "- URL: een URL is de locatie van een website.\n",
    "- HTML: de HTML is een object dat je webbrowser omzet in leesbare tekst en ontwerp.\n",
    "- Anchor: de anchor is een element in een HTML object die links bevat. Dit kan naar interne als extern websites of documenten of plaatjes.\n",
    "- HREF: de HREF is een parameter in de anchor die de link bevat."
   ],
   "metadata": {}
  },
  {
   "cell_type": "markdown",
   "source": [
    "## Methods\n",
    "De volgende cellen laten een voorbeeld zien van alle methodes/functies in de scraper package"
   ],
   "metadata": {}
  },
  {
   "cell_type": "code",
   "execution_count": 2,
   "source": [
    "url = 'www.onderwijsincijfers.nl'"
   ],
   "outputs": [],
   "metadata": {}
  },
  {
   "cell_type": "markdown",
   "source": [
    "### `beatify_url(url)`\n",
    "\n",
    "Deze functie maakt een URL bruikbaar voor een http intepreter. Hiervoor is een `http` voorzetsel nodig."
   ],
   "metadata": {}
  },
  {
   "cell_type": "code",
   "execution_count": 3,
   "source": [
    "b_url = beautify_url(url)\r\n",
    "print(b_url)"
   ],
   "outputs": [
    {
     "output_type": "stream",
     "name": "stdout",
     "text": [
      "http://www.onderwijsincijfers.nl\n"
     ]
    }
   ],
   "metadata": {}
  },
  {
   "cell_type": "markdown",
   "source": [
    "### `domain_styles(b_url)`\n",
    "\n",
    "Deze functie gebruikt een beautified URL en geeft twee lists terug, de eerste met domeinstijlen zonder `http` en de tweede met `http`."
   ],
   "metadata": {}
  },
  {
   "cell_type": "code",
   "execution_count": 7,
   "source": [
    "domain_styles(b_url)"
   ],
   "outputs": [
    {
     "output_type": "execute_result",
     "data": {
      "text/plain": [
       "(['onderwijsincijfers.nl/',\n",
       "  'onderwijsincijfers.nl',\n",
       "  'www.onderwijsincijfers.nl/',\n",
       "  'www.onderwijsincijfers.nl'],\n",
       " ['http://www.onderwijsincijfers.nl/',\n",
       "  'http://www.onderwijsincijfers.nl',\n",
       "  'https://www.onderwijsincijfers.nl/',\n",
       "  'https://www.onderwijsincijfers.nl',\n",
       "  'http://onderwijsincijfers.nl/',\n",
       "  'http://onderwijsincijfers.nl',\n",
       "  'https://onderwijsincijfers.nl/',\n",
       "  'https://onderwijsincijfers.nl'])"
      ]
     },
     "metadata": {},
     "execution_count": 7
    }
   ],
   "metadata": {}
  },
  {
   "cell_type": "markdown",
   "source": [
    "### `set_headers()`\n",
    "\n",
    "Sommige websites proberen bots te weren door een eis te stellen aan requests dat het van een webbrowser komt. Deze eis kan je omzeilen door te spoofen dat je vanuit een webbrowser een request stuurt. Hiervoor heb je een header nodig, deze zijn hardcoded in deze method."
   ],
   "metadata": {}
  },
  {
   "cell_type": "code",
   "execution_count": 8,
   "source": [
    "set_headers()"
   ],
   "outputs": [
    {
     "output_type": "execute_result",
     "data": {
      "text/plain": [
       "{'User-Agent': 'Mozilla/5.0 (Windows NT 10.0; Win64; x64) AppleWebKit/537.36 (KHTML, like Gecko) Chrome/91.0.4472.77 Safari/537.36 Edg/91.0.864.41'}"
      ]
     },
     "metadata": {},
     "execution_count": 8
    }
   ],
   "metadata": {}
  },
  {
   "cell_type": "markdown",
   "source": [
    "### `check_url(url)`\r\n",
    "\r\n",
    "Deze functie geeft de response code van een request naar een url. Aan de hand van deze response code kun je kijken of je de website succesvol kan bereiken of dat je een bepaalde foutmelding krijgt.\r\n",
    "\r\n",
    "Note: de functie probeert eerst met `verify=True` flag maar kan dan tegen een `Max Retries` error aanlopen en zet dan `verify=False` om deze error te omzeilen. Dit geeft een warning omdat je dan een onveilige verbinding aangaat met de host.\r\n",
    "\r\n",
    "Voor meer informatie over http response codes kijk op `https://developer.mozilla.org/en-US/docs/Web/HTTP/Status`."
   ],
   "metadata": {}
  },
  {
   "cell_type": "code",
   "execution_count": 9,
   "source": [
    "check_url(url)"
   ],
   "outputs": [
    {
     "output_type": "stream",
     "name": "stderr",
     "text": [
      "C:\\Tools\\Anaconda3\\envs\\webscraper\\lib\\site-packages\\urllib3\\connectionpool.py:981: InsecureRequestWarning: Unverified HTTPS request is being made to host 'proxy.prd.duo.nl'. Adding certificate verification is strongly advised. See: https://urllib3.readthedocs.io/en/latest/advanced-usage.html#ssl-warnings\n",
      "  warnings.warn(\n"
     ]
    },
    {
     "output_type": "execute_result",
     "data": {
      "text/plain": [
       "200"
      ]
     },
     "metadata": {},
     "execution_count": 9
    }
   ],
   "metadata": {}
  },
  {
   "cell_type": "markdown",
   "source": [
    "### `get_url(url)`\n",
    "\n",
    "Deze functie haalt de URL op die wordt gepingd. Soms wordt de request naar een URL redirected zoals een subdomein of een ander host (bijvoorbeeld http -> https of naar een externe host zoals google)."
   ],
   "metadata": {}
  },
  {
   "cell_type": "code",
   "execution_count": 10,
   "source": [
    "get_url(url)"
   ],
   "outputs": [
    {
     "output_type": "execute_result",
     "data": {
      "text/plain": [
       "'https://www.onderwijsincijfers.nl/'"
      ]
     },
     "metadata": {},
     "execution_count": 10
    }
   ],
   "metadata": {}
  },
  {
   "cell_type": "markdown",
   "source": [
    "### `fix_url(url)`\n",
    "\n",
    "Deze functie checkt een url op veelvoorkomende fouten en tracht deze te repareren."
   ],
   "metadata": {}
  },
  {
   "cell_type": "code",
   "execution_count": 11,
   "source": [
    "fix_url('www,onderwijsincijfers.nl')"
   ],
   "outputs": [
    {
     "output_type": "execute_result",
     "data": {
      "text/plain": [
       "'www.onderwijsincijfers.nl'"
      ]
     },
     "metadata": {},
     "execution_count": 11
    }
   ],
   "metadata": {}
  },
  {
   "cell_type": "markdown",
   "source": [
    "### `fetch_html(url)`\n",
    "\n",
    "Deze functie haalt het html object op van de url."
   ],
   "metadata": {}
  },
  {
   "cell_type": "code",
   "execution_count": 12,
   "source": [
    "fetch_html(url)"
   ],
   "outputs": [
    {
     "output_type": "stream",
     "name": "stderr",
     "text": [
      "C:\\Tools\\Anaconda3\\envs\\webscraper\\lib\\site-packages\\urllib3\\connectionpool.py:981: InsecureRequestWarning: Unverified HTTPS request is being made to host 'proxy.prd.duo.nl'. Adding certificate verification is strongly advised. See: https://urllib3.readthedocs.io/en/latest/advanced-usage.html#ssl-warnings\n",
      "  warnings.warn(\n"
     ]
    },
    {
     "output_type": "execute_result",
     "data": {
      "text/plain": [
       "rsteunt deze standaarden niet. Stap daarom over op een recente browser.</strong></p>\");\\n    }\\n\\n  </script>\\n  </header>\\n<div id=\"navBar\">\\n  <div class=\"wrapper\">\\n    <nav class=\"breadCrumbNav\" aria-labelledby=\"breadCrumbNavLabel\">\\n  <span class=\"assistive\" id=\"breadCrumbNavLabel\">U bevindt zich hier:</span>\\n  <a href=\"/\" aria-current=\"page\">Home</a>\\n</nav>\\n<div id=\"searchForm\" role=\"search\" class=\"searchForm\" data-search-closed=\"Open zoekveld\" data-search-opened=\"Start zoeken\">\\n  <form method=\"get\" action=\"/zoeken\" id=\"search-form\" data-clearcontent=\"Invoer wissen\">\\n    <label for=\"search-keyword\">Zoeken binnen Onderwijs in cijfers</label>\\n    <input type=\"text\" id=\"search-keyword\" class=\"searchInput\" name=\"trefwoord\"\\n      title=\"Typ hier uw zoektermen\" placeholder=\"Zoeken\" />\\n    <button id=\"search-submit\" class=\"searchSubmit\" name=\"search-submit\" type=\"submit\" \\n        title=\"Start zoeken\">\\n      Zoek</button>\\n  </form>\\n</div>\\n</div>\\n</div><main id=\"content-wrapper\" tabindex=\"-1\">\\n  <div class=\"headerImage smallHeaderImage topTask\"\\n         data-advance=\"8\"\\n         data-pauzetxt=\"Pauzeer diashow\" \\n         data-playtxt=\"Speel diashow af\">\\n        <div class=\"wrapper\">\\n            <div class=\"topTaskNavigation\">\\n                    <h2>Ga direct naar</h2>\\n                    <ul>\\n                            <!-- stub for overriding -->\\n<li>\\n  <a href=\"https://www.ocwincijfers.nl/verantwoord-begroten/begroting/dashboard-beleidsagenda-2021\">\\n            Dashboard beleidsagenda 2021</a>\\n        </li><!-- stub for overriding -->\\n<li>\\n  <a href=\"https://www.ocwincijfers.nl/onderwijs/dashboard-gelijke-kansen\">\\n            Dashboard Gelijke Kansen</a>\\n        </li><!-- stub for overriding -->\\n<li>\\n  <a href=\"/themas/dashboard-baten-en-lasten-besturen\">\\n            Dashboard Jaarrekeninggegevens</a>\\n        </li><!-- stub for overriding -->\\n<li>\\n  <a href=\"https://www.ocwincijfers.nl/verantwoord-begroten/dashboard-sectorakkoorden\">\\n            Dashboard sectorakkoorden</a>\\n        </li><!-- stub for overriding -->\\n<li>\\n  <a href=\"/kengetallen/onderwijs-algemeen/leerlingen-en-studenten/prestaties-voortijdig-schoolverlaten\">\\n            Voortijdig schoolverlaters</a>\\n        </li><!-- stub for overriding -->\\n<li>\\n  <a href=\"http://www.onderwijsinderegioincijfers.nl/\" class=\"external \"\\n        \\n          aria-label=\"www.onderwijsinderegioincijfers.nl (opent externe website)\"\\n        \\n      >\\n        www.onderwijsinderegioincijfers.nl</a>\\n      </li></ul>\\n                    </div>\\n            </div>\\n        <div class=\"slide\"  data-img=\"/binaries/large/content/gallery/onderwijs-in-cijfers/attentie-afbeeldingen/bord-img_1871.jpg\">\\n                  <figure class=\"img-container\">\\n                        <picture>\\n                        <source srcset=\"/binaries/medium/content/gallery/onderwijs-in-cijfers/attentie-afbeeldingen/bord-img_1871.jpg\" media=\"(max-width: 830px)\">\\n                        <source srcset=\"/binaries/large/content/gallery/onderwijs-in-cijfers/attentie-afbeeldingen/bord-img_1871.jpg\" media=\"(max-width: 1250px)\">\\n                        <img src=\"/binaries/large/content/gallery/onderwijs-in-cijfers/attentie-afbeeldingen/bord-img_1871.jpg\" alt=\"\">\\n                    </picture>\\n                    </figure>\\n                </div>\\n            <div class=\"slide\"  data-img=\"/binaries/large/content/gallery/onderwijs-in-cijfers/attentie-afbeeldingen/leraar.jpg\">\\n                  <figure class=\"img-container\">\\n                        <picture>\\n                        <source srcset=\"/binaries/medium/content/gallery/onderwijs-in-cijfers/attentie-afbeeldingen/leraar.jpg\" media=\"(max-width: 830px)\">\\n                        <source srcset=\"/binaries/large/content/gallery/onderwijs-in-cijfers/attentie-afbeeldingen/leraar.jpg\" media=\"(max-width: 1250px)\">\\n                        <img src=\"/binaries/large/content/gallery/onderwijs-in-cijfers/attentie-afbeeldingen/leraar.jpg\" alt=\"Rekenles\">\\n                    </picture>\\n                    </figure>\\n                </div>\\n            <div class=\"slide\"  data-img=\"/binaries/large/content/gallery/onderwijs-in-cijfers/attentie-afbeeldingen/vo-jpg\">\\n                  <figure class=\"img-container\">\\n                        <picture>\\n                        <source srcset=\"/binaries/medium/content/gallery/onderwijs-in-cijfers/attentie-afbeeldingen/vo-jpg\" media=\"(max-width: 830px)\">\\n                        <source srcset=\"/binaries/large/content/gallery/onderwijs-in-cijfers/attentie-afbeeldingen/vo-jpg\" media=\"(max-width: 1250px)\">\\n                        <img src=\"/binaries/large/content/gallery/onderwijs-in-cijfers/attentie-afbeeldingen/vo-jpg\" alt=\"\">\\n                    </picture>\\n                    </figure>\\n                </div>\\n            <div class=\"slide\"  data-img=\"/binaries/large/content/gallery/onderwijs-in-cijfers/attentie-afbeeldingen/5488-roc-mondriaan_1.jpg\">\\n                  <figure class=\"img-container\">\\n                        <picture>\\n                        <source srcset=\"/binaries/medium/content/gallery/onderwijs-in-cijfers/attentie-afbeeldingen/5488-roc-mondriaan_1.jpg\" media=\"(max-width: 830px)\">\\n                        <source srcset=\"/binaries/large/content/gallery/onderwijs-in-cijfers/attentie-afbeeldingen/5488-roc-mondriaan_1.jpg\" media=\"(max-width: 1250px)\">\\n                        <img src=\"/binaries/large/content/gallery/onderwijs-in-cijfers/attentie-afbeeldingen/5488-roc-mondriaan_1.jpg\" alt=\"ROC Mondriaan afdeling autotechniek\">\\n                    </picture>\\n                    </figure>\\n                </div>\\n            <div class=\"slide\"  data-img=\"/binaries/large/content/gallery/onderwijs-in-cijfers/attentie-afbeeldingen/20070817105.jpg\">\\n                  <figure class=\"img-container\">\\n                        <picture>\\n                        <source srcset=\"/binaries/medium/content/gallery/onderwijs-in-cijfers/attentie-afbeeldingen/20070817105.jpg\" media=\"(max-width: 830px)\">\\n                        <source srcset=\"/binaries/large/content/gallery/onderwijs-in-cijfers/attentie-afbeeldingen/20070817105.jpg\" media=\"(max-width: 1250px)\">\\n                        <img src=\"/binaries/large/content/gallery/onderwijs-in-cijfers/attentie-afbeeldingen/20070817105.jpg\" alt=\"leerlingen voortgezet onderwijs\">\\n                    </picture>\\n                    </figure>\\n                </div>\\n            <div class=\"slide\"  data-img=\"/binaries/large/content/gallery/onderwijs-in-cijfers/attentie-afbeeldingen/hoogleraar.jpg\">\\n                  <figure class=\"img-container\">\\n                        <picture>\\n                        <source srcset=\"/binaries/medium/content/gallery/onderwijs-in-cijfers/attentie-afbeeldingen/hoogleraar.jpg\" media=\"(max-width: 830px)\">\\n                        <source srcset=\"/binaries/large/content/gallery/onderwijs-in-cijfers/attentie-afbeeldingen/hoogleraar.jpg\" media=\"(max-width: 1250px)\">\\n                        <img src=\"/binaries/large/content/gallery/onderwijs-in-cijfers/attentie-afbeeldingen/hoogleraar.jpg\" alt=\"Hoogleraar op trap\">\\n                    </picture>\\n                    </figure>\\n                </div>\\n            </div>\\n<div class=\"editorial-navigation\">\\n    <div class=\"wrapper\">\\n    <nav>\\n      <h2 class=\"assistive\">Hoofdmenu</h2>\\n      <div class=\"fourItems\">\\n        <ul>\\n          <li class=\"navItem hasIcon\">\\n                  <a href=\"/kengetallen/onderwijs-algemeen\">\\n                    <div class=\"icon\">\\n                          <img src=\"/binaries/content/gallery/onderwijs-in-cijfers/iconen-afbeeldingen/4027-school_wit.svg\" alt=\"\"/>\\n                        </div>\\n                      <div class=\"editorial-navigation-content\">\\n                      <h3>Onderwijs algemeen</h3>\\n                          <p>Cijfers over het onderwijs als geheel en onderwerpen zoals niet-bekostigd onderwijs en studiefinanciering</p>\\n                        </div>\\n                  </a>\\n                </li>\\n          <li class=\"navItem hasIcon\">\\n                  <a href=\"/kengetallen/internationaal\">\\n                    <div class=\"icon\">\\n                          <img src=\"/binaries/content/gallery/onderwijs-in-cijfers/iconen-afbeeldingen/4084-passend-onderwijs_wit.svg\" alt=\"\"/>\\n                        </div>\\n                      <div class=\"editorial-navigation-content\">\\n                      <h3>Onderwijs internationaal</h3>\\n                          <p>Cijfers over het Nederlandse onderwijs in internationaal perspectief en diverse onderzoeken</p>\\n                        </div>\\n                  </a>\\n                </li>\\n          <li class=\"navItem hasIcon\">\\n                  <a href=\"/kengetallen/po\">\\n                    <div class=\"icon\">\\n                          <img src=\"/binaries/content/gallery/onderwijs-in-cijfers/iconen-afbeeldingen/4057-basisonderwijs.svg_wit.svg\" alt=\"\"/>\\n                        </div>\\n                      <div class=\"editorial-navigation-content\">\\n                      <h3>Primair onderwijs</h3>\\n                          <p>Hoeveel leraren werken hier? Welk schooladvies krijgen leerlingen? Lees hier meer over het po</p>\\n                        </div>\\n                  </a>\\n                </li>\\n          <li class=\"navItem hasIcon\">\\n                  <a href=\"/kengetallen/vo\">\\n                    <div class=\"icon\">\\n                          <img src=\"/binaries/content/gallery/onderwijs-in-cijfers/iconen-afbeeldingen/4058-voortgezet-onderwijs_wit.svg\" alt=\"\"/>\\n                        </div>\\n                      <div class=\"editorial-navigation-content\">\\n                      <h3>Voortgezet onderwijs</h3>\\n                          <p>Welk profiel kiezen leerlingen? Wat zijn hun slaagpercentages? Lees hier meer over het vo</p>\\n                        </div>\\n                  </a>\\n                </li>\\n          <li class=\"navItem hasIcon\">\\n                  <a href=\"/kengetallen/mbo\">\\n                    <div class=\"icon\">\\n                          <img src=\"/binaries/content/gallery/onderwijs-in-cijfers/iconen-afbeeldingen/4059-middelbaar-beroepsonderwijs_wit.svg\" alt=\"\"/>\\n                        </div>\\n                      <div class=\"editorial-navigation-content\">\\n                      <h3>Middelbaar beroepsonderwijs</h3>\\n                          <p>Hoe stromen leerlingen door? Wat is hun positie op de arbeidsmarkt? Lees hier meer over het mbo</p>\\n                        </div>\\n                  </a>\\n                </li>\\n          <li class=\"navItem hasIcon\">\\n                  <a href=\"/kengetallen/hbo\">\\n                    <div class=\"icon\">\\n                          <img src=\"/binaries/content/gallery/onderwijs-in-cijfers/iconen-afbeeldingen/4060-hoger-onderwijs_wit.svg\" alt=\"\"/>\\n                        </div>\\n                      <div class=\"editorial-navigation-content\">\\n                      <h3>Hoger beroepsonderwijs</h3>\\n                          <p>Hoeveel eerstejaars heeft het hbo? Hoe hoog zijn de uitgaven aan deze sector? Lees hier meer over het hbo</p>\\n                        </div>\\n                  </a>\\n                </li>\\n          <li class=\"navItem hasIcon\">\\n                  <a href=\"/kengetallen/wo\">\\n                    <div class=\"icon\">\\n                          <img src=\"/binaries/content/gallery/onderwijs-in-cijfers/iconen-afbeeldingen/4030-onderwijs-cultuur-wetenschap_wit.svg\" alt=\"\"/>\\n                        </div>\\n                      <div class=\"editorial-navigation-content\">\\n                      <h3>Wetenschappelijk onderwijs</h3>\\n                          <p>Hoe zien de laatste prognoses eruit? Hoeveel promovendi verlaten jaarlijks het wo? Lees hier meer over het wo</p>\\n                        </div>\\n                  </a>\\n                </li>\\n          <li class=\"navItem hasIcon\">\\n                  <a href=\"/themas\">\\n                    <div class=\"icon\">\\n                          <img src=\"/binaries/content/gallery/onderwijs-in-cijfers/iconen-afbeeldingen/2061-gegevens_wit.svg\" alt=\"\"/>\\n                        </div>\\n                      <div class=\"editorial-navigation-content\">\\n                      <h3>Verdiepende artikelen</h3>\\n                          <p>Overzicht van korte artikelen over onderwerpen zoals stapelen in het vo en techniek in het onderwijs</p>\\n                        </div>\\n                  </a>\\n                </li>\\n          </ul>\\n      </div>\\n    </nav>\\n\\n    </div>\\n  </div>\\n<div class=\"wrapper\">\\n    <h1 class=\"assistive\">\\n      Onderwijs in Cijfers</h1>\\n<div class=\"article content\">\\n  <div class=\"intro\"><p>Onderwijs in Cijfers geeft de belangrijkste cijfermatige informatie\\xa0over het onderwijs in Nederland.</p>\\n\\n<p>Deze website is een samenwerking tussen het Centraal Bureau voor de Statistiek (CBS), Dienst Uitvoering Onderwijs (DUO) en het ministerie van Onderwijs, Cultuur en Wetenschap (OCW).</p></div>\\n  <div class=\"contentBox\">\\n<div class=\"content-image-left\">\\n    <figure class=\"img-container\">\\n    <a class=\"swbox\" href=\"https://www.onderwijsincijfers.nl/binaries/large/content/gallery/onderwijs-in-cijfers/content-afbeeldingen/logohomepage.png\">\\n      <img\\n        \\n          class=\"hasOptions\"\\n          data-options=\"lightbox,share\"\\n          data-close=\"Sluiten\"\\n          data-open=\"Toon opties\"\\n          data-header=\"Delen via\"\\n          data-share=\"Deel afbeelding {afbeeldingnaam} op uw eigen account op {socialmedia}\"\\n          data-download=\"Download afbeelding\"\\n          data-enlarge=\"Vergroot afbeelding\"\\n          data-enlargeanddownload=\"Vergroten en downloaden\"\\n        \\n          data-shareplatforms=\"tw,fb,li\"\\n          data-sharemedia=\"https://www.onderwijsincijfers.nl/binaries/large/content/gallery/onderwijs-in-cijfers/content-afbeeldingen/logohomepage.png\"\\n        \\n          data-hresimg=\"https://www.onderwijsincijfers.nl/binaries/large/content/gallery/onderwijs-in-cijfers/content-afbeeldingen/logohomepage.png\"\\n        \\n          data-closeimage=\"Afbeelding sluiten\"\\n          src=\"/binaries/medium/content/gallery/onderwijs-in-cijfers/content-afbeeldingen/logohomepage.png\"\\n        \\n          alt=\"Het logo voor de nieuwsbrief OCW | Trends &amp; Cijfers\">\\n        </a>\\n    </figure>\\n  </div>\\n<h2><a href=\"https://www.ocwincijfers.nl/actueel/nieuwsbrieven/ocw---trends--cijfers\">Blijf op de hoogte! </a></h2>\\n\\n<p>Meld je aan voor de nieuwsbrief OCW | Trends &amp; Cijfers.</p></div>\\n</div>\\n<div class=\"fullWidthSection\">\\n  <section class=\"brickRow nieuws\">\\n    <h2>\\n      Nieuws</h2>\\n\\n    <div class=\"brick\">\\n  <a href=\"/actueel/nieuws/2021/07/01/regioscanner-geactualiseerd\">\\n    <h3>\\n\\n      De regioscanner is geactualiseerd en uitgebreid</h3>\\n    <div class=\"brick-text\">\\n        <p>\\n          <span class=\"publDate\">01-07-2021 | 16:19</span>\\n        </p>\\n        <p>De regioscanner maakt het mogelijk om regio’s en gemeenten wat betreft studenten, onderwijs, arbeidsmarkt, demografie en ...</p>\\n        </div>\\n  </a>\\n\\n</div>\\n\\n<div class=\"brick\">\\n  <a href=\"/actueel/nieuws/2021/04/1/inzicht-in-de-%E2%80%98arbeidsmarkt-en-personeelstekorten%E2%80%99-voor-het-voortgezet-onderwijs\">\\n    <h3>\\n\\n      Inzicht in de ‘arbeidsmarkt en personeelstekorten’ voor het voortgezet onderwijs</h3>\\n    <div class=\"brick-text\">\\n        <p>\\n          <span class=\"publDate\">01-04-2021 | 09:00</span>\\n        </p>\\n        <p>De nieuwe overzichtspagina bevat indicatoren over de huidige situatie en de toekomstige situatie van de arbeidsmarkt, waar spake ...</p>\\n        </div>\\n  </a>\\n\\n</div>\\n\\n<div class=\"brick\">\\n  <a href=\"/actueel/nieuws/2020/12/10/trendrapportage-arbeidsmarkt-leraren-po-vo-en-mbo-2020\">\\n    <h3>\\n\\n      Trendrapportage Arbeidsmarkt Leraren po, vo en mbo 2020</h3>\\n    <div class=\"brick-text\">\\n        <p>\\n          <span class=\"publDate\">10-12-2020 | 10:35</span>\\n        </p>\\n        <p>In de Trendrapportage Arbeidsmarkt Leraren po, vo en mbo 2020 worden de belangrijkste, meest actuele cijfers over leraren en hun ...</p>\\n        </div>\\n  </a>\\n\\n</div>\\n\\n<div class=\"brick\">\\n  <a href=\"/actueel/nieuws/2020/12/08/rapport-timss-2019\">\\n    <h3>\\n\\n      Rapport TIMSS-2019</h3>\\n    <div class=\"brick-text\">\\n        <p>\\n          <span class=\"publDate\">08-12-2020 | 10:55</span>\\n        </p>\\n        <p>Vandaag is het rapport Trends in International Mathematics and Science Study 2019 (TIMSS) aan de Tweede Kamer aangeboden. De ...</p>\\n        </div>\\n  </a>\\n\\n</div>\\n\\n<div class=\"brick\">\\n  <a href=\"/actueel/nieuws/2020/10/29/actualisatie-op-basis-van-roa-en-vsnu-publicaties\">\\n    <h3>\\n\\n      Actualisatie op basis van ROA en VSNU publicaties</h3>\\n    <div class=\"brick-text\">\\n        <p>\\n          <span class=\"publDate\">29-10-2020 | 10:05</span>\\n        </p>\\n        <p>Op Onderwijs in Cijfers zijn de indicatoren die gebaseerd zijn op de ROA Schoolverlaters-Meting 2019, de Kerncijfers ...</p>\\n        </div>\\n  </a>\\n\\n</div>\\n\\n<div class=\"brick\">\\n  <a href=\"/actueel/nieuws/2020/09/12/nieuwe-cijfers\">\\n    <h3>\\n\\n      Nieuwe cijfers</h3>\\n    <div class=\"brick-text\">\\n        <p>\\n          <span class=\"publDate\">15-09-2020 | 15:00</span>\\n        </p>\\n        <p>Met Prinsjesdag zijn enkele\\xa0indicatoren op\\xa0 onderwijsincijfers.nl\\xa0geactualiseerd.</p>\\n        </div>\\n  </a>\\n\\n</div>\\n\\n<a class=\"more\" href=\"/actueel/nieuws\">Meer nieuws</a>\\n\\n  </section>\\n\\n</div><aside>\\n\\n  </aside></div>\\n\\n</main>\\n<div id=\"logoBlock\">\\n    <div class=\"wrapper\">\\n      <h2>Afzenders</h2>\\n      <ul>\\n        <li>\\n            <a href=\"http://www.rijksoverheid.nl/ministeries/ocw\">\\n            <img src=\"/binaries/small/content/gallery/onderwijs-in-cijfers/channel-afbeeldingen/footerlogos/ocwlogo.png\" data-fallback=\"/binaries/small/content/gallery/onderwijs-in-cijfers/channel-afbeeldingen/footerlogos/ocwlogo.png\" alt=\"Logo Ministerie van Onderwijs, Cultuur en Wetenschap\"/>\\n            </a>\\n            </li>\\n        <li>\\n            <a href=\"https://www.duo.nl/\">\\n            <img src=\"/binaries/small/content/gallery/onderwijs-in-cijfers/channel-afbeeldingen/footerlogos/duo_logo.png\" data-fallback=\"/binaries/small/content/gallery/onderwijs-in-cijfers/channel-afbeeldingen/footerlogos/duo_logo.png\" alt=\"Logo van DUO\"/>\\n            </a>\\n            </li>\\n        <li>\\n            <a href=\"http://www.cbs.nl/nl-NL/menu/home/default.htm\">\\n            <img src=\"/binaries/small/content/gallery/onderwijs-in-cijfers/channel-afbeeldingen/footerlogos/cbs_logo.png\" data-fallback=\"/binaries/small/content/gallery/onderwijs-in-cijfers/channel-afbeeldingen/footerlogos/cbs_logo.png\" alt=\"Logo CBS\"/>\\n            </a>\\n            </li>\\n        </ul>\\n    </div>\\n  </div>\\n<footer class=\"site-footer\">\\n  <div class=\"wrapper\">\\n\\n    <div class=\"column\">\\n    <h2>Service</h2>\\n    <ul>\\n\\n    <li>\\n        <a href=\"/contact\">Contact</a>\\n      </li>\\n    <li>\\n        <a href=\"/rss\">RSS</a>\\n      </li>\\n    <li>\\n        <a href=\"/sitemap\">Sitemap</a>\\n      </li>\\n    <li>\\n        <a href=\"/help\">Help</a>\\n      </li>\\n    </ul>\\n</div>\\n<div class=\"column\">\\n    <h2>Over deze site</h2>\\n    <ul>\\n\\n    <li>\\n        <a href=\"/copyright\">Copyright</a>\\n      </li>\\n    <li>\\n        <a href=\"/privacy\">Privacy</a>\\n      </li>\\n    <li>\\n        <a href=\"/cookies\">Cookies</a>\\n      </li>\\n    <li>\\n        <a href=\"/toegankelijkheid\">Toegankelijkheid</a>\\n      </li>\\n    <li>\\n        <a href=\"/toelichting-cijfers\">Toelichting cijfers</a>\\n      </li>\\n    <li>\\n        <a href=\"/kwetsbaarheid-melden\">Kwetsbaarheid melden</a>\\n      </li>\\n    </ul>\\n</div>\\n</div>\\n\\n  </footer>\\n</div>\\n\\n<!--[if (gt IE 10)|!(IE)]><!-->\\n<script src=\"/webfiles/1626038182637/behaviour/core.js\"></script>\\n<!--<![endif]-->\\n\\n</body>\\n</html>\\n'"
      ]
     },
     "metadata": {},
     "execution_count": 12
    }
   ],
   "metadata": {}
  },
  {
   "cell_type": "markdown",
   "source": [
    "### `get_links(url)`\n",
    "\n",
    "Deze functie neemt een URL en gebruikt de `fetch_html()` functie om een HTML op te halen, vormt deze om tot een `soup` object met BeautifulSoup4 package en zoekt in de `<a>` anchors naar `href`'s waar links in zitten. Deze links koppelen naar subdomeinen of externe websites. "
   ],
   "metadata": {}
  },
  {
   "cell_type": "code",
   "execution_count": 4,
   "source": [
    "get_links(url)"
   ],
   "outputs": [
    {
     "output_type": "stream",
     "name": "stderr",
     "text": [
      "C:\\Tools\\Anaconda3\\envs\\webscraper\\lib\\site-packages\\urllib3\\connectionpool.py:981: InsecureRequestWarning: Unverified HTTPS request is being made to host 'proxy.prd.duo.nl'. Adding certificate verification is strongly advised. See: https://urllib3.readthedocs.io/en/latest/advanced-usage.html#ssl-warnings\n",
      "  warnings.warn(\n"
     ]
    },
    {
     "output_type": "execute_result",
     "data": {
      "text/plain": [
       "{'http://www.cbs.nl/nl-NL/menu/home/default.htm',\n",
       " 'http://www.onderwijsincijfers.nl#content-wrapper',\n",
       " 'http://www.onderwijsincijfers.nl/',\n",
       " 'http://www.onderwijsincijfers.nl/actueel/nieuws',\n",
       " 'http://www.onderwijsincijfers.nl/actueel/nieuws/2020/09/12/nieuwe-cijfers',\n",
       " 'http://www.onderwijsincijfers.nl/actueel/nieuws/2020/10/29/actualisatie-op-basis-van-roa-en-vsnu-publicaties',\n",
       " 'http://www.onderwijsincijfers.nl/actueel/nieuws/2020/12/08/rapport-timss-2019',\n",
       " 'http://www.onderwijsincijfers.nl/actueel/nieuws/2020/12/10/trendrapportage-arbeidsmarkt-leraren-po-vo-en-mbo-2020',\n",
       " 'http://www.onderwijsincijfers.nl/actueel/nieuws/2021/04/1/inzicht-in-de-%E2%80%98arbeidsmarkt-en-personeelstekorten%E2%80%99-voor-het-voortgezet-onderwijs',\n",
       " 'http://www.onderwijsincijfers.nl/actueel/nieuws/2021/07/01/regioscanner-geactualiseerd',\n",
       " 'http://www.onderwijsincijfers.nl/contact',\n",
       " 'http://www.onderwijsincijfers.nl/cookies',\n",
       " 'http://www.onderwijsincijfers.nl/copyright',\n",
       " 'http://www.onderwijsincijfers.nl/help',\n",
       " 'http://www.onderwijsincijfers.nl/kengetallen/hbo',\n",
       " 'http://www.onderwijsincijfers.nl/kengetallen/internationaal',\n",
       " 'http://www.onderwijsincijfers.nl/kengetallen/mbo',\n",
       " 'http://www.onderwijsincijfers.nl/kengetallen/onderwijs-algemeen',\n",
       " 'http://www.onderwijsincijfers.nl/kengetallen/onderwijs-algemeen/leerlingen-en-studenten/prestaties-voortijdig-schoolverlaten',\n",
       " 'http://www.onderwijsincijfers.nl/kengetallen/po',\n",
       " 'http://www.onderwijsincijfers.nl/kengetallen/vo',\n",
       " 'http://www.onderwijsincijfers.nl/kengetallen/wo',\n",
       " 'http://www.onderwijsincijfers.nl/kwetsbaarheid-melden',\n",
       " 'http://www.onderwijsincijfers.nl/privacy',\n",
       " 'http://www.onderwijsincijfers.nl/rss',\n",
       " 'http://www.onderwijsincijfers.nl/sitemap',\n",
       " 'http://www.onderwijsincijfers.nl/themas',\n",
       " 'http://www.onderwijsincijfers.nl/themas/dashboard-baten-en-lasten-besturen',\n",
       " 'http://www.onderwijsincijfers.nl/toegankelijkheid',\n",
       " 'http://www.onderwijsincijfers.nl/toelichting-cijfers',\n",
       " 'http://www.onderwijsinderegioincijfers.nl/',\n",
       " 'http://www.rijksoverheid.nl/ministeries/ocw',\n",
       " 'https://www.duo.nl/',\n",
       " 'https://www.ocwincijfers.nl/actueel/nieuwsbrieven/ocw---trends--cijfers',\n",
       " 'https://www.ocwincijfers.nl/onderwijs/dashboard-gelijke-kansen',\n",
       " 'https://www.ocwincijfers.nl/verantwoord-begroten/begroting/dashboard-beleidsagenda-2021',\n",
       " 'https://www.ocwincijfers.nl/verantwoord-begroten/dashboard-sectorakkoorden',\n",
       " 'https://www.onderwijsincijfers.nl/binaries/large/content/gallery/onderwijs-in-cijfers/content-afbeeldingen/logohomepage.png'}"
      ]
     },
     "metadata": {},
     "execution_count": 4
    }
   ],
   "metadata": {}
  },
  {
   "cell_type": "markdown",
   "source": [
    "### `is_internal(url, url2)`\n",
    "\n",
    "Deze functie legt twee URLs naast elkaar en checkt of de tweede URL naar een interne of een externe website doorverwijst."
   ],
   "metadata": {}
  },
  {
   "cell_type": "code",
   "execution_count": 5,
   "source": [
    "is_internal(url, 'http://www.onderwijsincijfers.nl/toelichting-cijfers')"
   ],
   "outputs": [
    {
     "output_type": "execute_result",
     "data": {
      "text/plain": [
       "True"
      ]
     },
     "metadata": {},
     "execution_count": 5
    }
   ],
   "metadata": {}
  },
  {
   "cell_type": "code",
   "execution_count": 6,
   "source": [
    "is_internal(url, 'https://www.ocwincijfers.nl/verantwoord-begroten/begroting/dashboard-beleidsagenda-2021')"
   ],
   "outputs": [
    {
     "output_type": "execute_result",
     "data": {
      "text/plain": [
       "False"
      ]
     },
     "metadata": {},
     "execution_count": 6
    }
   ],
   "metadata": {}
  },
  {
   "cell_type": "markdown",
   "source": [
    "### `index_url(url, max_depth = 2)`\n",
    "\n",
    "Deze functie indexeert de url tot een maximale diepte van `max_depth`. "
   ],
   "metadata": {}
  },
  {
   "cell_type": "code",
   "execution_count": 4,
   "source": [
    "index_url(url)"
   ],
   "outputs": [
    {
     "output_type": "execute_result",
     "data": {
      "text/plain": [
       "sonderwijs/aandeel-lesuren-bewegingsonderwijs',\n",
       " 'http://www.rijksoverheid.nl/copyright',\n",
       " 'http://www.onderwijsincijfers.nl/kengetallen/vo/personeel-vo/arbeidsmarkt-en-personeelstekorten-vo/regionale-arbeidsmarktcijfers-landkaart-en-tabel#content-wrapper',\n",
       " 'http://www.onderwijsincijfers.nl/kengetallen/vo/instellingen-vo#content-wrapper',\n",
       " 'http://www.onderwijsincijfers.nl/help/structuur-van-de-site',\n",
       " 'https://twitter.com/share?url=https%3A%2F%2Fwww.onderwijsincijfers.nl%2Fkengetallen%2Fwo%2Fpersoneel-wo%2Faantallen-personeelssterkte-wo&text=Personeelssterkte+wetenschappelijk+onderwijs%20%23onderwijsincijfers',\n",
       " 'https://www.facebook.com/sharer.php?u=https%3A%2F%2Fwww.onderwijsincijfers.nl%2Fkengetallen%2Fmbo%2Fuitgaven-mbo',\n",
       " 'https://www.onderwijsinderegioincijfers.nl/',\n",
       " 'https://www.linkedin.com/shareArticle?mini=true&url=https%3A%2F%2Fwww.onderwijsincijfers.nl%2Fkengetallen%2Fonderwijs-algemeen%2Fhoogst-behaald-onderwijsniveau&title=Hoogst+behaald+onderwijsniveau&source=Onderwijs+in+cijfers&summary=Voor+het+meten+van+het+hoogst+behaalde+onderwijsniveau+van+de+Nederlandse+bevolking+wordt+de+Enqu%C3%AAte+Beroepsbevolking+%28EBB%29+gebruikt.+De+EBB+is+een+enqu%C3%AAte+waarmee+informatie+over+de+arbeidsmarkt+en+gerelateerde+kenmerken+van+personen%2C+zoals+onderwijsdeelname+en+het+hoogst+behaalde+onderwijsniveau%2C+wordt+verzameld.',\n",
       " 'https://www.onderwijsincijfers.nl/binary/andere-hoofdrubrieken/kengetallen/onderwijs-algemeen/aansluiting-arbeidsmarkt/index/Arbeidsparticipatie_Grafiek_1a.csv',\n",
       " 'http://www.onderwijsincijfers.nl/kengetallen/po/personeel-po#content-wrapper',\n",
       " 'https://www.facebook.com/sharer.php?u=https%3A%2F%2Fwww.onderwijsincijfers.nl%2Fkengetallen%2Fvo%2Fpersoneel-vo%2Ffunctiekenmerken-bevoegd-gegeven-lessen',\n",
       " 'https://www.onderwijsincijfers.nl/binary/andere-hoofdrubrieken/kengetallen/onderwijs-algemeen/leerlingen-en-studenten/prestaties-voortijdig-schoolverlaten/vsv-in-europa/index/VSVEuropa_Grafiek2.csv',\n",
       " 'https://www.linkedin.com/shareArticle?mini=true&url=https%3A%2F%2Fwww.onderwijsincijfers.nl%2Fkengetallen%2Fonderwijs-algemeen%2Fnederlands-onderwijsstelsel&title=Schematische+weergave+Nederlands+onderwijsstelsel&source=Onderwijs+in+cijfers&summary=Het+Nederlands+onderwijsstelsel+heeft+verschillende+schooltypen+voor%0Adeelnemers+van+verschillende+leeftijden+en+met+een+verschillend+leervermogen.',\n",
       " 'https://www.linkedin.com/shareArticle?mini=true&url=https%3A%2F%2Fwww.onderwijsincijfers.nl%2Factueel%2Fnieuws%2F2020%2F09%2F09%2Fpublicatie-education-at-a-glance-2020&title=Publicatie+Education+at+a+Glance+2020&source=Onderwijs+in+cijfers&summary=Op%C2%A0Onderwijs+in+cijfers.nl%C2%A0staan+veel%C2%A0internationale+onderwijsgegevens.%C2%A0Voor+een+groot+deel+is%C2%A0die+informatie+afkomstig+uit%C2%A0de%C2%A0OECD-publicatie%C2%A0Education+at+a+Glance.%C2%A0',\n",
       " 'http://www.onderwijsincijfers.nl/kengetallen/po/instellingen/aantallen-instellingen-po',\n",
       " 'http://www.onderwijsincijfers.nl/kengetallen/onderwijs-algemeen/uitgaven#content-wrapper',\n",
       " 'http://www.onderwijsincijfers.nl/kengetallen/onderwijs-algemeen/leerlingen-en-studenten/prestaties-voortijdig-schoolverlaten',\n",
       " 'https://www.onderwijsincijfers.nl/binaries/large/content/gallery/onderwijs-in-cijfers/content-afbeeldingen/uwv.jpg',\n",
       " 'https://twitter.com/share?url=https%3A%2F%2Fwww.onderwijsincijfers.nl%2Fkengetallen%2Finternationaal%2Faansluiting-onderwijs-arbeidsmarkt&text=Aansluiting+arbeidsmarkt%20%23onderwijsincijfers',\n",
       " 'http://statline.cbs.nl/Statweb/publication/?DM=SLNL&PA=71304NED&D1=a&D2=0&D3=0%2D2%2C6%2C9%2C12%2C16%2C21%2D26%2C31%2C38%2C52&D4=1&D5=a&D6=l&VW=T',\n",
       " 'https://twitter.com/share?url=https%3A%2F%2Fwww.onderwijsincijfers.nl%2Fkengetallen&text=Kengetallen%20%23onderwijsincijfers',\n",
       " 'https://opendata.cbs.nl/statline/#/CBS/nl/dataset/82275NED/table?dl=4C8DB',\n",
       " 'https://www.onderwijsincijfers.nl/toegankelijkheid',\n",
       " 'https://twitter.com/share?url=https%3A%2F%2Fwww.onderwijsincijfers.nl%2Fkengetallen%2Fmbo%2Fstudenten-mbo&text=Studenten+middelbaar+beroepsonderwijs%20%23onderwijsincijfers',\n",
       " 'https://www.onderwijsincijfers.nl/binary/andere-hoofdrubrieken/kengetallen/hbo/aansluiting-hbo-arbeidsmarkt/hbo-arbeidsmarkt-arbeidsmarktpositie-hbo/index/Werkzame-hbo-schoolverlaters-met-een-baan-op-minimaal-eigen-niveau-of-eigen-verwante-richting-naar-studierichting.csv',\n",
       " 'https://www.onderwijsincijfers.nl/binary/andere-hoofdrubrieken/kengetallen/internationaal/internationale-prestaties-van-de-beroepsbevolking-piaac/index/PIAAC-gemiddelde-score-taalvaardigheid-16-65.csv',\n",
       " 'http://www.onderwijsincijfers.nl/kengetallen/vo/personeel-vo/arbeidsmarkt-en-personeelstekorten-vo/huidige-situatie-instroom-op-de-arbeidsmarkt',\n",
       " 'https://opendata.cbs.nl/statline/#/CBS/nl/dataset/80509ned',\n",
       " 'http://www.onderwijsincijfers.nl/kengetallen/hbo/studenten-hbo/prestaties-studiesucces-in-het-hbo',\n",
       " 'http://www.onderwijsincijfers.nl/themas/archief/cbs-meeste-kans-op-werk-voor-jonge-vrouwen-met-hbo-wo-docentenopleiding',\n",
       " 'https://www.rijksoverheid.nl/documenten/kamerstukken/2020/12/08/kamerbrief-bij-rapport-timss-2019',\n",
       " 'https://www.facebook.com/sharer.php?u=https%3A%2F%2Fwww.onderwijsincijfers.nl%2Fthemas',\n",
       " 'https://www.linkedin.com/shareArticle?mini=true&url=https%3A%2F%2Fwww.onderwijsincijfers.nl%2Fkengetallen%2Fvo%2Fleerlingen-vo%2Fvakken--profielen-aandeel-vakken-totale-curriculum-vo&title=Aandeel+vakken+in+het+vo&source=Onderwijs+in+cijfers&summary=Met+het+onderzoek+Integrale+PersoneelsTelling%C2%A0Onderwijs+%28IPTO%29+wordt+jaarlijks%C2%A0informatie+verzameld+over+lessen%C2%A0in+het+%C2%A0voortgezet+onderwijs+%28vo%29.+Op+deze+pagina+vindt+u%2C+per+onderwijstype%2C+de+gegeven+lesuren%C2%A0als+percentage+van+het+totaal+aantal+gegeven+lesuren.%C2%A0Daarnaast+wordt+voor+het+vmbo+het+aandeel+lesuren+gepresenteerd%C2%A0voor+de+beroepsgerichte+vakken.',\n",
       " 'http://www.rijksoverheid.nl/ministeries/ocw',\n",
       " 'http://www.onderwijsincijfers.nl/kengetallen/hbo/studenten-hbo',\n",
       " 'https://appsso.eurostat.ec.europa.eu/nui/show.do?query=BOOKMARK%5FDS%2D108771%5FQID%5F2F0FC9FC%5FUID%5F%2D3F171EB0&layout=ISCED11%2CL%2CX%2C0%3BTIME%2CC%2CX%2C1%3BGEO%2CL%2CY%2C0%3BSEX%2CL%2CZ%2C0%3BAGE%2CL%2CZ%2C1%3BUNIT%2CL%2CZ%2C2%3BINDICATORS%2CC%2CZ%2C3%3B&zSelection=DS%2D108771UNIT%2CPC%3BDS%2D108771SEX%2CT%3BDS%2D108771INDICATORS%2COBS%5FFLAG%3BDS%2D108771AGE%2CY15%2D74%3B&rankName1=UNIT%5F1%5F2%5F%2D1%5F2&rankName2=AGE%5F1%5F2%5F%2D1%5F2&rankName3=INDICATORS%5F1%5F2%5F%2D1%5F2&rankName4=SEX%5F1%5F2%5F%2D1%5F2&rankName5=ISCED11%5F1%5F2%5F0%5F0&rankName6=TIME%5F1%5F0%5F1%5F0&rankName7=GEO%5F1%5F2%5F0%5F1&rStp=&cStp=&rDCh=&cDCh=&rDM=true&cDM=true&footnes=false&empty=false&wai=false&time%5Fmode=ROLLING&time%5Fmost%5Frecent=false&lang=EN&cfo=%23%23%23%2C%23%23%23%2E%23%23%23',\n",
       " 'https://www.onderwijsincijfers.nl/binary/andere-hoofdrubrieken/kengetallen/internationaal/personeel/aantallen-leeftijdsverdeling-docenten-in-po-en-vo/index/Leeftijdsverdeling-docenten-in-het-voortgezet-onderwijs.csv',\n",
       " 'https://www.linkedin.com/shareArticle?mini=true&url=https%3A%2F%2Fwww.onderwijsincijfers.nl%2Fkengetallen%2Fhbo%2Finstellingen-hbo&title=Instellingen+hoger+beroepsonderwijs&source=Onderwijs+in+cijfers&summary=We+hebben+gegevens+beschikbaar+over+het+aantal+hbo-instellingen+en+over+de%0Afinanci%C3%ABle+positie+van+de+instellingen.',\n",
       " 'http://www.onderwijsincijfers.nl/themas/aansluiting-onderwijs-arbeidsmarkt/cbs-technisch-opgeleide-mbo-schoolverlaters-hadden-in-de-periode-2008-2012-relatief-vaak-werk#content-wrapper',\n",
       " 'https://www.onderwijsincijfers.nl/binary/andere-hoofdrubrieken/themas/pesten-op-school/index/Wijze-van-gepest-worden-2014-2016-2018-vso.csv',\n",
       " 'https://www.onderwijsincijfers.nl/binary/andere-hoofdrubrieken/kengetallen/po/leerlingen-po/prestaties-eindtoets/index/CE_Grafiek_1e.csv',\n",
       " 'https://www.facebook.com/sharer.php?u=https%3A%2F%2Fwww.onderwijsincijfers.nl%2Ftoelichting-cijfers%2Faansluittabel-hoop-isced',\n",
       " 'https://zoek.officielebekendmakingen.nl/kst-30012-41.html',\n",
       " 'https://twitter.com/share?url=https%3A%2F%2Fwww.onderwijsincijfers.nl%2Fkengetallen%2Fmbo%2Fstudenten-mbo%2Fprestaties-studiesucces-mbo&text=Studiesucces+middelbaar+beroepsonderwijs%20%23onderwijsincijfers',\n",
       " 'https://www.cbs.nl/nl-nl/maatwerk/2020/38/arbeidsmarktkenmerken-uitstromers-ho-2007-08-2018-19',\n",
       " 'https://www.onderwijsincijfers.nl/binaries/large/content/gallery/onderwijs-in-cijfers/content-afbeeldingen/cbs-logo-png',\n",
       " 'http://www.onderwijsincijfers.nl/privacy',\n",
       " 'http://www.onderwijsincijfers.nl/kengetallen/wo/studenten-wo/aantallen-ingeschrevenen-wo',\n",
       " 'http://www.onderwijsincijfers.nl/kengetallen/hbo/studenten-hbo/aantallen-ingeschrevenen-hbo#content-wrapper',\n",
       " 'https://www.onderwijsincijfers.nl/actueel/nieuws/2019/12/03/internationale-pisa-indicatoren-geactualiseerd',\n",
       " 'http://www.onderwijsincijfers.nl/kengetallen/mbo/personeel-mbo#content-wrapper',\n",
       " 'http://www.onderwijsincijfers.nl/kengetallen/mbo/studenten-mbo/prestaties-gediplomeerden-mbo',\n",
       " 'https://www.facebook.com/sharer.php?u=https%3A%2F%2Fwww.onderwijsincijfers.nl%2Fkengetallen%2Fvo%2Fuitgaven-vo',\n",
       " 'https://www.onderwijsincijfers.nl/binaries/large/content/gallery/onderwijs-in-cijfers/content-afbeeldingen/leraar-png',\n",
       " 'https://www.studiekeuze123.nl/nse/dashboard',\n",
       " 'https://www.onderwijsincijfers.nl/binary/andere-hoofdrubrieken/kengetallen/onderwijs-algemeen/leerlingen-en-studenten/prestaties-voortijdig-schoolverlaten/vsv-in-het-middelbaar-beroepsonderwijs/index/01-mbo1920_vlp.csv',\n",
       " 'https://www.rijksoverheid.nl/documenten/kamerstukken/2015/11/20/kamerbrief-over-leerlingdaling-in-het-vmbo',\n",
       " 'http://www.onderwijsincijfers.nl/open-data/onderwerp#content-wrapper',\n",
       " 'http://eur-lex.europa.eu/LexUriServ/LexUriServ.do?uri=COM%3A2010%3A2020%3AFIN%3ANL%3APDF',\n",
       " 'https://www.facebook.com/sharer.php?u=https%3A%2F%2Fwww.onderwijsincijfers.nl%2Fkengetallen%2Fhbo%2Fstudenten-hbo%2Fprestaties-studiesucces-in-het-hbo',\n",
       " 'https://www.rijksoverheid.nl/binaries/rijksoverheid/documenten/rapporten/2020/12/07/regionale-arbeidsmarktramingen-voor-leraren-in-het-voortgezet-onderwijs-2020/De+arbeidsmarkt+voor+leraren+vo+2020-2025+-+regio+Zeeland.pdf',\n",
       " 'https://www.linkedin.com/shareArticle?mini=true&url=https%3A%2F%2Fwww.onderwijsincijfers.nl%2Fkengetallen%2Fonderwijs-algemeen%2Fleerlingen-en-studenten%2Fprestaties-voortijdig-schoolverlaten&title=Voortijdig+schoolverlaters&source=Onderwijs+in+cijfers&summary=Vsv%E2%80%99ers+zijn+jongeren+van+12+tot+23+jaar+die+zonder+startkwalificatie+het+onderwijs+verlaten.+Een+startkwalifi%C2%ADcatie+is+een+havo+of+vwo+diploma+of+minimaal+een+mbo-2+diploma.+Het+vsv-percentage+staat+voor+het+aantal+vsv%E2%80%99ers+als+percentage+van+het+aantal+onderwijsdeelnemers+die+aan+het+begin+van+het+schooljaar+ingeschreven+staan.%0A%0AHoeveel+nieuwe+voortijdig+schoolverlaters+zijn+er+landelijk%2C+regionaal%2C+per+gemeente+of+onderwijsinstelling%2C+in+welke+onderwijssectoren+vindt+de+uitval+plaats+en+wat+zijn+de+achtergrondkenmerken%3F+Binnen+Onderwijs+in+Cijfers+kunt+u+dieper+ingaan+op+achtergronden+bij+de+vsv+cijfers.+Het+Ministerie+van+OCW+heeft+een+landelijk+doelstelling+van+jaarlijks+maximaal+20.000+vsv%27ers+tot+2024.%0A%0ADit+onderdeel+in+Onderwijsincijfers.nl+vervangt+de+VSV-verkenner%2C+en+is+het+nieuwe+cijferportaal+over+voortijdig+schoolverlaten.+Alle+vsv-cijfers+zijn+bij+elkaar+gebracht+in+het+vernieuwde+vsv-cijferportaal.%0A%0AZie+onderstaande+links+voor+diverse+onderwerpen+binnen+vsv+en+een+document+met+daarin+de+belangrijkste+aanpassingen+in+de+vsv+informatievoorziening.',\n",
       " 'https://www.rijksoverheid.nl/binaries/rijksoverheid/documenten/rapporten/2020/12/07/regionale-arbeidsmarktramingen-voor-leraren-in-het-voortgezet-onderwijs-2020/De+arbeidsmarkt+voor+leraren+vo+2020-2025+-+regio+Drenthe-Overijssel.pdf',\n",
       " 'https://opendata.cbs.nl/statline/#/CBS/nl/dataset/82381NED',\n",
       " 'http://www.onderwijsincijfers.nl/themas/transities-in-het-onderwijs/studenten-met-een-tussenjaar-in-het-hbo-en-wo#content-wrapper',\n",
       " 'http://www.onderwijsincijfers.nl/themas/asielzoekerskinderen-in-het-onderwijs/onderwijssituatie-leerplichtige-asielzoekers',\n",
       " 'http://www.onderwijsincijfers.nl/kengetallen/vo/leerlingen-vo/stromen-leerlingenstromen-vo',\n",
       " 'http://www.onderwijsincijfers.nl/kengetallen/onderwijs-algemeen/leerlingen-en-studenten/prestaties-voortijdig-schoolverlaten/landelijke-vsv-cijfers#content-wrapper',\n",
       " 'http://www.onderwijsincijfers.nl/documenten/publicaties/2021/03/05/nationale-onderwijsuitgaven-aansluittabel-ocw-oeso',\n",
       " 'https://www.onderwijsincijfers.nl/cookies',\n",
       " 'https://www.onderwijsincijfers.nl/binary/andere-hoofdrubrieken/kengetallen/mbo/aansluiting-mbo-arbeidsmarkt/mbo-arbeidsmarkt-arbeidsmarktpositie-roa/index/Intredewerkloosheid-bbl-traject.csv',\n",
       " 'http://www.onderwijsincijfers.nl/kengetallen/vo/leerlingen-vo/prognoses-aantal-leerlingen-vo',\n",
       " 'http://www.onderwijsincijfers.nl/kengetallen/onderwijs-algemeen/leerlingen-en-studenten/prestaties-voortijdig-schoolverlaten/vsv-in-de-gemeenten#content-wrapper',\n",
       " 'https://www.onderwijsincijfers.nl/binary/andere-hoofdrubrieken/kengetallen/vo/leerlingen-vo/vakken--profielen-aandeel-vakken-totale-curriculum-vo/index/Gegeven-vakken-in-vmbo.csv',\n",
       " 'https://www.onderwijsincijfers.nl/actueel',\n",
       " 'https://www.onderwijsincijfers.nl/toelichting-cijfers',\n",
       " 'http://www.onderwijsincijfers.nl/kengetallen/vo/leerlingen-vo/aantallen-leerlingen-in-het-vo',\n",
       " 'http://www.onderwijsincijfers.nl/themas/onderwijspersoneel#content-wrapper',\n",
       " 'https://www.linkedin.com/shareArticle?mini=true&url=https%3A%2F%2Fwww.onderwijsincijfers.nl%2Fkengetallen%2Finternationaal%2Fuitgaven%2Fuitgaven-uitgaven-aan-onderwijsinstellingen-per-leerling&title=Uitgaven+aan+onderwijsinstellingen+per+leerling&source=Onderwijs+in+cijfers&summary=Het+figuur+toont+de+publieke+en+private+uitgaven+aan+onderwijsinstellingen+per+leerling+in+het+primair+%28basisonderwijs%29+en+secundair+onderwijs+%28vo+en+mbo%29.',\n",
       " 'http://www.onderwijsincijfers.nl/themas/demografische-ontwikkelingen/leerlingendaling-in-het-vmbo#content-wrapper',\n",
       " 'https://twitter.com/share?url=https%3A%2F%2Fwww.onderwijsincijfers.nl%2Ftoegankelijkheid&text=Toegankelijkheid+Onderwijs+in+Cijfers%20%23onderwijsincijfers',\n",
       " 'https://www.cbs.nl/nl-nl/achtergrond/2014/38/een-leven-lang-leren-deelname-aan-opleidingen-informeel-leren-en-ervaren-resultaten',\n",
       " 'http://www.onderwijsincijfers.nl/kengetallen/onderwijs-algemeen/hoogst-behaald-onderwijsniveau',\n",
       " 'http://www.onderwijsincijfers.nl/toegankelijkheid',\n",
       " 'https://www.onderwijsincijfers.nl/actueel/nieuws/2021/04/1/inzicht-in-de-%E2%80%98arbeidsmarkt-en-personeelstekorten%E2%80%99-voor-het-voortgezet-onderwijs',\n",
       " 'http://www.onderwijsincijfers.nl/kengetallen/vo/uitgaven-vo/uitgaven-ocw-aan-vo',\n",
       " 'http://www.onderwijsincijfers.nl/kwetsbaarheid-melden',\n",
       " 'http://www.onderwijsincijfers.nl/kengetallen/wo/studenten-wo/stromen-directe-en-indirecte-instroom-wo#content-wrapper',\n",
       " 'https://www.facebook.com/sharer.php?u=https%3A%2F%2Fwww.onderwijsincijfers.nl%2Fkengetallen%2Fwo%2Fstudenten-wo',\n",
       " 'https://www.facebook.com/sharer.php?u=https%3A%2F%2Fwww.onderwijsincijfers.nl%2Fthemas%2Ftransities-in-het-onderwijs%2Fswitchen-in-het-mbo-hbo-en-wo',\n",
       " 'https://www.ocwincijfers.nl/onderwijs/dashboard-gelijke-kansen',\n",
       " 'https://www.facebook.com/sharer.php?u=https%3A%2F%2Fwww.onderwijsincijfers.nl%2Fkengetallen%2Fvo%2Fpersoneel-vo%2Fvacatures-voortgezet-onderwijs',\n",
       " 'https://www.linkedin.com/shareArticle?mini=true&url=https%3A%2F%2Fwww.onderwijsincijfers.nl%2Fkengetallen%2Fhbo%2Fstudenten-hbo%2Fprestaties-studiesucces-in-het-hbo&title=Studiesucces+in+het+hoger+beroepsonderwijs&source=Onderwijs+in+cijfers&summary=Er+wordt+een+indicatie+gegeven+van+het+studiesucces+van+studenten+in+het+hoger+beroepsonderwijs+%28hbo%29+aan+de+hand+van+het+aandeel+studenten+dat+een+diploma+haalt%2C+uiteengezet+naar+verblijfsduur+en+vooropleiding.',\n",
       " 'https://www.linkedin.com/shareArticle?mini=true&url=https%3A%2F%2Fwww.onderwijsincijfers.nl%2Fthemas%2Ftransities-in-het-onderwijs%2Fswitchen-in-het-mbo-hbo-en-wo&title=Switchen+in+het+mbo%2C+hbo+en+wo&source=Onderwijs+in+cijfers&summary=Studenten+in+het+mbo+en+hoger+onderwijs+doorlopen+niet+altijd+in+een+direct%0Adoorlopende+lijn+hun+schoolcarri%C3%A8re.+Een+deel+wisselt+van+opleiding%2C+ofwel%0Aswitcht.',\n",
       " 'http://www.onderwijsincijfers.nl/kengetallen/po/uitgaven/uitgaven-totale-uitgaven-po',\n",
       " 'https://opendata.cbs.nl/statline/#/CBS/nl/dataset/82378NED/table?dl=3A094',\n",
       " 'https://www.onderwijsincijfers.nl/binary/andere-hoofdrubrieken/kengetallen/hbo/studenten-hbo/aantallen-ingeschrevenen-hbo/index/hboingeschrevenopleidingsvorm2020.csv',\n",
       " 'https://www.onderwijsincijfers.nl/binary/andere-hoofdrubrieken/kengetallen/onderwijs-algemeen/leerlingen-en-studenten/prestaties-voortijdig-schoolverlaten/vsv-in-de-gemeenten/index/03-gem_1718_vlp.csv',\n",
       " 'https://www.facebook.com/sharer.php?u=https%3A%2F%2Fwww.onderwijsincijfers.nl%2Fthemas%2Fonderwijspersoneel',\n",
       " 'https://twitter.com/share?url=https%3A%2F%2Fwww.onderwijsincijfers.nl%2Fkengetallen%2Fvo%2Fpersoneel-vo%2Fprognoses-arbeidsmarkt-vo&text=Prognoses+arbeidsmarkt+vo%20%23onderwijsincijfers',\n",
       " 'http://www.onderwijsincijfers.nl/kengetallen/onderwijs-algemeen/leerlingen-en-studenten/prestaties-voortijdig-schoolverlaten/vsv-in-het-middelbaar-beroepsonderwijs#content-wrapper',\n",
       " 'http://www.onderwijsincijfers.nl/kengetallen/internationaal/leerlingen-en-studenten/prestaties-afgestudeerden-in-het-hoger-onderwijs',\n",
       " 'http://www.onderwijsincijfers.nl/documenten/publicaties/2020/01/13/indirecte-instromers-in-het-mbo',\n",
       " 'https://www.onderwijsincijfers.nl/binary/andere-hoofdrubrieken/kengetallen/hbo/studenten-hbo/aantallen-ingeschrevenen-hbo/index/hboingeschrevengeslacht2020.csv',\n",
       " 'http://www.onderwijsincijfers.nl/kengetallen/vo/instellingen-vo/aantallen-scholen-met-leerplusarrangement',\n",
       " 'https://www.onderwijsincijfers.nl/binary/andere-hoofdrubrieken/kengetallen/wo/studenten-wo/prestaties-verwachte-verblijfsduur-en-slaagpercentage-wo/index/woverwachteverblijfsduur2020.csv',\n",
       " 'http://www.onderwijsincijfers.nl/kengetallen/hbo/aansluiting-hbo-arbeidsmarkt#content-wrapper',\n",
       " 'https://www.onderwijsincijfers.nl/binary/andere-hoofdrubrieken/kengetallen/onderwijs-algemeen/personeel/arbeidsmarktpositie-startende-leraren/index/Loopbaan-5-jaar-na-afstuderen-ulo.csv',\n",
       " 'https://www.facebook.com/sharer.php?u=https%3A%2F%2Fwww.onderwijsincijfers.nl%2Fkengetallen%2Fpo%2Fleerlingen-po',\n",
       " 'https://www.onderwijsincijfers.nl/binary/andere-hoofdrubrieken/kengetallen/hbo/aansluiting-hbo-arbeidsmarkt/hbo-arbeidsmarkt-arbeidsmarktpositie-hbo/index/HBO_Grafiek_4.csv',\n",
       " 'http://www.onderwijsincijfers.nl/help/structuur-van-de-site#content-wrapper',\n",
       " 'https://twitter.com/share?url=https%3A%2F%2Fwww.onderwijsincijfers.nl%2Fkengetallen%2Fonderwijs-algemeen%2Fleerlingen-en-studenten%2Fprestaties-voortijdig-schoolverlaten%2Fvsv-in-de-rmc-regios&text=Voortijdig+schoolverlaten+in+de+RMC-regio%20%23onderwijsincijfers',\n",
       " 'http://www.onderwijsincijfers.nl/kengetallen/mbo/aansluiting-mbo-arbeidsmarkt',\n",
       " 'https://www.onderwijsincijfers.nl/binary/andere-hoofdrubrieken/kengetallen/onderwijs-algemeen/institutioneel-en-sociaal-vertrouwen/index/VertrouwenInstitutiesMensen.csv',\n",
       " 'http://www.onderwijsincijfers.nl/over-ons/dienst-uitvoering-onderwijs',\n",
       " 'https://www.cbs.nl/nl-nl/onze-diensten/methoden/classificaties/onderwijs-en-beroepen/isced/niveau-isced-2011',\n",
       " 'https://www.onderwijsincijfers.nl/binary/andere-hoofdrubrieken/kengetallen/onderwijs-algemeen/hoogst-behaald-onderwijsniveau/index/HoogstBehOnderwniv_Grafiek2.csv',\n",
       " 'https://www.onderwijsincijfers.nl/actueel/nieuws/2020/03/23/ipto-onderzoek',\n",
       " 'https://www.facebook.com/sharer.php?u=https%3A%2F%2Fwww.onderwijsincijfers.nl%2Fkengetallen%2Fonderwijs-algemeen%2Fuitgaven%2Ftotale-uitgaven-aan-onderwijs',\n",
       " 'https://www.onderwijsincijfers.nl/binary/andere-hoofdrubrieken/kengetallen/vo/leerlingen-vo/vakken--profielen-aandeel-vakken-totale-curriculum-vo/index/Gegeven-vakken-vwo.csv',\n",
       " 'https://www.facebook.com/sharer.php?u=https%3A%2F%2Fwww.onderwijsincijfers.nl%2Fthemas%2Fbetatechniek',\n",
       " ...}"
      ]
     },
     "metadata": {},
     "execution_count": 4
    }
   ],
   "metadata": {
    "tags": []
   }
  },
  {
   "cell_type": "markdown",
   "source": [
    "### `check_href(href)`\n",
    "\n",
    "Deze functie neemt een href (een link in een html object) en kijkt of deze voldoet aan bepaalde eisen en dus bruikbaar is om te parsen. Deze eisen zijn hardcoded dus deze functie is robuust maar niet flexibel."
   ],
   "metadata": {}
  },
  {
   "cell_type": "code",
   "execution_count": 4,
   "source": [
    "check_href('https://www.facebook.com/sharer.php?u=https%3A%2F%2Fwww.onderwijsincijfers.nl%2Fkengetallen%2Fonderwijs-algemeen%2Fuitgaven%2Ftotale-uitgaven-aan-onderwijs')"
   ],
   "outputs": [
    {
     "output_type": "execute_result",
     "data": {
      "text/plain": [
       "False"
      ]
     },
     "metadata": {},
     "execution_count": 4
    }
   ],
   "metadata": {}
  },
  {
   "cell_type": "markdown",
   "source": [
    "### `download_docs(index, path='C:\\\\Temp\\\\', folder='docs')`\n",
    "\n",
    "Deze functie download de .pdf en de .doc/.docx gegeven de index van een website. De documenten worden gedownload naar path/folder."
   ],
   "metadata": {}
  },
  {
   "cell_type": "code",
   "execution_count": 5,
   "source": [
    "download_docs('https://duo.nl/images/aanvraag-ov-vergoeding-buitenland-en-of-uitwonendenbeurs.pdf')"
   ],
   "outputs": [],
   "metadata": {}
  },
  {
   "cell_type": "markdown",
   "source": [
    "### `make_docname(link)`\n",
    "\n",
    "Deze functie maakt een documentnaam gegeven de weblink naar het document. De naam is gebaseerd op de link naam en niet de documentnaam op de website."
   ],
   "metadata": {}
  },
  {
   "cell_type": "code",
   "execution_count": 4,
   "source": [
    "make_docname('https://duo.nl/images/aanvraag-ov-vergoeding-buitenland-en-of-uitwonendenbeurs.pdf')"
   ],
   "outputs": [
    {
     "output_type": "execute_result",
     "data": {
      "text/plain": [
       "'aanvraag-ov-vergoeding-buitenland-en-of-uitwonendenbeurs.pdf'"
      ]
     },
     "metadata": {},
     "execution_count": 4
    }
   ],
   "metadata": {}
  },
  {
   "cell_type": "markdown",
   "source": [
    "### `is_downloadstream(url)`\n",
    "\n",
    "Deze functie checkt een url, bijvoorbeeld een link uit een href, om te kijken of het download stream is. Sommige files worden gehost op de site en kan je openen in de browser (dit zijn geen streams) en sommige files moet je naar je pc streamen (dan wordt je download manager geopend)."
   ],
   "metadata": {}
  },
  {
   "cell_type": "code",
   "execution_count": 15,
   "source": [
    "is_downloadstream('https://duo.nl/images/aanvraag-ov-vergoeding-buitenland-en-of-uitwonendenbeurs.pdf')"
   ],
   "outputs": [
    {
     "output_type": "execute_result",
     "data": {
      "text/plain": [
       "False"
      ]
     },
     "metadata": {},
     "execution_count": 15
    }
   ],
   "metadata": {}
  },
  {
   "cell_type": "markdown",
   "source": [
    "### `download_stream(url, path='C:\\\\Temp\\\\', folder='docs')`\n",
    "\n",
    "Deze functie download de file van een stream. Deze handeling is anders dan een file die gehost wordt opslaan naar je lokale pc."
   ],
   "metadata": {}
  },
  {
   "cell_type": "code",
   "execution_count": null,
   "source": [
    "download_stream(url, path='C:\\\\Temp\\\\', folder='docs')"
   ],
   "outputs": [],
   "metadata": {}
  },
  {
   "cell_type": "markdown",
   "source": [
    "## External Methods\n",
    "In deze cellen staan enkele methodes van externe packages die erg handig kunnen zijn in het scrapen en parsen van websites."
   ],
   "metadata": {}
  },
  {
   "cell_type": "code",
   "execution_count": 6,
   "source": [
    "import requests\n",
    "from bs4 import BeautifulSoup\n",
    "#from func_timeout import func_timeout, FunctionTimedOut\n",
    "from urllib.parse import urlparse\n",
    "from urllib.parse import urljoin\n",
    "from urllib3.exceptions import InsecureRequestWarning"
   ],
   "outputs": [],
   "metadata": {}
  },
  {
   "cell_type": "markdown",
   "source": [
    "### `BeautifulSoup(html)`\n",
    "\n",
    "BeautifulSoup() maakt een een soup object van een html, oftewel, hij parsed de html tot een leesbaar tekstblok die makkelijk gequeried kan worden met regex. De keyword `features` kan worden meegegeven, daarmee kan je specificeren wat voor type html object de functie binnen krijgt."
   ],
   "metadata": {}
  },
  {
   "cell_type": "code",
   "execution_count": 8,
   "source": [
    "html = fetch_html(url)\n",
    "BeautifulSoup(html, features='lxml')"
   ],
   "outputs": [
    {
     "output_type": "execute_result",
     "data": {
      "text/plain": [
       "<!DOCTYPE html>\n",
       "<html class=\"no-js fullWidth\" lang=\"nl-NL\" xml:lang=\"nl-NL\">\n",
       "<!-- Version: 2021.8.4 -->\n",
       "<head>\n",
       "<meta charset=\"utf-8\"/>\n",
       "<meta content=\"https://www.onderwijsincijfers.nl/binaries/large/content/gallery/onderwijs-in-cijfers/content-afbeeldingen/logohomepage.png\" property=\"og:image\"/>\n",
       "<title>Onderwijs in Cijfers | Onderwijs in cijfers</title>\n",
       "<meta content=\"Onderwijs in Cijfers - Onderwijs in cijfers\" name=\"DCTERMS.title\"/>\n",
       "<link href=\"https://www.onderwijsincijfers.nl/\" rel=\"canonical\"/>\n",
       "<meta content=\"width=device-width, initial-scale=1\" name=\"viewport\"/>\n",
       "<meta content=\"nl-NL\" name=\"DCTERMS.language\" title=\"XSD.language\"/>\n",
       "<meta content=\"Ministerie van Onderwijs, Cultuur en Wetenschap\" name=\"DCTERMS.creator\" title=\"RIJKSOVERHEID.Organisatie\"/>\n",
       "<meta content=\"https://www.onderwijsincijfers.nl/\" name=\"DCTERMS.identifier\" title=\"XSD.anyURI\"/>\n",
       "<meta content=\"start=2013-05-14;\" name=\"DCTERMS.available\" title=\"DCTERMS.Period\"/>\n",
       "<meta content=\"2020-09-15T19:00\" name=\"DCTERMS.modified\" title=\"XSD.dateTime\"/>\n",
       "<meta content=\"2013-05-14T11:36\" name=\"DCTERMS.issued\" title=\"XSD.dateTime\"/>\n",
       "<meta content=\"Nederland\" name=\"DCTERMS.spatial\" title=\"OVERHEID.Koninkrijksdeel\"/>\n",
       "<meta content=\"Ministerie van Onderwijs, Cultuur en Wetenschap\" name=\"DCTERMS.publisher\" title=\"RIJKSOVERHEID.Organisatie\"/>\n",
       "<meta content=\"CC0 1.0 Universal\" name=\"DCTERMS.rights\"/>\n",
       "<meta content=\"Ministerie van Onderwijs, Cultuur en Wetenschap\" name=\"DCTERMS.rightsHolder\" title=\"RIJKSOVERHEID.Organisatie\"/>\n",
       "<!--<meta name=\"OVERHEID.authority\" title=\"RIJKSOVERHEID.Organisatie\" content=\"Ministerie van Onderwijs, Cultuur en Wetenschap\"/>-->\n",
       "<meta content=\"webpagina\" name=\"DCTERMS.type\" title=\"RIJKSOVERHEID.Informatietype\"/>\n",
       "<meta content=\"origin\" name=\"referrer\"/>\n",
       "<link href=\"/binaries/content/assets/onderwijs-in-cijfers/iconen/favicon.ico\" rel=\"shortcut icon\" type=\"image/x-icon\"/>\n",
       "<link href=\"/binaries/content/assets/onderwijs-in-cijfers/iconen/touch-icon.png\" rel=\"icon\" sizes=\"192x192\"/>\n",
       "<link href=\"/binaries/content/assets/onderwijs-in-cijfers/iconen/apple-touch-icon.png\" rel=\"apple-touch-icon\"/>\n",
       "<link href=\"/webfiles/1626038182637/presentation/responsive.css\" media=\"all\" rel=\"stylesheet\" type=\"text/css\"/>\n",
       "<link href=\"/binaries/content/assets/onderwijs-in-cijfers/presentation/css/site-violet-200530-1403.css\" media=\"all\" rel=\"stylesheet\" type=\"text/css\"/>\n",
       "<script type=\"text/javascript\">\n",
       "  var isIE = /*@cc_on!@*/false || !!document.documentMode;\n",
       "  if(isIE){\n",
       "    for (var i=0; i<document.styleSheets.length; i++) {\n",
       "      document.styleSheets[i].disabled = true;\n",
       "    }\n",
       "  }\n",
       "</script>\n",
       "<link as=\"style\" href=\"/webfiles/1626038182637/presentation/responsive.css\" rel=\"preload\"/>\n",
       "<link as=\"image\" href=\"/binaries/svg/content/gallery/onderwijs-in-cijfers/channel-afbeeldingen/logo/onderwijs-in-cijfers.svg\" rel=\"preload\"/>\n",
       "<link as=\"script\" href=\"/webfiles/1626038182637/behaviour/core.js\" rel=\"preload\"/>\n",
       "</head>\n",
       "<body class=\"portalclass home\" data-cookiebody=\"{sitenaam} gebruikt cookies om het gebruik van de website te analyseren en het gebruiksgemak te verbeteren. Lees meer over\" data-cookieinfourl=\"cookies\" data-cookieurltext=\"cookies\" data-hartbeattrackingtimer=\"0\" data-measure-statistics=\"true\" data-scriptpath=\"/webfiles/1626038182637/behaviour\" data-statssiteid=\"100\" id=\"government\">\n",
       "<div id=\"mainwrapper\">\n",
       "<header>\n",
       "<div class=\"skiplinks\">\n",
       "<a href=\"#content-wrapper\">Ga direct naar inhoud</a>\n",
       "</div>\n",
       "<div class=\"logo left\">\n",
       "<div class=\"wrapper\">\n",
       "<img alt=\"Logo Onderwijs in Cijfers\" data-fallback=\"/binaries/content/gallery/onderwijs-in-cijfers/channel-afbeeldingen/logo/projectnaam-onderwijs-in-cijfers.png\" id=\"logotype\" src=\"/binaries/svg/content/gallery/onderwijs-in-cijfers/channel-afbeeldingen/logo/onderwijs-in-cijfers.svg\"/>\n",
       "</div>\n",
       "</div>\n",
       "<script type=\"text/javascript\">\n",
       "    var isIE = /*@cc_on!@*/false || !!document.documentMode;\n",
       "    if(isIE){\n",
       "      document.write(\"<p><strong>Onderwijs in cijfers omarmt moderne standaarden en technieken.<br>Uw webbrowser ondersteunt deze standaarden niet. Stap daarom over op een recente browser.</strong></p>\");\n",
       "    }\n",
       "\n",
       "  </script>\n",
       "</header>\n",
       "<div id=\"navBar\">\n",
       "<div class=\"wrapper\">\n",
       "<nav aria-labelledby=\"breadCrumbNavLabel\" class=\"breadCrumbNav\">\n",
       "<span class=\"assistive\" id=\"breadCrumbNavLabel\">U bevindt zich hier:</span>\n",
       "<a aria-current=\"page\" href=\"/\">Home</a>\n",
       "</nav>\n",
       "<div class=\"searchForm\" data-search-closed=\"Open zoekveld\" data-search-opened=\"Start zoeken\" id=\"searchForm\" role=\"search\">\n",
       "<form action=\"/zoeken\" data-clearcontent=\"Invoer wissen\" id=\"search-form\" method=\"get\">\n",
       "<label for=\"search-keyword\">Zoeken binnen Onderwijs in cijfers</label>\n",
       "<input class=\"searchInput\" id=\"search-keyword\" name=\"trefwoord\" placeholder=\"Zoeken\" title=\"Typ hier uw zoektermen\" type=\"text\"/>\n",
       "<button class=\"searchSubmit\" id=\"search-submit\" name=\"search-submit\" title=\"Start zoeken\" type=\"submit\">\n",
       "      Zoek</button>\n",
       "</form>\n",
       "</div>\n",
       "</div>\n",
       "</div><main id=\"content-wrapper\" tabindex=\"-1\">\n",
       "<div class=\"headerImage smallHeaderImage topTask\" data-advance=\"8\" data-pauzetxt=\"Pauzeer diashow\" data-playtxt=\"Speel diashow af\">\n",
       "<div class=\"wrapper\">\n",
       "<div class=\"topTaskNavigation\">\n",
       "<h2>Ga direct naar</h2>\n",
       "<ul>\n",
       "<!-- stub for overriding -->\n",
       "<li>\n",
       "<a href=\"https://www.ocwincijfers.nl/verantwoord-begroten/begroting/dashboard-beleidsagenda-2021\">\n",
       "            Dashboard beleidsagenda 2021</a>\n",
       "</li><!-- stub for overriding -->\n",
       "<li>\n",
       "<a href=\"https://www.ocwincijfers.nl/onderwijs/dashboard-gelijke-kansen\">\n",
       "            Dashboard Gelijke Kansen</a>\n",
       "</li><!-- stub for overriding -->\n",
       "<li>\n",
       "<a href=\"/themas/dashboard-baten-en-lasten-besturen\">\n",
       "            Dashboard Jaarrekeninggegevens</a>\n",
       "</li><!-- stub for overriding -->\n",
       "<li>\n",
       "<a href=\"https://www.ocwincijfers.nl/verantwoord-begroten/dashboard-sectorakkoorden\">\n",
       "            Dashboard sectorakkoorden</a>\n",
       "</li><!-- stub for overriding -->\n",
       "<li>\n",
       "<a href=\"/kengetallen/onderwijs-algemeen/leerlingen-en-studenten/prestaties-voortijdig-schoolverlaten\">\n",
       "            Voortijdig schoolverlaters</a>\n",
       "</li><!-- stub for overriding -->\n",
       "<li>\n",
       "<a aria-label=\"www.onderwijsinderegioincijfers.nl (opent externe website)\" class=\"external\" href=\"http://www.onderwijsinderegioincijfers.nl/\">\n",
       "        www.onderwijsinderegioincijfers.nl</a>\n",
       "</li></ul>\n",
       "</div>\n",
       "</div>\n",
       "<div class=\"slide\" data-img=\"/binaries/large/content/gallery/onderwijs-in-cijfers/attentie-afbeeldingen/bord-img_1871.jpg\">\n",
       "<figure class=\"img-container\">\n",
       "<picture>\n",
       "<source media=\"(max-width: 830px)\" srcset=\"/binaries/medium/content/gallery/onderwijs-in-cijfers/attentie-afbeeldingen/bord-img_1871.jpg\">\n",
       "<source media=\"(max-width: 1250px)\" srcset=\"/binaries/large/content/gallery/onderwijs-in-cijfers/attentie-afbeeldingen/bord-img_1871.jpg\">\n",
       "<img alt=\"\" src=\"/binaries/large/content/gallery/onderwijs-in-cijfers/attentie-afbeeldingen/bord-img_1871.jpg\"/>\n",
       "</source></source></picture>\n",
       "</figure>\n",
       "</div>\n",
       "<div class=\"slide\" data-img=\"/binaries/large/content/gallery/onderwijs-in-cijfers/attentie-afbeeldingen/leraar.jpg\">\n",
       "<figure class=\"img-container\">\n",
       "<picture>\n",
       "<source media=\"(max-width: 830px)\" srcset=\"/binaries/medium/content/gallery/onderwijs-in-cijfers/attentie-afbeeldingen/leraar.jpg\">\n",
       "<source media=\"(max-width: 1250px)\" srcset=\"/binaries/large/content/gallery/onderwijs-in-cijfers/attentie-afbeeldingen/leraar.jpg\">\n",
       "<img alt=\"Rekenles\" src=\"/binaries/large/content/gallery/onderwijs-in-cijfers/attentie-afbeeldingen/leraar.jpg\"/>\n",
       "</source></source></picture>\n",
       "</figure>\n",
       "</div>\n",
       "<div class=\"slide\" data-img=\"/binaries/large/content/gallery/onderwijs-in-cijfers/attentie-afbeeldingen/vo-jpg\">\n",
       "<figure class=\"img-container\">\n",
       "<picture>\n",
       "<source media=\"(max-width: 830px)\" srcset=\"/binaries/medium/content/gallery/onderwijs-in-cijfers/attentie-afbeeldingen/vo-jpg\">\n",
       "<source media=\"(max-width: 1250px)\" srcset=\"/binaries/large/content/gallery/onderwijs-in-cijfers/attentie-afbeeldingen/vo-jpg\">\n",
       "<img alt=\"\" src=\"/binaries/large/content/gallery/onderwijs-in-cijfers/attentie-afbeeldingen/vo-jpg\"/>\n",
       "</source></source></picture>\n",
       "</figure>\n",
       "</div>\n",
       "<div class=\"slide\" data-img=\"/binaries/large/content/gallery/onderwijs-in-cijfers/attentie-afbeeldingen/5488-roc-mondriaan_1.jpg\">\n",
       "<figure class=\"img-container\">\n",
       "<picture>\n",
       "<source media=\"(max-width: 830px)\" srcset=\"/binaries/medium/content/gallery/onderwijs-in-cijfers/attentie-afbeeldingen/5488-roc-mondriaan_1.jpg\">\n",
       "<source media=\"(max-width: 1250px)\" srcset=\"/binaries/large/content/gallery/onderwijs-in-cijfers/attentie-afbeeldingen/5488-roc-mondriaan_1.jpg\">\n",
       "<img alt=\"ROC Mondriaan afdeling autotechniek\" src=\"/binaries/large/content/gallery/onderwijs-in-cijfers/attentie-afbeeldingen/5488-roc-mondriaan_1.jpg\"/>\n",
       "</source></source></picture>\n",
       "</figure>\n",
       "</div>\n",
       "<div class=\"slide\" data-img=\"/binaries/large/content/gallery/onderwijs-in-cijfers/attentie-afbeeldingen/20070817105.jpg\">\n",
       "<figure class=\"img-container\">\n",
       "<picture>\n",
       "<source media=\"(max-width: 830px)\" srcset=\"/binaries/medium/content/gallery/onderwijs-in-cijfers/attentie-afbeeldingen/20070817105.jpg\">\n",
       "<source media=\"(max-width: 1250px)\" srcset=\"/binaries/large/content/gallery/onderwijs-in-cijfers/attentie-afbeeldingen/20070817105.jpg\">\n",
       "<img alt=\"leerlingen voortgezet onderwijs\" src=\"/binaries/large/content/gallery/onderwijs-in-cijfers/attentie-afbeeldingen/20070817105.jpg\"/>\n",
       "</source></source></picture>\n",
       "</figure>\n",
       "</div>\n",
       "<div class=\"slide\" data-img=\"/binaries/large/content/gallery/onderwijs-in-cijfers/attentie-afbeeldingen/hoogleraar.jpg\">\n",
       "<figure class=\"img-container\">\n",
       "<picture>\n",
       "<source media=\"(max-width: 830px)\" srcset=\"/binaries/medium/content/gallery/onderwijs-in-cijfers/attentie-afbeeldingen/hoogleraar.jpg\">\n",
       "<source media=\"(max-width: 1250px)\" srcset=\"/binaries/large/content/gallery/onderwijs-in-cijfers/attentie-afbeeldingen/hoogleraar.jpg\">\n",
       "<img alt=\"Hoogleraar op trap\" src=\"/binaries/large/content/gallery/onderwijs-in-cijfers/attentie-afbeeldingen/hoogleraar.jpg\"/>\n",
       "</source></source></picture>\n",
       "</figure>\n",
       "</div>\n",
       "</div>\n",
       "<div class=\"editorial-navigation\">\n",
       "<div class=\"wrapper\">\n",
       "<nav>\n",
       "<h2 class=\"assistive\">Hoofdmenu</h2>\n",
       "<div class=\"fourItems\">\n",
       "<ul>\n",
       "<li class=\"navItem hasIcon\">\n",
       "<a href=\"/kengetallen/onderwijs-algemeen\">\n",
       "<div class=\"icon\">\n",
       "<img alt=\"\" src=\"/binaries/content/gallery/onderwijs-in-cijfers/iconen-afbeeldingen/4027-school_wit.svg\"/>\n",
       "</div>\n",
       "<div class=\"editorial-navigation-content\">\n",
       "<h3>Onderwijs algemeen</h3>\n",
       "<p>Cijfers over het onderwijs als geheel en onderwerpen zoals niet-bekostigd onderwijs en studiefinanciering</p>\n",
       "</div>\n",
       "</a>\n",
       "</li>\n",
       "<li class=\"navItem hasIcon\">\n",
       "<a href=\"/kengetallen/internationaal\">\n",
       "<div class=\"icon\">\n",
       "<img alt=\"\" src=\"/binaries/content/gallery/onderwijs-in-cijfers/iconen-afbeeldingen/4084-passend-onderwijs_wit.svg\"/>\n",
       "</div>\n",
       "<div class=\"editorial-navigation-content\">\n",
       "<h3>Onderwijs internationaal</h3>\n",
       "<p>Cijfers over het Nederlandse onderwijs in internationaal perspectief en diverse onderzoeken</p>\n",
       "</div>\n",
       "</a>\n",
       "</li>\n",
       "<li class=\"navItem hasIcon\">\n",
       "<a href=\"/kengetallen/po\">\n",
       "<div class=\"icon\">\n",
       "<img alt=\"\" src=\"/binaries/content/gallery/onderwijs-in-cijfers/iconen-afbeeldingen/4057-basisonderwijs.svg_wit.svg\"/>\n",
       "</div>\n",
       "<div class=\"editorial-navigation-content\">\n",
       "<h3>Primair onderwijs</h3>\n",
       "<p>Hoeveel leraren werken hier? Welk schooladvies krijgen leerlingen? Lees hier meer over het po</p>\n",
       "</div>\n",
       "</a>\n",
       "</li>\n",
       "<li class=\"navItem hasIcon\">\n",
       "<a href=\"/kengetallen/vo\">\n",
       "<div class=\"icon\">\n",
       "<img alt=\"\" src=\"/binaries/content/gallery/onderwijs-in-cijfers/iconen-afbeeldingen/4058-voortgezet-onderwijs_wit.svg\"/>\n",
       "</div>\n",
       "<div class=\"editorial-navigation-content\">\n",
       "<h3>Voortgezet onderwijs</h3>\n",
       "<p>Welk profiel kiezen leerlingen? Wat zijn hun slaagpercentages? Lees hier meer over het vo</p>\n",
       "</div>\n",
       "</a>\n",
       "</li>\n",
       "<li class=\"navItem hasIcon\">\n",
       "<a href=\"/kengetallen/mbo\">\n",
       "<div class=\"icon\">\n",
       "<img alt=\"\" src=\"/binaries/content/gallery/onderwijs-in-cijfers/iconen-afbeeldingen/4059-middelbaar-beroepsonderwijs_wit.svg\"/>\n",
       "</div>\n",
       "<div class=\"editorial-navigation-content\">\n",
       "<h3>Middelbaar beroepsonderwijs</h3>\n",
       "<p>Hoe stromen leerlingen door? Wat is hun positie op de arbeidsmarkt? Lees hier meer over het mbo</p>\n",
       "</div>\n",
       "</a>\n",
       "</li>\n",
       "<li class=\"navItem hasIcon\">\n",
       "<a href=\"/kengetallen/hbo\">\n",
       "<div class=\"icon\">\n",
       "<img alt=\"\" src=\"/binaries/content/gallery/onderwijs-in-cijfers/iconen-afbeeldingen/4060-hoger-onderwijs_wit.svg\"/>\n",
       "</div>\n",
       "<div class=\"editorial-navigation-content\">\n",
       "<h3>Hoger beroepsonderwijs</h3>\n",
       "<p>Hoeveel eerstejaars heeft het hbo? Hoe hoog zijn de uitgaven aan deze sector? Lees hier meer over het hbo</p>\n",
       "</div>\n",
       "</a>\n",
       "</li>\n",
       "<li class=\"navItem hasIcon\">\n",
       "<a href=\"/kengetallen/wo\">\n",
       "<div class=\"icon\">\n",
       "<img alt=\"\" src=\"/binaries/content/gallery/onderwijs-in-cijfers/iconen-afbeeldingen/4030-onderwijs-cultuur-wetenschap_wit.svg\"/>\n",
       "</div>\n",
       "<div class=\"editorial-navigation-content\">\n",
       "<h3>Wetenschappelijk onderwijs</h3>\n",
       "<p>Hoe zien de laatste prognoses eruit? Hoeveel promovendi verlaten jaarlijks het wo? Lees hier meer over het wo</p>\n",
       "</div>\n",
       "</a>\n",
       "</li>\n",
       "<li class=\"navItem hasIcon\">\n",
       "<a href=\"/themas\">\n",
       "<div class=\"icon\">\n",
       "<img alt=\"\" src=\"/binaries/content/gallery/onderwijs-in-cijfers/iconen-afbeeldingen/2061-gegevens_wit.svg\"/>\n",
       "</div>\n",
       "<div class=\"editorial-navigation-content\">\n",
       "<h3>Verdiepende artikelen</h3>\n",
       "<p>Overzicht van korte artikelen over onderwerpen zoals stapelen in het vo en techniek in het onderwijs</p>\n",
       "</div>\n",
       "</a>\n",
       "</li>\n",
       "</ul>\n",
       "</div>\n",
       "</nav>\n",
       "</div>\n",
       "</div>\n",
       "<div class=\"wrapper\">\n",
       "<h1 class=\"assistive\">\n",
       "      Onderwijs in Cijfers</h1>\n",
       "<div class=\"article content\">\n",
       "<div class=\"intro\"><p>Onderwijs in Cijfers geeft de belangrijkste cijfermatige informatie over het onderwijs in Nederland.</p>\n",
       "<p>Deze website is een samenwerking tussen het Centraal Bureau voor de Statistiek (CBS), Dienst Uitvoering Onderwijs (DUO) en het ministerie van Onderwijs, Cultuur en Wetenschap (OCW).</p></div>\n",
       "<div class=\"contentBox\">\n",
       "<div class=\"content-image-left\">\n",
       "<figure class=\"img-container\">\n",
       "<a class=\"swbox\" href=\"https://www.onderwijsincijfers.nl/binaries/large/content/gallery/onderwijs-in-cijfers/content-afbeeldingen/logohomepage.png\">\n",
       "<img alt=\"Het logo voor de nieuwsbrief OCW | Trends &amp; Cijfers\" class=\"hasOptions\" data-close=\"Sluiten\" data-closeimage=\"Afbeelding sluiten\" data-download=\"Download afbeelding\" data-enlarge=\"Vergroot afbeelding\" data-enlargeanddownload=\"Vergroten en downloaden\" data-header=\"Delen via\" data-hresimg=\"https://www.onderwijsincijfers.nl/binaries/large/content/gallery/onderwijs-in-cijfers/content-afbeeldingen/logohomepage.png\" data-open=\"Toon opties\" data-options=\"lightbox,share\" data-share=\"Deel afbeelding {afbeeldingnaam} op uw eigen account op {socialmedia}\" data-sharemedia=\"https://www.onderwijsincijfers.nl/binaries/large/content/gallery/onderwijs-in-cijfers/content-afbeeldingen/logohomepage.png\" data-shareplatforms=\"tw,fb,li\" src=\"/binaries/medium/content/gallery/onderwijs-in-cijfers/content-afbeeldingen/logohomepage.png\"/>\n",
       "</a>\n",
       "</figure>\n",
       "</div>\n",
       "<h2><a href=\"https://www.ocwincijfers.nl/actueel/nieuwsbrieven/ocw---trends--cijfers\">Blijf op de hoogte! </a></h2>\n",
       "<p>Meld je aan voor de nieuwsbrief OCW | Trends &amp; Cijfers.</p></div>\n",
       "</div>\n",
       "<div class=\"fullWidthSection\">\n",
       "<section class=\"brickRow nieuws\">\n",
       "<h2>\n",
       "      Nieuws</h2>\n",
       "<div class=\"brick\">\n",
       "<a href=\"/actueel/nieuws/2021/07/01/regioscanner-geactualiseerd\">\n",
       "<h3>\n",
       "\n",
       "      De regioscanner is geactualiseerd en uitgebreid</h3>\n",
       "<div class=\"brick-text\">\n",
       "<p>\n",
       "<span class=\"publDate\">01-07-2021 | 16:19</span>\n",
       "</p>\n",
       "<p>De regioscanner maakt het mogelijk om regio’s en gemeenten wat betreft studenten, onderwijs, arbeidsmarkt, demografie en ...</p>\n",
       "</div>\n",
       "</a>\n",
       "</div>\n",
       "<div class=\"brick\">\n",
       "<a href=\"/actueel/nieuws/2021/04/1/inzicht-in-de-%E2%80%98arbeidsmarkt-en-personeelstekorten%E2%80%99-voor-het-voortgezet-onderwijs\">\n",
       "<h3>\n",
       "\n",
       "      Inzicht in de ‘arbeidsmarkt en personeelstekorten’ voor het voortgezet onderwijs</h3>\n",
       "<div class=\"brick-text\">\n",
       "<p>\n",
       "<span class=\"publDate\">01-04-2021 | 09:00</span>\n",
       "</p>\n",
       "<p>De nieuwe overzichtspagina bevat indicatoren over de huidige situatie en de toekomstige situatie van de arbeidsmarkt, waar spake ...</p>\n",
       "</div>\n",
       "</a>\n",
       "</div>\n",
       "<div class=\"brick\">\n",
       "<a href=\"/actueel/nieuws/2020/12/10/trendrapportage-arbeidsmarkt-leraren-po-vo-en-mbo-2020\">\n",
       "<h3>\n",
       "\n",
       "      Trendrapportage Arbeidsmarkt Leraren po, vo en mbo 2020</h3>\n",
       "<div class=\"brick-text\">\n",
       "<p>\n",
       "<span class=\"publDate\">10-12-2020 | 10:35</span>\n",
       "</p>\n",
       "<p>In de Trendrapportage Arbeidsmarkt Leraren po, vo en mbo 2020 worden de belangrijkste, meest actuele cijfers over leraren en hun ...</p>\n",
       "</div>\n",
       "</a>\n",
       "</div>\n",
       "<div class=\"brick\">\n",
       "<a href=\"/actueel/nieuws/2020/12/08/rapport-timss-2019\">\n",
       "<h3>\n",
       "\n",
       "      Rapport TIMSS-2019</h3>\n",
       "<div class=\"brick-text\">\n",
       "<p>\n",
       "<span class=\"publDate\">08-12-2020 | 10:55</span>\n",
       "</p>\n",
       "<p>Vandaag is het rapport Trends in International Mathematics and Science Study 2019 (TIMSS) aan de Tweede Kamer aangeboden. De ...</p>\n",
       "</div>\n",
       "</a>\n",
       "</div>\n",
       "<div class=\"brick\">\n",
       "<a href=\"/actueel/nieuws/2020/10/29/actualisatie-op-basis-van-roa-en-vsnu-publicaties\">\n",
       "<h3>\n",
       "\n",
       "      Actualisatie op basis van ROA en VSNU publicaties</h3>\n",
       "<div class=\"brick-text\">\n",
       "<p>\n",
       "<span class=\"publDate\">29-10-2020 | 10:05</span>\n",
       "</p>\n",
       "<p>Op Onderwijs in Cijfers zijn de indicatoren die gebaseerd zijn op de ROA Schoolverlaters-Meting 2019, de Kerncijfers ...</p>\n",
       "</div>\n",
       "</a>\n",
       "</div>\n",
       "<div class=\"brick\">\n",
       "<a href=\"/actueel/nieuws/2020/09/12/nieuwe-cijfers\">\n",
       "<h3>\n",
       "\n",
       "      Nieuwe cijfers</h3>\n",
       "<div class=\"brick-text\">\n",
       "<p>\n",
       "<span class=\"publDate\">15-09-2020 | 15:00</span>\n",
       "</p>\n",
       "<p>Met Prinsjesdag zijn enkele indicatoren op  onderwijsincijfers.nl geactualiseerd.</p>\n",
       "</div>\n",
       "</a>\n",
       "</div>\n",
       "<a class=\"more\" href=\"/actueel/nieuws\">Meer nieuws</a>\n",
       "</section>\n",
       "</div><aside>\n",
       "</aside></div>\n",
       "</main>\n",
       "<div id=\"logoBlock\">\n",
       "<div class=\"wrapper\">\n",
       "<h2>Afzenders</h2>\n",
       "<ul>\n",
       "<li>\n",
       "<a href=\"http://www.rijksoverheid.nl/ministeries/ocw\">\n",
       "<img alt=\"Logo Ministerie van Onderwijs, Cultuur en Wetenschap\" data-fallback=\"/binaries/small/content/gallery/onderwijs-in-cijfers/channel-afbeeldingen/footerlogos/ocwlogo.png\" src=\"/binaries/small/content/gallery/onderwijs-in-cijfers/channel-afbeeldingen/footerlogos/ocwlogo.png\"/>\n",
       "</a>\n",
       "</li>\n",
       "<li>\n",
       "<a href=\"https://www.duo.nl/\">\n",
       "<img alt=\"Logo van DUO\" data-fallback=\"/binaries/small/content/gallery/onderwijs-in-cijfers/channel-afbeeldingen/footerlogos/duo_logo.png\" src=\"/binaries/small/content/gallery/onderwijs-in-cijfers/channel-afbeeldingen/footerlogos/duo_logo.png\"/>\n",
       "</a>\n",
       "</li>\n",
       "<li>\n",
       "<a href=\"http://www.cbs.nl/nl-NL/menu/home/default.htm\">\n",
       "<img alt=\"Logo CBS\" data-fallback=\"/binaries/small/content/gallery/onderwijs-in-cijfers/channel-afbeeldingen/footerlogos/cbs_logo.png\" src=\"/binaries/small/content/gallery/onderwijs-in-cijfers/channel-afbeeldingen/footerlogos/cbs_logo.png\"/>\n",
       "</a>\n",
       "</li>\n",
       "</ul>\n",
       "</div>\n",
       "</div>\n",
       "<footer class=\"site-footer\">\n",
       "<div class=\"wrapper\">\n",
       "<div class=\"column\">\n",
       "<h2>Service</h2>\n",
       "<ul>\n",
       "<li>\n",
       "<a href=\"/contact\">Contact</a>\n",
       "</li>\n",
       "<li>\n",
       "<a href=\"/rss\">RSS</a>\n",
       "</li>\n",
       "<li>\n",
       "<a href=\"/sitemap\">Sitemap</a>\n",
       "</li>\n",
       "<li>\n",
       "<a href=\"/help\">Help</a>\n",
       "</li>\n",
       "</ul>\n",
       "</div>\n",
       "<div class=\"column\">\n",
       "<h2>Over deze site</h2>\n",
       "<ul>\n",
       "<li>\n",
       "<a href=\"/copyright\">Copyright</a>\n",
       "</li>\n",
       "<li>\n",
       "<a href=\"/privacy\">Privacy</a>\n",
       "</li>\n",
       "<li>\n",
       "<a href=\"/cookies\">Cookies</a>\n",
       "</li>\n",
       "<li>\n",
       "<a href=\"/toegankelijkheid\">Toegankelijkheid</a>\n",
       "</li>\n",
       "<li>\n",
       "<a href=\"/toelichting-cijfers\">Toelichting cijfers</a>\n",
       "</li>\n",
       "<li>\n",
       "<a href=\"/kwetsbaarheid-melden\">Kwetsbaarheid melden</a>\n",
       "</li>\n",
       "</ul>\n",
       "</div>\n",
       "</div>\n",
       "</footer>\n",
       "</div>\n",
       "<!--[if (gt IE 10)|!(IE)]><!-->\n",
       "<script src=\"/webfiles/1626038182637/behaviour/core.js\"></script>\n",
       "<!--<![endif]-->\n",
       "</body>\n",
       "</html>"
      ]
     },
     "metadata": {},
     "execution_count": 8
    }
   ],
   "metadata": {}
  },
  {
   "cell_type": "markdown",
   "source": [
    "### `.findAll()`\n",
    "\n",
    "Deze regular expression functie is handig voor het vinden van `<a> ... </a>` anchors in de soup object. Hier staan de links in de href parameter."
   ],
   "metadata": {}
  },
  {
   "cell_type": "code",
   "execution_count": 14,
   "source": [
    "html = fetch_html(url)\n",
    "soup = BeautifulSoup(html, features='lxml')\n",
    "soup.findAll('a')"
   ],
   "outputs": [
    {
     "output_type": "execute_result",
     "data": {
      "text/plain": [
       "[<a href=\"#content-wrapper\">Ga direct naar inhoud</a>,\n",
       " <a aria-current=\"page\" href=\"/\">Home</a>,\n",
       " <a href=\"https://www.ocwincijfers.nl/verantwoord-begroten/begroting/dashboard-beleidsagenda-2021\">\n",
       "             Dashboard beleidsagenda 2021</a>,\n",
       " <a href=\"https://www.ocwincijfers.nl/onderwijs/dashboard-gelijke-kansen\">\n",
       "             Dashboard Gelijke Kansen</a>,\n",
       " <a href=\"/themas/dashboard-baten-en-lasten-besturen\">\n",
       "             Dashboard Jaarrekeninggegevens</a>,\n",
       " <a href=\"https://www.ocwincijfers.nl/verantwoord-begroten/dashboard-sectorakkoorden\">\n",
       "             Dashboard sectorakkoorden</a>,\n",
       " <a href=\"/kengetallen/onderwijs-algemeen/leerlingen-en-studenten/prestaties-voortijdig-schoolverlaten\">\n",
       "             Voortijdig schoolverlaters</a>,\n",
       " <a aria-label=\"www.onderwijsinderegioincijfers.nl (opent externe website)\" class=\"external\" href=\"http://www.onderwijsinderegioincijfers.nl/\">\n",
       "         www.onderwijsinderegioincijfers.nl</a>,\n",
       " <a href=\"/kengetallen/onderwijs-algemeen\">\n",
       " <div class=\"icon\">\n",
       " <img alt=\"\" src=\"/binaries/content/gallery/onderwijs-in-cijfers/iconen-afbeeldingen/4027-school_wit.svg\"/>\n",
       " </div>\n",
       " <div class=\"editorial-navigation-content\">\n",
       " <h3>Onderwijs algemeen</h3>\n",
       " <p>Cijfers over het onderwijs als geheel en onderwerpen zoals niet-bekostigd onderwijs en studiefinanciering</p>\n",
       " </div>\n",
       " </a>,\n",
       " <a href=\"/kengetallen/internationaal\">\n",
       " <div class=\"icon\">\n",
       " <img alt=\"\" src=\"/binaries/content/gallery/onderwijs-in-cijfers/iconen-afbeeldingen/4084-passend-onderwijs_wit.svg\"/>\n",
       " </div>\n",
       " <div class=\"editorial-navigation-content\">\n",
       " <h3>Onderwijs internationaal</h3>\n",
       " <p>Cijfers over het Nederlandse onderwijs in internationaal perspectief en diverse onderzoeken</p>\n",
       " </div>\n",
       " </a>,\n",
       " <a href=\"/kengetallen/po\">\n",
       " <div class=\"icon\">\n",
       " <img alt=\"\" src=\"/binaries/content/gallery/onderwijs-in-cijfers/iconen-afbeeldingen/4057-basisonderwijs.svg_wit.svg\"/>\n",
       " </div>\n",
       " <div class=\"editorial-navigation-content\">\n",
       " <h3>Primair onderwijs</h3>\n",
       " <p>Hoeveel leraren werken hier? Welk schooladvies krijgen leerlingen? Lees hier meer over het po</p>\n",
       " </div>\n",
       " </a>,\n",
       " <a href=\"/kengetallen/vo\">\n",
       " <div class=\"icon\">\n",
       " <img alt=\"\" src=\"/binaries/content/gallery/onderwijs-in-cijfers/iconen-afbeeldingen/4058-voortgezet-onderwijs_wit.svg\"/>\n",
       " </div>\n",
       " <div class=\"editorial-navigation-content\">\n",
       " <h3>Voortgezet onderwijs</h3>\n",
       " <p>Welk profiel kiezen leerlingen? Wat zijn hun slaagpercentages? Lees hier meer over het vo</p>\n",
       " </div>\n",
       " </a>,\n",
       " <a href=\"/kengetallen/mbo\">\n",
       " <div class=\"icon\">\n",
       " <img alt=\"\" src=\"/binaries/content/gallery/onderwijs-in-cijfers/iconen-afbeeldingen/4059-middelbaar-beroepsonderwijs_wit.svg\"/>\n",
       " </div>\n",
       " <div class=\"editorial-navigation-content\">\n",
       " <h3>Middelbaar beroepsonderwijs</h3>\n",
       " <p>Hoe stromen leerlingen door? Wat is hun positie op de arbeidsmarkt? Lees hier meer over het mbo</p>\n",
       " </div>\n",
       " </a>,\n",
       " <a href=\"/kengetallen/hbo\">\n",
       " <div class=\"icon\">\n",
       " <img alt=\"\" src=\"/binaries/content/gallery/onderwijs-in-cijfers/iconen-afbeeldingen/4060-hoger-onderwijs_wit.svg\"/>\n",
       " </div>\n",
       " <div class=\"editorial-navigation-content\">\n",
       " <h3>Hoger beroepsonderwijs</h3>\n",
       " <p>Hoeveel eerstejaars heeft het hbo? Hoe hoog zijn de uitgaven aan deze sector? Lees hier meer over het hbo</p>\n",
       " </div>\n",
       " </a>,\n",
       " <a href=\"/kengetallen/wo\">\n",
       " <div class=\"icon\">\n",
       " <img alt=\"\" src=\"/binaries/content/gallery/onderwijs-in-cijfers/iconen-afbeeldingen/4030-onderwijs-cultuur-wetenschap_wit.svg\"/>\n",
       " </div>\n",
       " <div class=\"editorial-navigation-content\">\n",
       " <h3>Wetenschappelijk onderwijs</h3>\n",
       " <p>Hoe zien de laatste prognoses eruit? Hoeveel promovendi verlaten jaarlijks het wo? Lees hier meer over het wo</p>\n",
       " </div>\n",
       " </a>,\n",
       " <a href=\"/themas\">\n",
       " <div class=\"icon\">\n",
       " <img alt=\"\" src=\"/binaries/content/gallery/onderwijs-in-cijfers/iconen-afbeeldingen/2061-gegevens_wit.svg\"/>\n",
       " </div>\n",
       " <div class=\"editorial-navigation-content\">\n",
       " <h3>Verdiepende artikelen</h3>\n",
       " <p>Overzicht van korte artikelen over onderwerpen zoals stapelen in het vo en techniek in het onderwijs</p>\n",
       " </div>\n",
       " </a>,\n",
       " <a class=\"swbox\" href=\"https://www.onderwijsincijfers.nl/binaries/large/content/gallery/onderwijs-in-cijfers/content-afbeeldingen/logohomepage.png\">\n",
       " <img alt=\"Het logo voor de nieuwsbrief OCW | Trends &amp; Cijfers\" class=\"hasOptions\" data-close=\"Sluiten\" data-closeimage=\"Afbeelding sluiten\" data-download=\"Download afbeelding\" data-enlarge=\"Vergroot afbeelding\" data-enlargeanddownload=\"Vergroten en downloaden\" data-header=\"Delen via\" data-hresimg=\"https://www.onderwijsincijfers.nl/binaries/large/content/gallery/onderwijs-in-cijfers/content-afbeeldingen/logohomepage.png\" data-open=\"Toon opties\" data-options=\"lightbox,share\" data-share=\"Deel afbeelding {afbeeldingnaam} op uw eigen account op {socialmedia}\" data-sharemedia=\"https://www.onderwijsincijfers.nl/binaries/large/content/gallery/onderwijs-in-cijfers/content-afbeeldingen/logohomepage.png\" data-shareplatforms=\"tw,fb,li\" src=\"/binaries/medium/content/gallery/onderwijs-in-cijfers/content-afbeeldingen/logohomepage.png\"/>\n",
       " </a>,\n",
       " <a href=\"https://www.ocwincijfers.nl/actueel/nieuwsbrieven/ocw---trends--cijfers\">Blijf op de hoogte! </a>,\n",
       " <a href=\"/actueel/nieuws/2021/07/01/regioscanner-geactualiseerd\">\n",
       " <h3>\n",
       " \n",
       "       De regioscanner is geactualiseerd en uitgebreid</h3>\n",
       " <div class=\"brick-text\">\n",
       " <p>\n",
       " <span class=\"publDate\">01-07-2021 | 16:19</span>\n",
       " </p>\n",
       " <p>De regioscanner maakt het mogelijk om regio’s en gemeenten wat betreft studenten, onderwijs, arbeidsmarkt, demografie en ...</p>\n",
       " </div>\n",
       " </a>,\n",
       " <a href=\"/actueel/nieuws/2021/04/1/inzicht-in-de-%E2%80%98arbeidsmarkt-en-personeelstekorten%E2%80%99-voor-het-voortgezet-onderwijs\">\n",
       " <h3>\n",
       " \n",
       "       Inzicht in de ‘arbeidsmarkt en personeelstekorten’ voor het voortgezet onderwijs</h3>\n",
       " <div class=\"brick-text\">\n",
       " <p>\n",
       " <span class=\"publDate\">01-04-2021 | 09:00</span>\n",
       " </p>\n",
       " <p>De nieuwe overzichtspagina bevat indicatoren over de huidige situatie en de toekomstige situatie van de arbeidsmarkt, waar spake ...</p>\n",
       " </div>\n",
       " </a>,\n",
       " <a href=\"/actueel/nieuws/2020/12/10/trendrapportage-arbeidsmarkt-leraren-po-vo-en-mbo-2020\">\n",
       " <h3>\n",
       " \n",
       "       Trendrapportage Arbeidsmarkt Leraren po, vo en mbo 2020</h3>\n",
       " <div class=\"brick-text\">\n",
       " <p>\n",
       " <span class=\"publDate\">10-12-2020 | 10:35</span>\n",
       " </p>\n",
       " <p>In de Trendrapportage Arbeidsmarkt Leraren po, vo en mbo 2020 worden de belangrijkste, meest actuele cijfers over leraren en hun ...</p>\n",
       " </div>\n",
       " </a>,\n",
       " <a href=\"/actueel/nieuws/2020/12/08/rapport-timss-2019\">\n",
       " <h3>\n",
       " \n",
       "       Rapport TIMSS-2019</h3>\n",
       " <div class=\"brick-text\">\n",
       " <p>\n",
       " <span class=\"publDate\">08-12-2020 | 10:55</span>\n",
       " </p>\n",
       " <p>Vandaag is het rapport Trends in International Mathematics and Science Study 2019 (TIMSS) aan de Tweede Kamer aangeboden. De ...</p>\n",
       " </div>\n",
       " </a>,\n",
       " <a href=\"/actueel/nieuws/2020/10/29/actualisatie-op-basis-van-roa-en-vsnu-publicaties\">\n",
       " <h3>\n",
       " \n",
       "       Actualisatie op basis van ROA en VSNU publicaties</h3>\n",
       " <div class=\"brick-text\">\n",
       " <p>\n",
       " <span class=\"publDate\">29-10-2020 | 10:05</span>\n",
       " </p>\n",
       " <p>Op Onderwijs in Cijfers zijn de indicatoren die gebaseerd zijn op de ROA Schoolverlaters-Meting 2019, de Kerncijfers ...</p>\n",
       " </div>\n",
       " </a>,\n",
       " <a href=\"/actueel/nieuws/2020/09/12/nieuwe-cijfers\">\n",
       " <h3>\n",
       " \n",
       "       Nieuwe cijfers</h3>\n",
       " <div class=\"brick-text\">\n",
       " <p>\n",
       " <span class=\"publDate\">15-09-2020 | 15:00</span>\n",
       " </p>\n",
       " <p>Met Prinsjesdag zijn enkele indicatoren op  onderwijsincijfers.nl geactualiseerd.</p>\n",
       " </div>\n",
       " </a>,\n",
       " <a class=\"more\" href=\"/actueel/nieuws\">Meer nieuws</a>,\n",
       " <a href=\"http://www.rijksoverheid.nl/ministeries/ocw\">\n",
       " <img alt=\"Logo Ministerie van Onderwijs, Cultuur en Wetenschap\" data-fallback=\"/binaries/small/content/gallery/onderwijs-in-cijfers/channel-afbeeldingen/footerlogos/ocwlogo.png\" src=\"/binaries/small/content/gallery/onderwijs-in-cijfers/channel-afbeeldingen/footerlogos/ocwlogo.png\"/>\n",
       " </a>,\n",
       " <a href=\"https://www.duo.nl/\">\n",
       " <img alt=\"Logo van DUO\" data-fallback=\"/binaries/small/content/gallery/onderwijs-in-cijfers/channel-afbeeldingen/footerlogos/duo_logo.png\" src=\"/binaries/small/content/gallery/onderwijs-in-cijfers/channel-afbeeldingen/footerlogos/duo_logo.png\"/>\n",
       " </a>,\n",
       " <a href=\"http://www.cbs.nl/nl-NL/menu/home/default.htm\">\n",
       " <img alt=\"Logo CBS\" data-fallback=\"/binaries/small/content/gallery/onderwijs-in-cijfers/channel-afbeeldingen/footerlogos/cbs_logo.png\" src=\"/binaries/small/content/gallery/onderwijs-in-cijfers/channel-afbeeldingen/footerlogos/cbs_logo.png\"/>\n",
       " </a>,\n",
       " <a href=\"/contact\">Contact</a>,\n",
       " <a href=\"/rss\">RSS</a>,\n",
       " <a href=\"/sitemap\">Sitemap</a>,\n",
       " <a href=\"/help\">Help</a>,\n",
       " <a href=\"/copyright\">Copyright</a>,\n",
       " <a href=\"/privacy\">Privacy</a>,\n",
       " <a href=\"/cookies\">Cookies</a>,\n",
       " <a href=\"/toegankelijkheid\">Toegankelijkheid</a>,\n",
       " <a href=\"/toelichting-cijfers\">Toelichting cijfers</a>,\n",
       " <a href=\"/kwetsbaarheid-melden\">Kwetsbaarheid melden</a>]"
      ]
     },
     "metadata": {},
     "execution_count": 14
    }
   ],
   "metadata": {}
  },
  {
   "cell_type": "markdown",
   "source": [
    "### `urlparse(url)`\n",
    "\n",
    "Deze functie parsed een url in losse onderdelen. Aan deze onderdelen kun je bijvoorbeeld domein, subdomein en scheme ontlenen."
   ],
   "metadata": {}
  },
  {
   "cell_type": "code",
   "execution_count": 17,
   "source": [
    "urlparse('https://www.onderwijsincijfers.nl/binary/andere-hoofdrubrieken/kengetallen/hbo/studenten-hbo/aantallen-ingeschrevenen-hbo/index/hboingeschrevengeslacht2020.csv')"
   ],
   "outputs": [
    {
     "output_type": "execute_result",
     "data": {
      "text/plain": [
       "ParseResult(scheme='https', netloc='www.onderwijsincijfers.nl', path='/binary/andere-hoofdrubrieken/kengetallen/hbo/studenten-hbo/aantallen-ingeschrevenen-hbo/index/hboingeschrevengeslacht2020.csv', params='', query='', fragment='')"
      ]
     },
     "metadata": {},
     "execution_count": 17
    }
   ],
   "metadata": {}
  },
  {
   "cell_type": "markdown",
   "source": [
    "### `urljoin(url, href)`\n",
    "\n",
    "Een href heeft niet altijd een standaardformat, soms zit het hoofddomein in de naam, soms niet, soms begint het met een /, soms niet. `urljoin()` joined de hoofdwebsite url met de href tot een bruikbare subdomein url."
   ],
   "metadata": {}
  },
  {
   "cell_type": "code",
   "execution_count": 18,
   "source": [
    "urljoin('https://www.onderwijsincijfers.nl ', '/binary/andere-hoofdrubrieken/kengetallen/hbo/studenten-hbo/aantallen-ingeschrevenen-hbo/index/hboingeschrevengeslacht2020.csv')"
   ],
   "outputs": [
    {
     "output_type": "execute_result",
     "data": {
      "text/plain": [
       "'https://www.onderwijsincijfers.nl /binary/andere-hoofdrubrieken/kengetallen/hbo/studenten-hbo/aantallen-ingeschrevenen-hbo/index/hboingeschrevengeslacht2020.csv'"
      ]
     },
     "metadata": {},
     "execution_count": 18
    }
   ],
   "metadata": {}
  },
  {
   "cell_type": "markdown",
   "source": [
    "### `requests.get(url)`\n",
    "\n",
    "Deze functie wordt gebruikt in `fetch_html()`. Deze functie pingt de url om een reactie terug te krijgen van de host. Deze functie haalt allerlei bruikbare informatie op en kan verschillende parameters meekrijgen om de gewenste informatie op te halen.\n",
    "\n",
    "Note: als je gebruikt maakt van de parameter `verify=False` kan je een onveilige connectie warning krijgen. Om deze te suppressen moet je `requests.packages.urllib3.disable_warnings(category=InsecureRequestWarning)` aanroepen voor de functie call."
   ],
   "metadata": {}
  },
  {
   "cell_type": "code",
   "execution_count": 20,
   "source": [
    "requests.get(b_url)"
   ],
   "outputs": [
    {
     "output_type": "execute_result",
     "data": {
      "text/plain": [
       "<Response [200]>"
      ]
     },
     "metadata": {},
     "execution_count": 20
    }
   ],
   "metadata": {}
  },
  {
   "cell_type": "code",
   "execution_count": 22,
   "source": [
    "requests.get(b_url).status_code"
   ],
   "outputs": [
    {
     "output_type": "execute_result",
     "data": {
      "text/plain": [
       "200"
      ]
     },
     "metadata": {},
     "execution_count": 22
    }
   ],
   "metadata": {}
  },
  {
   "cell_type": "code",
   "execution_count": 21,
   "source": [
    "requests.get(b_url).text"
   ],
   "outputs": [
    {
     "output_type": "execute_result",
     "data": {
      "text/plain": [
       "rsteunt deze standaarden niet. Stap daarom over op een recente browser.</strong></p>\");\\n    }\\n\\n  </script>\\n  </header>\\n<div id=\"navBar\">\\n  <div class=\"wrapper\">\\n    <nav class=\"breadCrumbNav\" aria-labelledby=\"breadCrumbNavLabel\">\\n  <span class=\"assistive\" id=\"breadCrumbNavLabel\">U bevindt zich hier:</span>\\n  <a href=\"/\" aria-current=\"page\">Home</a>\\n</nav>\\n<div id=\"searchForm\" role=\"search\" class=\"searchForm\" data-search-closed=\"Open zoekveld\" data-search-opened=\"Start zoeken\">\\n  <form method=\"get\" action=\"/zoeken\" id=\"search-form\" data-clearcontent=\"Invoer wissen\">\\n    <label for=\"search-keyword\">Zoeken binnen Onderwijs in cijfers</label>\\n    <input type=\"text\" id=\"search-keyword\" class=\"searchInput\" name=\"trefwoord\"\\n      title=\"Typ hier uw zoektermen\" placeholder=\"Zoeken\" />\\n    <button id=\"search-submit\" class=\"searchSubmit\" name=\"search-submit\" type=\"submit\" \\n        title=\"Start zoeken\">\\n      Zoek</button>\\n  </form>\\n</div>\\n</div>\\n</div><main id=\"content-wrapper\" tabindex=\"-1\">\\n  <div class=\"headerImage smallHeaderImage topTask\"\\n         data-advance=\"8\"\\n         data-pauzetxt=\"Pauzeer diashow\" \\n         data-playtxt=\"Speel diashow af\">\\n        <div class=\"wrapper\">\\n            <div class=\"topTaskNavigation\">\\n                    <h2>Ga direct naar</h2>\\n                    <ul>\\n                            <!-- stub for overriding -->\\n<li>\\n  <a href=\"https://www.ocwincijfers.nl/verantwoord-begroten/begroting/dashboard-beleidsagenda-2021\">\\n            Dashboard beleidsagenda 2021</a>\\n        </li><!-- stub for overriding -->\\n<li>\\n  <a href=\"https://www.ocwincijfers.nl/onderwijs/dashboard-gelijke-kansen\">\\n            Dashboard Gelijke Kansen</a>\\n        </li><!-- stub for overriding -->\\n<li>\\n  <a href=\"/themas/dashboard-baten-en-lasten-besturen\">\\n            Dashboard Jaarrekeninggegevens</a>\\n        </li><!-- stub for overriding -->\\n<li>\\n  <a href=\"https://www.ocwincijfers.nl/verantwoord-begroten/dashboard-sectorakkoorden\">\\n            Dashboard sectorakkoorden</a>\\n        </li><!-- stub for overriding -->\\n<li>\\n  <a href=\"/kengetallen/onderwijs-algemeen/leerlingen-en-studenten/prestaties-voortijdig-schoolverlaten\">\\n            Voortijdig schoolverlaters</a>\\n        </li><!-- stub for overriding -->\\n<li>\\n  <a href=\"http://www.onderwijsinderegioincijfers.nl/\" class=\"external \"\\n        \\n          aria-label=\"www.onderwijsinderegioincijfers.nl (opent externe website)\"\\n        \\n      >\\n        www.onderwijsinderegioincijfers.nl</a>\\n      </li></ul>\\n                    </div>\\n            </div>\\n        <div class=\"slide\"  data-img=\"/binaries/large/content/gallery/onderwijs-in-cijfers/attentie-afbeeldingen/bord-img_1871.jpg\">\\n                  <figure class=\"img-container\">\\n                        <picture>\\n                        <source srcset=\"/binaries/medium/content/gallery/onderwijs-in-cijfers/attentie-afbeeldingen/bord-img_1871.jpg\" media=\"(max-width: 830px)\">\\n                        <source srcset=\"/binaries/large/content/gallery/onderwijs-in-cijfers/attentie-afbeeldingen/bord-img_1871.jpg\" media=\"(max-width: 1250px)\">\\n                        <img src=\"/binaries/large/content/gallery/onderwijs-in-cijfers/attentie-afbeeldingen/bord-img_1871.jpg\" alt=\"\">\\n                    </picture>\\n                    </figure>\\n                </div>\\n            <div class=\"slide\"  data-img=\"/binaries/large/content/gallery/onderwijs-in-cijfers/attentie-afbeeldingen/leraar.jpg\">\\n                  <figure class=\"img-container\">\\n                        <picture>\\n                        <source srcset=\"/binaries/medium/content/gallery/onderwijs-in-cijfers/attentie-afbeeldingen/leraar.jpg\" media=\"(max-width: 830px)\">\\n                        <source srcset=\"/binaries/large/content/gallery/onderwijs-in-cijfers/attentie-afbeeldingen/leraar.jpg\" media=\"(max-width: 1250px)\">\\n                        <img src=\"/binaries/large/content/gallery/onderwijs-in-cijfers/attentie-afbeeldingen/leraar.jpg\" alt=\"Rekenles\">\\n                    </picture>\\n                    </figure>\\n                </div>\\n            <div class=\"slide\"  data-img=\"/binaries/large/content/gallery/onderwijs-in-cijfers/attentie-afbeeldingen/vo-jpg\">\\n                  <figure class=\"img-container\">\\n                        <picture>\\n                        <source srcset=\"/binaries/medium/content/gallery/onderwijs-in-cijfers/attentie-afbeeldingen/vo-jpg\" media=\"(max-width: 830px)\">\\n                        <source srcset=\"/binaries/large/content/gallery/onderwijs-in-cijfers/attentie-afbeeldingen/vo-jpg\" media=\"(max-width: 1250px)\">\\n                        <img src=\"/binaries/large/content/gallery/onderwijs-in-cijfers/attentie-afbeeldingen/vo-jpg\" alt=\"\">\\n                    </picture>\\n                    </figure>\\n                </div>\\n            <div class=\"slide\"  data-img=\"/binaries/large/content/gallery/onderwijs-in-cijfers/attentie-afbeeldingen/5488-roc-mondriaan_1.jpg\">\\n                  <figure class=\"img-container\">\\n                        <picture>\\n                        <source srcset=\"/binaries/medium/content/gallery/onderwijs-in-cijfers/attentie-afbeeldingen/5488-roc-mondriaan_1.jpg\" media=\"(max-width: 830px)\">\\n                        <source srcset=\"/binaries/large/content/gallery/onderwijs-in-cijfers/attentie-afbeeldingen/5488-roc-mondriaan_1.jpg\" media=\"(max-width: 1250px)\">\\n                        <img src=\"/binaries/large/content/gallery/onderwijs-in-cijfers/attentie-afbeeldingen/5488-roc-mondriaan_1.jpg\" alt=\"ROC Mondriaan afdeling autotechniek\">\\n                    </picture>\\n                    </figure>\\n                </div>\\n            <div class=\"slide\"  data-img=\"/binaries/large/content/gallery/onderwijs-in-cijfers/attentie-afbeeldingen/20070817105.jpg\">\\n                  <figure class=\"img-container\">\\n                        <picture>\\n                        <source srcset=\"/binaries/medium/content/gallery/onderwijs-in-cijfers/attentie-afbeeldingen/20070817105.jpg\" media=\"(max-width: 830px)\">\\n                        <source srcset=\"/binaries/large/content/gallery/onderwijs-in-cijfers/attentie-afbeeldingen/20070817105.jpg\" media=\"(max-width: 1250px)\">\\n                        <img src=\"/binaries/large/content/gallery/onderwijs-in-cijfers/attentie-afbeeldingen/20070817105.jpg\" alt=\"leerlingen voortgezet onderwijs\">\\n                    </picture>\\n                    </figure>\\n                </div>\\n            <div class=\"slide\"  data-img=\"/binaries/large/content/gallery/onderwijs-in-cijfers/attentie-afbeeldingen/hoogleraar.jpg\">\\n                  <figure class=\"img-container\">\\n                        <picture>\\n                        <source srcset=\"/binaries/medium/content/gallery/onderwijs-in-cijfers/attentie-afbeeldingen/hoogleraar.jpg\" media=\"(max-width: 830px)\">\\n                        <source srcset=\"/binaries/large/content/gallery/onderwijs-in-cijfers/attentie-afbeeldingen/hoogleraar.jpg\" media=\"(max-width: 1250px)\">\\n                        <img src=\"/binaries/large/content/gallery/onderwijs-in-cijfers/attentie-afbeeldingen/hoogleraar.jpg\" alt=\"Hoogleraar op trap\">\\n                    </picture>\\n                    </figure>\\n                </div>\\n            </div>\\n<div class=\"editorial-navigation\">\\n    <div class=\"wrapper\">\\n    <nav>\\n      <h2 class=\"assistive\">Hoofdmenu</h2>\\n      <div class=\"fourItems\">\\n        <ul>\\n          <li class=\"navItem hasIcon\">\\n                  <a href=\"/kengetallen/onderwijs-algemeen\">\\n                    <div class=\"icon\">\\n                          <img src=\"/binaries/content/gallery/onderwijs-in-cijfers/iconen-afbeeldingen/4027-school_wit.svg\" alt=\"\"/>\\n                        </div>\\n                      <div class=\"editorial-navigation-content\">\\n                      <h3>Onderwijs algemeen</h3>\\n                          <p>Cijfers over het onderwijs als geheel en onderwerpen zoals niet-bekostigd onderwijs en studiefinanciering</p>\\n                        </div>\\n                  </a>\\n                </li>\\n          <li class=\"navItem hasIcon\">\\n                  <a href=\"/kengetallen/internationaal\">\\n                    <div class=\"icon\">\\n                          <img src=\"/binaries/content/gallery/onderwijs-in-cijfers/iconen-afbeeldingen/4084-passend-onderwijs_wit.svg\" alt=\"\"/>\\n                        </div>\\n                      <div class=\"editorial-navigation-content\">\\n                      <h3>Onderwijs internationaal</h3>\\n                          <p>Cijfers over het Nederlandse onderwijs in internationaal perspectief en diverse onderzoeken</p>\\n                        </div>\\n                  </a>\\n                </li>\\n          <li class=\"navItem hasIcon\">\\n                  <a href=\"/kengetallen/po\">\\n                    <div class=\"icon\">\\n                          <img src=\"/binaries/content/gallery/onderwijs-in-cijfers/iconen-afbeeldingen/4057-basisonderwijs.svg_wit.svg\" alt=\"\"/>\\n                        </div>\\n                      <div class=\"editorial-navigation-content\">\\n                      <h3>Primair onderwijs</h3>\\n                          <p>Hoeveel leraren werken hier? Welk schooladvies krijgen leerlingen? Lees hier meer over het po</p>\\n                        </div>\\n                  </a>\\n                </li>\\n          <li class=\"navItem hasIcon\">\\n                  <a href=\"/kengetallen/vo\">\\n                    <div class=\"icon\">\\n                          <img src=\"/binaries/content/gallery/onderwijs-in-cijfers/iconen-afbeeldingen/4058-voortgezet-onderwijs_wit.svg\" alt=\"\"/>\\n                        </div>\\n                      <div class=\"editorial-navigation-content\">\\n                      <h3>Voortgezet onderwijs</h3>\\n                          <p>Welk profiel kiezen leerlingen? Wat zijn hun slaagpercentages? Lees hier meer over het vo</p>\\n                        </div>\\n                  </a>\\n                </li>\\n          <li class=\"navItem hasIcon\">\\n                  <a href=\"/kengetallen/mbo\">\\n                    <div class=\"icon\">\\n                          <img src=\"/binaries/content/gallery/onderwijs-in-cijfers/iconen-afbeeldingen/4059-middelbaar-beroepsonderwijs_wit.svg\" alt=\"\"/>\\n                        </div>\\n                      <div class=\"editorial-navigation-content\">\\n                      <h3>Middelbaar beroepsonderwijs</h3>\\n                          <p>Hoe stromen leerlingen door? Wat is hun positie op de arbeidsmarkt? Lees hier meer over het mbo</p>\\n                        </div>\\n                  </a>\\n                </li>\\n          <li class=\"navItem hasIcon\">\\n                  <a href=\"/kengetallen/hbo\">\\n                    <div class=\"icon\">\\n                          <img src=\"/binaries/content/gallery/onderwijs-in-cijfers/iconen-afbeeldingen/4060-hoger-onderwijs_wit.svg\" alt=\"\"/>\\n                        </div>\\n                      <div class=\"editorial-navigation-content\">\\n                      <h3>Hoger beroepsonderwijs</h3>\\n                          <p>Hoeveel eerstejaars heeft het hbo? Hoe hoog zijn de uitgaven aan deze sector? Lees hier meer over het hbo</p>\\n                        </div>\\n                  </a>\\n                </li>\\n          <li class=\"navItem hasIcon\">\\n                  <a href=\"/kengetallen/wo\">\\n                    <div class=\"icon\">\\n                          <img src=\"/binaries/content/gallery/onderwijs-in-cijfers/iconen-afbeeldingen/4030-onderwijs-cultuur-wetenschap_wit.svg\" alt=\"\"/>\\n                        </div>\\n                      <div class=\"editorial-navigation-content\">\\n                      <h3>Wetenschappelijk onderwijs</h3>\\n                          <p>Hoe zien de laatste prognoses eruit? Hoeveel promovendi verlaten jaarlijks het wo? Lees hier meer over het wo</p>\\n                        </div>\\n                  </a>\\n                </li>\\n          <li class=\"navItem hasIcon\">\\n                  <a href=\"/themas\">\\n                    <div class=\"icon\">\\n                          <img src=\"/binaries/content/gallery/onderwijs-in-cijfers/iconen-afbeeldingen/2061-gegevens_wit.svg\" alt=\"\"/>\\n                        </div>\\n                      <div class=\"editorial-navigation-content\">\\n                      <h3>Verdiepende artikelen</h3>\\n                          <p>Overzicht van korte artikelen over onderwerpen zoals stapelen in het vo en techniek in het onderwijs</p>\\n                        </div>\\n                  </a>\\n                </li>\\n          </ul>\\n      </div>\\n    </nav>\\n\\n    </div>\\n  </div>\\n<div class=\"wrapper\">\\n    <h1 class=\"assistive\">\\n      Onderwijs in Cijfers</h1>\\n<div class=\"article content\">\\n  <div class=\"intro\"><p>Onderwijs in Cijfers geeft de belangrijkste cijfermatige informatie\\xa0over het onderwijs in Nederland.</p>\\n\\n<p>Deze website is een samenwerking tussen het Centraal Bureau voor de Statistiek (CBS), Dienst Uitvoering Onderwijs (DUO) en het ministerie van Onderwijs, Cultuur en Wetenschap (OCW).</p></div>\\n  <div class=\"contentBox\">\\n<div class=\"content-image-left\">\\n    <figure class=\"img-container\">\\n    <a class=\"swbox\" href=\"https://www.onderwijsincijfers.nl/binaries/large/content/gallery/onderwijs-in-cijfers/content-afbeeldingen/logohomepage.png\">\\n      <img\\n        \\n          class=\"hasOptions\"\\n          data-options=\"lightbox,share\"\\n          data-close=\"Sluiten\"\\n          data-open=\"Toon opties\"\\n          data-header=\"Delen via\"\\n          data-share=\"Deel afbeelding {afbeeldingnaam} op uw eigen account op {socialmedia}\"\\n          data-download=\"Download afbeelding\"\\n          data-enlarge=\"Vergroot afbeelding\"\\n          data-enlargeanddownload=\"Vergroten en downloaden\"\\n        \\n          data-shareplatforms=\"tw,fb,li\"\\n          data-sharemedia=\"https://www.onderwijsincijfers.nl/binaries/large/content/gallery/onderwijs-in-cijfers/content-afbeeldingen/logohomepage.png\"\\n        \\n          data-hresimg=\"https://www.onderwijsincijfers.nl/binaries/large/content/gallery/onderwijs-in-cijfers/content-afbeeldingen/logohomepage.png\"\\n        \\n          data-closeimage=\"Afbeelding sluiten\"\\n          src=\"/binaries/medium/content/gallery/onderwijs-in-cijfers/content-afbeeldingen/logohomepage.png\"\\n        \\n          alt=\"Het logo voor de nieuwsbrief OCW | Trends &amp; Cijfers\">\\n        </a>\\n    </figure>\\n  </div>\\n<h2><a href=\"https://www.ocwincijfers.nl/actueel/nieuwsbrieven/ocw---trends--cijfers\">Blijf op de hoogte! </a></h2>\\n\\n<p>Meld je aan voor de nieuwsbrief OCW | Trends &amp; Cijfers.</p></div>\\n</div>\\n<div class=\"fullWidthSection\">\\n  <section class=\"brickRow nieuws\">\\n    <h2>\\n      Nieuws</h2>\\n\\n    <div class=\"brick\">\\n  <a href=\"/actueel/nieuws/2021/07/01/regioscanner-geactualiseerd\">\\n    <h3>\\n\\n      De regioscanner is geactualiseerd en uitgebreid</h3>\\n    <div class=\"brick-text\">\\n        <p>\\n          <span class=\"publDate\">01-07-2021 | 16:19</span>\\n        </p>\\n        <p>De regioscanner maakt het mogelijk om regio’s en gemeenten wat betreft studenten, onderwijs, arbeidsmarkt, demografie en ...</p>\\n        </div>\\n  </a>\\n\\n</div>\\n\\n<div class=\"brick\">\\n  <a href=\"/actueel/nieuws/2021/04/1/inzicht-in-de-%E2%80%98arbeidsmarkt-en-personeelstekorten%E2%80%99-voor-het-voortgezet-onderwijs\">\\n    <h3>\\n\\n      Inzicht in de ‘arbeidsmarkt en personeelstekorten’ voor het voortgezet onderwijs</h3>\\n    <div class=\"brick-text\">\\n        <p>\\n          <span class=\"publDate\">01-04-2021 | 09:00</span>\\n        </p>\\n        <p>De nieuwe overzichtspagina bevat indicatoren over de huidige situatie en de toekomstige situatie van de arbeidsmarkt, waar spake ...</p>\\n        </div>\\n  </a>\\n\\n</div>\\n\\n<div class=\"brick\">\\n  <a href=\"/actueel/nieuws/2020/12/10/trendrapportage-arbeidsmarkt-leraren-po-vo-en-mbo-2020\">\\n    <h3>\\n\\n      Trendrapportage Arbeidsmarkt Leraren po, vo en mbo 2020</h3>\\n    <div class=\"brick-text\">\\n        <p>\\n          <span class=\"publDate\">10-12-2020 | 10:35</span>\\n        </p>\\n        <p>In de Trendrapportage Arbeidsmarkt Leraren po, vo en mbo 2020 worden de belangrijkste, meest actuele cijfers over leraren en hun ...</p>\\n        </div>\\n  </a>\\n\\n</div>\\n\\n<div class=\"brick\">\\n  <a href=\"/actueel/nieuws/2020/12/08/rapport-timss-2019\">\\n    <h3>\\n\\n      Rapport TIMSS-2019</h3>\\n    <div class=\"brick-text\">\\n        <p>\\n          <span class=\"publDate\">08-12-2020 | 10:55</span>\\n        </p>\\n        <p>Vandaag is het rapport Trends in International Mathematics and Science Study 2019 (TIMSS) aan de Tweede Kamer aangeboden. De ...</p>\\n        </div>\\n  </a>\\n\\n</div>\\n\\n<div class=\"brick\">\\n  <a href=\"/actueel/nieuws/2020/10/29/actualisatie-op-basis-van-roa-en-vsnu-publicaties\">\\n    <h3>\\n\\n      Actualisatie op basis van ROA en VSNU publicaties</h3>\\n    <div class=\"brick-text\">\\n        <p>\\n          <span class=\"publDate\">29-10-2020 | 10:05</span>\\n        </p>\\n        <p>Op Onderwijs in Cijfers zijn de indicatoren die gebaseerd zijn op de ROA Schoolverlaters-Meting 2019, de Kerncijfers ...</p>\\n        </div>\\n  </a>\\n\\n</div>\\n\\n<div class=\"brick\">\\n  <a href=\"/actueel/nieuws/2020/09/12/nieuwe-cijfers\">\\n    <h3>\\n\\n      Nieuwe cijfers</h3>\\n    <div class=\"brick-text\">\\n        <p>\\n          <span class=\"publDate\">15-09-2020 | 15:00</span>\\n        </p>\\n        <p>Met Prinsjesdag zijn enkele\\xa0indicatoren op\\xa0 onderwijsincijfers.nl\\xa0geactualiseerd.</p>\\n        </div>\\n  </a>\\n\\n</div>\\n\\n<a class=\"more\" href=\"/actueel/nieuws\">Meer nieuws</a>\\n\\n  </section>\\n\\n</div><aside>\\n\\n  </aside></div>\\n\\n</main>\\n<div id=\"logoBlock\">\\n    <div class=\"wrapper\">\\n      <h2>Afzenders</h2>\\n      <ul>\\n        <li>\\n            <a href=\"http://www.rijksoverheid.nl/ministeries/ocw\">\\n            <img src=\"/binaries/small/content/gallery/onderwijs-in-cijfers/channel-afbeeldingen/footerlogos/ocwlogo.png\" data-fallback=\"/binaries/small/content/gallery/onderwijs-in-cijfers/channel-afbeeldingen/footerlogos/ocwlogo.png\" alt=\"Logo Ministerie van Onderwijs, Cultuur en Wetenschap\"/>\\n            </a>\\n            </li>\\n        <li>\\n            <a href=\"https://www.duo.nl/\">\\n            <img src=\"/binaries/small/content/gallery/onderwijs-in-cijfers/channel-afbeeldingen/footerlogos/duo_logo.png\" data-fallback=\"/binaries/small/content/gallery/onderwijs-in-cijfers/channel-afbeeldingen/footerlogos/duo_logo.png\" alt=\"Logo van DUO\"/>\\n            </a>\\n            </li>\\n        <li>\\n            <a href=\"http://www.cbs.nl/nl-NL/menu/home/default.htm\">\\n            <img src=\"/binaries/small/content/gallery/onderwijs-in-cijfers/channel-afbeeldingen/footerlogos/cbs_logo.png\" data-fallback=\"/binaries/small/content/gallery/onderwijs-in-cijfers/channel-afbeeldingen/footerlogos/cbs_logo.png\" alt=\"Logo CBS\"/>\\n            </a>\\n            </li>\\n        </ul>\\n    </div>\\n  </div>\\n<footer class=\"site-footer\">\\n  <div class=\"wrapper\">\\n\\n    <div class=\"column\">\\n    <h2>Service</h2>\\n    <ul>\\n\\n    <li>\\n        <a href=\"/contact\">Contact</a>\\n      </li>\\n    <li>\\n        <a href=\"/rss\">RSS</a>\\n      </li>\\n    <li>\\n        <a href=\"/sitemap\">Sitemap</a>\\n      </li>\\n    <li>\\n        <a href=\"/help\">Help</a>\\n      </li>\\n    </ul>\\n</div>\\n<div class=\"column\">\\n    <h2>Over deze site</h2>\\n    <ul>\\n\\n    <li>\\n        <a href=\"/copyright\">Copyright</a>\\n      </li>\\n    <li>\\n        <a href=\"/privacy\">Privacy</a>\\n      </li>\\n    <li>\\n        <a href=\"/cookies\">Cookies</a>\\n      </li>\\n    <li>\\n        <a href=\"/toegankelijkheid\">Toegankelijkheid</a>\\n      </li>\\n    <li>\\n        <a href=\"/toelichting-cijfers\">Toelichting cijfers</a>\\n      </li>\\n    <li>\\n        <a href=\"/kwetsbaarheid-melden\">Kwetsbaarheid melden</a>\\n      </li>\\n    </ul>\\n</div>\\n</div>\\n\\n  </footer>\\n</div>\\n\\n<!--[if (gt IE 10)|!(IE)]><!-->\\n<script src=\"/webfiles/1626038182637/behaviour/core.js\"></script>\\n<!--<![endif]-->\\n\\n</body>\\n</html>\\n'"
      ]
     },
     "metadata": {},
     "execution_count": 21
    }
   ],
   "metadata": {}
  },
  {
   "cell_type": "code",
   "execution_count": 23,
   "source": [
    "requests.get(b_url, headers=set_headers())"
   ],
   "outputs": [
    {
     "output_type": "execute_result",
     "data": {
      "text/plain": [
       "<Response [200]>"
      ]
     },
     "metadata": {},
     "execution_count": 23
    }
   ],
   "metadata": {}
  },
  {
   "cell_type": "code",
   "execution_count": 24,
   "source": [
    "requests.get(b_url, verify=False)"
   ],
   "outputs": [
    {
     "output_type": "execute_result",
     "data": {
      "text/plain": [
       "<Response [200]>"
      ]
     },
     "metadata": {},
     "execution_count": 24
    }
   ],
   "metadata": {}
  },
  {
   "cell_type": "code",
   "execution_count": 25,
   "source": [
    "requests.get(b_url, allow_redirects=True)"
   ],
   "outputs": [
    {
     "output_type": "execute_result",
     "data": {
      "text/plain": [
       "<Response [200]>"
      ]
     },
     "metadata": {},
     "execution_count": 25
    }
   ],
   "metadata": {}
  }
 ]
}